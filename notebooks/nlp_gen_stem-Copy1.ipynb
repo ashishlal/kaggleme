{
 "cells": [
  {
   "cell_type": "code",
   "execution_count": 226,
   "metadata": {
    "collapsed": false
   },
   "outputs": [],
   "source": [
    "import pandas as pd\n",
    "import numpy as np\n",
    "from sklearn.feature_extraction import text\n",
    "from nltk.stem.porter import PorterStemmer\n",
    "from nltk.stem.snowball import SnowballStemmer\n",
    "import dask.dataframe as dd\n",
    "from datetime import datetime\n",
    "from csv import DictReader\n",
    "from math import exp, log, sqrt\n",
    "from random import random,shuffle\n",
    "import pickle\n",
    "import sys\n",
    "#from ngram import getUnigram\n",
    "import string\n",
    "import nltk\n",
    "from nltk.util import ngrams # function for making ngrams\n",
    "import re\n",
    "from sklearn import preprocessing as pe\n",
    "from sklearn.model_selection import StratifiedKFold\n",
    "from scipy import sparse as ssp\n",
    "import lightgbm as lgbm\n",
    "import time\n",
    "from scipy.sparse import csr_matrix, hstack\n",
    "from sklearn.metrics import mean_squared_error\n",
    "from math import sqrt\n",
    "from sklearn.model_selection import train_test_split, cross_val_score\n",
    "from sklearn.linear_model import Ridge"
   ]
  },
  {
   "cell_type": "code",
   "execution_count": 188,
   "metadata": {
    "collapsed": true
   },
   "outputs": [],
   "source": [
    "# vectorized error calc\n",
    "def rmsle(y, y0):\n",
    "    assert len(y) == len(y0)\n",
    "    return np.sqrt(np.mean(np.power(np.log1p(y)-np.log1p(y0), 2)))\n",
    "\n",
    "#looping error calc\n",
    "def rmsle_loop(y, y_pred):\n",
    "    assert len(y) == len(y_pred)\n",
    "    terms_to_sum = [(math.log(y_pred[i] + 1) - math.log(y[i] + 1)) ** 2.0 for i,pred in enumerate(y_pred)]\n",
    "    return (sum(terms_to_sum) * (1.0/len(y))) ** 0.5\n",
    "\n",
    "def evalerror(preds, dtrain):\n",
    "    labels = dtrain.get_label()\n",
    "    return 'rmsle', rmsle(labels, preds), False"
   ]
  },
  {
   "cell_type": "code",
   "execution_count": 193,
   "metadata": {
    "collapsed": true
   },
   "outputs": [],
   "source": [
    "def rmse0(y, y_pred):\n",
    "    return sqrt(mean_squared_error(y, y_pred))"
   ]
  },
  {
   "cell_type": "markdown",
   "metadata": {
    "collapsed": true
   },
   "source": [
    "seed = 1024\n",
    "np.random.seed(seed)"
   ]
  },
  {
   "cell_type": "code",
   "execution_count": 3,
   "metadata": {
    "collapsed": false
   },
   "outputs": [],
   "source": [
    "def stem_str(x,stemmer=SnowballStemmer('english')):\n",
    "    try:\n",
    "        x = text.re.sub(\"[^a-zA-Z0-9]\",\" \", x)\n",
    "        x = (\" \").join([stemmer.stem(z) for z in x.split(\" \")])\n",
    "        x = \" \".join(x.split())\n",
    "    except: \n",
    "        print(x)\n",
    "        print('\\n')\n",
    "        return ''\n",
    "    return x"
   ]
  },
  {
   "cell_type": "code",
   "execution_count": 4,
   "metadata": {
    "collapsed": true
   },
   "outputs": [],
   "source": [
    "def remove_digits(x):\n",
    "    x = re.sub(r'\\d+', '', x)\n",
    "    ' '.join(x.split())\n",
    "    return x"
   ]
  },
  {
   "cell_type": "code",
   "execution_count": 154,
   "metadata": {
    "collapsed": true
   },
   "outputs": [],
   "source": [
    "start_time = time.time()"
   ]
  },
  {
   "cell_type": "code",
   "execution_count": 5,
   "metadata": {
    "collapsed": true
   },
   "outputs": [],
   "source": [
    "data = '../data/'\n",
    "cache = '../cache/'\n",
    "\n",
    "train = pd.read_csv(data+\"train.tsv\", sep='\\t')\n",
    "test = pd.read_csv(data+\"test.tsv\", sep='\\t')"
   ]
  },
  {
   "cell_type": "code",
   "execution_count": 6,
   "metadata": {
    "collapsed": false
   },
   "outputs": [
    {
     "data": {
      "text/html": [
       "<div>\n",
       "<table border=\"1\" class=\"dataframe\">\n",
       "  <thead>\n",
       "    <tr style=\"text-align: right;\">\n",
       "      <th></th>\n",
       "      <th>train_id</th>\n",
       "      <th>name</th>\n",
       "      <th>item_condition_id</th>\n",
       "      <th>category_name</th>\n",
       "      <th>brand_name</th>\n",
       "      <th>price</th>\n",
       "      <th>shipping</th>\n",
       "      <th>item_description</th>\n",
       "    </tr>\n",
       "  </thead>\n",
       "  <tbody>\n",
       "    <tr>\n",
       "      <th>0</th>\n",
       "      <td>0</td>\n",
       "      <td>MLB Cincinnati Reds T Shirt Size XL</td>\n",
       "      <td>3</td>\n",
       "      <td>Men/Tops/T-shirts</td>\n",
       "      <td>NaN</td>\n",
       "      <td>10.0</td>\n",
       "      <td>1</td>\n",
       "      <td>No description yet</td>\n",
       "    </tr>\n",
       "    <tr>\n",
       "      <th>1</th>\n",
       "      <td>1</td>\n",
       "      <td>Razer BlackWidow Chroma Keyboard</td>\n",
       "      <td>3</td>\n",
       "      <td>Electronics/Computers &amp; Tablets/Components &amp; P...</td>\n",
       "      <td>Razer</td>\n",
       "      <td>52.0</td>\n",
       "      <td>0</td>\n",
       "      <td>This keyboard is in great condition and works ...</td>\n",
       "    </tr>\n",
       "    <tr>\n",
       "      <th>2</th>\n",
       "      <td>2</td>\n",
       "      <td>AVA-VIV Blouse</td>\n",
       "      <td>1</td>\n",
       "      <td>Women/Tops &amp; Blouses/Blouse</td>\n",
       "      <td>Target</td>\n",
       "      <td>10.0</td>\n",
       "      <td>1</td>\n",
       "      <td>Adorable top with a hint of lace and a key hol...</td>\n",
       "    </tr>\n",
       "    <tr>\n",
       "      <th>3</th>\n",
       "      <td>3</td>\n",
       "      <td>Leather Horse Statues</td>\n",
       "      <td>1</td>\n",
       "      <td>Home/Home Décor/Home Décor Accents</td>\n",
       "      <td>NaN</td>\n",
       "      <td>35.0</td>\n",
       "      <td>1</td>\n",
       "      <td>New with tags. Leather horses. Retail for [rm]...</td>\n",
       "    </tr>\n",
       "    <tr>\n",
       "      <th>4</th>\n",
       "      <td>4</td>\n",
       "      <td>24K GOLD plated rose</td>\n",
       "      <td>1</td>\n",
       "      <td>Women/Jewelry/Necklaces</td>\n",
       "      <td>NaN</td>\n",
       "      <td>44.0</td>\n",
       "      <td>0</td>\n",
       "      <td>Complete with certificate of authenticity</td>\n",
       "    </tr>\n",
       "  </tbody>\n",
       "</table>\n",
       "</div>"
      ],
      "text/plain": [
       "   train_id                                 name  item_condition_id  \\\n",
       "0         0  MLB Cincinnati Reds T Shirt Size XL                  3   \n",
       "1         1     Razer BlackWidow Chroma Keyboard                  3   \n",
       "2         2                       AVA-VIV Blouse                  1   \n",
       "3         3                Leather Horse Statues                  1   \n",
       "4         4                 24K GOLD plated rose                  1   \n",
       "\n",
       "                                       category_name brand_name  price  \\\n",
       "0                                  Men/Tops/T-shirts        NaN   10.0   \n",
       "1  Electronics/Computers & Tablets/Components & P...      Razer   52.0   \n",
       "2                        Women/Tops & Blouses/Blouse     Target   10.0   \n",
       "3                 Home/Home Décor/Home Décor Accents        NaN   35.0   \n",
       "4                            Women/Jewelry/Necklaces        NaN   44.0   \n",
       "\n",
       "   shipping                                   item_description  \n",
       "0         1                                 No description yet  \n",
       "1         0  This keyboard is in great condition and works ...  \n",
       "2         1  Adorable top with a hint of lace and a key hol...  \n",
       "3         1  New with tags. Leather horses. Retail for [rm]...  \n",
       "4         0          Complete with certificate of authenticity  "
      ]
     },
     "execution_count": 6,
     "metadata": {},
     "output_type": "execute_result"
    }
   ],
   "source": [
    "train.head()"
   ]
  },
  {
   "cell_type": "code",
   "execution_count": 7,
   "metadata": {
    "collapsed": false
   },
   "outputs": [
    {
     "data": {
      "text/html": [
       "<div>\n",
       "<table border=\"1\" class=\"dataframe\">\n",
       "  <thead>\n",
       "    <tr style=\"text-align: right;\">\n",
       "      <th></th>\n",
       "      <th>test_id</th>\n",
       "      <th>name</th>\n",
       "      <th>item_condition_id</th>\n",
       "      <th>category_name</th>\n",
       "      <th>brand_name</th>\n",
       "      <th>shipping</th>\n",
       "      <th>item_description</th>\n",
       "    </tr>\n",
       "  </thead>\n",
       "  <tbody>\n",
       "    <tr>\n",
       "      <th>0</th>\n",
       "      <td>0</td>\n",
       "      <td>Breast cancer \"I fight like a girl\" ring</td>\n",
       "      <td>1</td>\n",
       "      <td>Women/Jewelry/Rings</td>\n",
       "      <td>NaN</td>\n",
       "      <td>1</td>\n",
       "      <td>Size 7</td>\n",
       "    </tr>\n",
       "    <tr>\n",
       "      <th>1</th>\n",
       "      <td>1</td>\n",
       "      <td>25 pcs NEW 7.5\"x12\" Kraft Bubble Mailers</td>\n",
       "      <td>1</td>\n",
       "      <td>Other/Office supplies/Shipping Supplies</td>\n",
       "      <td>NaN</td>\n",
       "      <td>1</td>\n",
       "      <td>25 pcs NEW 7.5\"x12\" Kraft Bubble Mailers Lined...</td>\n",
       "    </tr>\n",
       "    <tr>\n",
       "      <th>2</th>\n",
       "      <td>2</td>\n",
       "      <td>Coach bag</td>\n",
       "      <td>1</td>\n",
       "      <td>Vintage &amp; Collectibles/Bags and Purses/Handbag</td>\n",
       "      <td>Coach</td>\n",
       "      <td>1</td>\n",
       "      <td>Brand new coach bag. Bought for [rm] at a Coac...</td>\n",
       "    </tr>\n",
       "    <tr>\n",
       "      <th>3</th>\n",
       "      <td>3</td>\n",
       "      <td>Floral Kimono</td>\n",
       "      <td>2</td>\n",
       "      <td>Women/Sweaters/Cardigan</td>\n",
       "      <td>NaN</td>\n",
       "      <td>0</td>\n",
       "      <td>-floral kimono -never worn -lightweight and pe...</td>\n",
       "    </tr>\n",
       "    <tr>\n",
       "      <th>4</th>\n",
       "      <td>4</td>\n",
       "      <td>Life after Death</td>\n",
       "      <td>3</td>\n",
       "      <td>Other/Books/Religion &amp; Spirituality</td>\n",
       "      <td>NaN</td>\n",
       "      <td>1</td>\n",
       "      <td>Rediscovering life after the loss of a loved o...</td>\n",
       "    </tr>\n",
       "  </tbody>\n",
       "</table>\n",
       "</div>"
      ],
      "text/plain": [
       "   test_id                                      name  item_condition_id  \\\n",
       "0        0  Breast cancer \"I fight like a girl\" ring                  1   \n",
       "1        1  25 pcs NEW 7.5\"x12\" Kraft Bubble Mailers                  1   \n",
       "2        2                                 Coach bag                  1   \n",
       "3        3                             Floral Kimono                  2   \n",
       "4        4                          Life after Death                  3   \n",
       "\n",
       "                                    category_name brand_name  shipping  \\\n",
       "0                             Women/Jewelry/Rings        NaN         1   \n",
       "1         Other/Office supplies/Shipping Supplies        NaN         1   \n",
       "2  Vintage & Collectibles/Bags and Purses/Handbag      Coach         1   \n",
       "3                         Women/Sweaters/Cardigan        NaN         0   \n",
       "4             Other/Books/Religion & Spirituality        NaN         1   \n",
       "\n",
       "                                    item_description  \n",
       "0                                             Size 7  \n",
       "1  25 pcs NEW 7.5\"x12\" Kraft Bubble Mailers Lined...  \n",
       "2  Brand new coach bag. Bought for [rm] at a Coac...  \n",
       "3  -floral kimono -never worn -lightweight and pe...  \n",
       "4  Rediscovering life after the loss of a loved o...  "
      ]
     },
     "execution_count": 7,
     "metadata": {},
     "output_type": "execute_result"
    }
   ],
   "source": [
    "test.head()"
   ]
  },
  {
   "cell_type": "code",
   "execution_count": 8,
   "metadata": {
    "collapsed": true
   },
   "outputs": [],
   "source": [
    "# BNWT: Brand New With Tags\n",
    "# NWT: New With Tags\n",
    "# BNWOT: Brand New Without Tags\n",
    "# NWOT: New With Out Tags\n",
    "# BNIP: Brand New In Packet\n",
    "# NIP: New In Packet\n",
    "# BNIB: Brand New In Box\n",
    "# NIB: New In Box\n",
    "# MIB: Mint In Box\n",
    "# MWOB: Mint With Out Box\n",
    "# MIP: Mint In Packet\n",
    "# MWOP: Mint With Out Packet"
   ]
  },
  {
   "cell_type": "code",
   "execution_count": 10,
   "metadata": {
    "collapsed": false
   },
   "outputs": [],
   "source": [
    "abbr = {}\n",
    "abbr['BNWT'] = ['bnwt', 'brand new with tags']\n",
    "abbr['NWT'] = ['nwt', 'new with tags']\n",
    "abbr['BNWOT'] = ['bnwot', 'brand new with out tags', 'brand new without tags']\n",
    "abbr['NWOT'] = ['nwot', 'new with out tags', 'new without tags']\n",
    "abbr['BNIP'] = ['bnip', 'brand new in packet', 'brand new in packet']\n",
    "abbr['NIP'] = ['nip', 'new in packet', 'new in packet']\n",
    "abbr['BNIB'] = ['bnib', 'brand new in box']\n",
    "abbr['NIB'] = ['nib', 'new in box']\n",
    "abbr['MIB'] = ['mib', 'mint in box']\n",
    "abbr['MWOB'] = ['mwob', 'mint with out box', 'mint without box']\n",
    "abbr['MIP'] = ['mip', 'mint in packet']\n",
    "abbr['MWOP'] = ['mwop', 'mint with out packet', 'mint without packet']"
   ]
  },
  {
   "cell_type": "code",
   "execution_count": 11,
   "metadata": {
    "collapsed": true
   },
   "outputs": [],
   "source": [
    "# features I can think of -\n",
    "# 1. no of times each of the above appear in text\n",
    "# 2. Put prices in bins (not done)\n",
    "# 3. Number of times each category appears in each bin\n",
    "# 4. no of times each item_condition appears in each bin\n",
    "# 5. min price for each category\n",
    "# 6. max price for each category\n",
    "# 7. average price for each category\n",
    "# 8. "
   ]
  },
  {
   "cell_type": "code",
   "execution_count": 12,
   "metadata": {
    "collapsed": false
   },
   "outputs": [],
   "source": [
    "price = train['price'].values\n",
    "train_id = train['train_id'].values\n",
    "test_id = test['test_id'].values"
   ]
  },
  {
   "cell_type": "code",
   "execution_count": 42,
   "metadata": {
    "collapsed": true
   },
   "outputs": [],
   "source": [
    "train_label = train['price']"
   ]
  },
  {
   "cell_type": "code",
   "execution_count": 13,
   "metadata": {
    "collapsed": true
   },
   "outputs": [],
   "source": [
    "del train['price']\n",
    "del train['train_id']\n",
    "del test['test_id']"
   ]
  },
  {
   "cell_type": "code",
   "execution_count": 14,
   "metadata": {
    "collapsed": true
   },
   "outputs": [],
   "source": [
    "df_all = pd.concat((train, test), axis=0, ignore_index=True)"
   ]
  },
  {
   "cell_type": "code",
   "execution_count": 15,
   "metadata": {
    "collapsed": false
   },
   "outputs": [
    {
     "data": {
      "text/plain": [
       "name                      0\n",
       "item_condition_id         0\n",
       "category_name          9385\n",
       "brand_name           928207\n",
       "shipping                  0\n",
       "item_description          4\n",
       "dtype: int64"
      ]
     },
     "execution_count": 15,
     "metadata": {},
     "output_type": "execute_result"
    }
   ],
   "source": [
    "df_all.isnull().sum()"
   ]
  },
  {
   "cell_type": "code",
   "execution_count": 16,
   "metadata": {
    "collapsed": true
   },
   "outputs": [],
   "source": [
    "df_all['item_description'].fillna('Unk', inplace=True)"
   ]
  },
  {
   "cell_type": "code",
   "execution_count": 17,
   "metadata": {
    "collapsed": false
   },
   "outputs": [
    {
     "name": "stdout",
     "output_type": "stream",
     "text": [
      "CPU times: user 39.4 s, sys: 8 ms, total: 39.5 s\n",
      "Wall time: 39.4 s\n"
     ]
    }
   ],
   "source": [
    "%%time\n",
    "# if any(x in str for x in a):\n",
    "df_all['tag'] = df_all['item_description'].map(lambda a: 'BNWT' if any(x in a.lower() for x in abbr['BNWT'])\n",
    "                                               else 'NWT' if any(x in a.lower() for x in abbr['NWT'])\n",
    "                                               else 'BNWOT' if any(x in a.lower() for x in abbr['BNWOT'])\n",
    "                                               else 'NWOT' if any(x in a.lower() for x in abbr['NWOT'])\n",
    "                                               else 'BNIP' if any(x in a.lower() for x in abbr['BNIP'])\n",
    "                                               else 'NIP' if any(x in a.lower() for x in abbr['NIP'])\n",
    "                                               else 'BNIB' if any(x in a.lower() for x in abbr['BNIB'])\n",
    "                                               else 'NIB' if any(x in a.lower() for x in abbr['NIB'])\n",
    "                                               else 'MIB' if any(x in a.lower() for x in abbr['MIB'])\n",
    "                                               else 'MWOB' if any(x in a.lower() for x in abbr['MWOB'])\n",
    "                                               else 'MIP' if any(x in a.lower() for x in abbr['MIP'])\n",
    "                                               else 'MWOP' if any(x in a.lower() for x in abbr['MWOP'])\n",
    "                                               else 'None')\n",
    "                                               "
   ]
  },
  {
   "cell_type": "code",
   "execution_count": 18,
   "metadata": {
    "collapsed": false
   },
   "outputs": [
    {
     "name": "stdout",
     "output_type": "stream",
     "text": [
      "CPU times: user 104 ms, sys: 4 ms, total: 108 ms\n",
      "Wall time: 106 ms\n"
     ]
    }
   ],
   "source": [
    "%%time\n",
    "d = df_all['tag'].value_counts()"
   ]
  },
  {
   "cell_type": "code",
   "execution_count": 19,
   "metadata": {
    "collapsed": false
   },
   "outputs": [
    {
     "data": {
      "text/plain": [
       "None     1975136\n",
       "NWT        84313\n",
       "BNWT       41212\n",
       "NWOT       31096\n",
       "NIB        18286\n",
       "BNIB       15159\n",
       "BNWOT       5919\n",
       "NIP         3398\n",
       "BNIP        1217\n",
       "MIB          122\n",
       "MIP           36\n",
       "Name: tag, dtype: int64"
      ]
     },
     "execution_count": 19,
     "metadata": {},
     "output_type": "execute_result"
    }
   ],
   "source": [
    "d"
   ]
  },
  {
   "cell_type": "code",
   "execution_count": 20,
   "metadata": {
    "collapsed": false
   },
   "outputs": [
    {
     "data": {
      "text/plain": [
       "1975136"
      ]
     },
     "execution_count": 20,
     "metadata": {},
     "output_type": "execute_result"
    }
   ],
   "source": [
    "d['None']"
   ]
  },
  {
   "cell_type": "code",
   "execution_count": 21,
   "metadata": {
    "collapsed": false
   },
   "outputs": [
    {
     "name": "stdout",
     "output_type": "stream",
     "text": [
      "CPU times: user 17.8 s, sys: 56 ms, total: 17.9 s\n",
      "Wall time: 17.9 s\n"
     ]
    }
   ],
   "source": [
    "%%time\n",
    "df_all['tag_count'] = df_all['tag'].map(lambda x: d[x])"
   ]
  },
  {
   "cell_type": "code",
   "execution_count": 22,
   "metadata": {
    "collapsed": false
   },
   "outputs": [
    {
     "name": "stdout",
     "output_type": "stream",
     "text": [
      "CPU times: user 240 ms, sys: 4 ms, total: 244 ms\n",
      "Wall time: 244 ms\n"
     ]
    }
   ],
   "source": [
    "%%time\n",
    "d = df_all['category_name'].value_counts()"
   ]
  },
  {
   "cell_type": "code",
   "execution_count": 23,
   "metadata": {
    "collapsed": true
   },
   "outputs": [],
   "source": [
    "df_all['brand_name'].fillna('UnkB', inplace=True)\n",
    "df_all['category_name'].fillna('UnkC', inplace=True)"
   ]
  },
  {
   "cell_type": "code",
   "execution_count": 24,
   "metadata": {
    "collapsed": false
   },
   "outputs": [
    {
     "name": "stdout",
     "output_type": "stream",
     "text": [
      "CPU times: user 55.6 s, sys: 172 ms, total: 55.8 s\n",
      "Wall time: 55.8 s\n"
     ]
    }
   ],
   "source": [
    "%%time\n",
    "for c in ['brand_name', 'category_name', 'item_condition_id']:\n",
    "    d = df_all[c].value_counts()\n",
    "    df_all[c+'_count'] = df_all[c].map(lambda x: d[x])"
   ]
  },
  {
   "cell_type": "code",
   "execution_count": 25,
   "metadata": {
    "collapsed": false
   },
   "outputs": [
    {
     "name": "stdout",
     "output_type": "stream",
     "text": [
      "CPU times: user 11.4 s, sys: 484 ms, total: 11.9 s\n",
      "Wall time: 11.9 s\n"
     ]
    }
   ],
   "source": [
    "%%time\n",
    "df_all['bci'] = df_all['brand_name'].astype('str') + '_' + df_all['category_name'].astype('str') + '_' + \\\n",
    "                df_all['item_condition_id'].astype('str')\n",
    "    \n",
    "df_all['bc'] = df_all['brand_name'].astype('str') + '_' + df_all['category_name'].astype('str')\n",
    "    \n",
    "df_all['bi'] = df_all['brand_name'].astype('str') + '_' +   df_all['item_condition_id'].astype('str')\n",
    "    \n",
    "df_all['ci'] = df_all['category_name'].astype('str') + '_' + df_all['item_condition_id'].astype('str')"
   ]
  },
  {
   "cell_type": "code",
   "execution_count": 26,
   "metadata": {
    "collapsed": false
   },
   "outputs": [
    {
     "name": "stdout",
     "output_type": "stream",
     "text": [
      "CPU times: user 1min 14s, sys: 184 ms, total: 1min 14s\n",
      "Wall time: 1min 14s\n"
     ]
    }
   ],
   "source": [
    "%%time\n",
    "for c in ['bci', 'bc', 'bi', 'ci']:\n",
    "    d = df_all[c].value_counts()\n",
    "    df_all[c+'_count'] = df_all[c].map(lambda x: d[x])"
   ]
  },
  {
   "cell_type": "code",
   "execution_count": 27,
   "metadata": {
    "collapsed": false
   },
   "outputs": [
    {
     "name": "stdout",
     "output_type": "stream",
     "text": [
      "brand_name 5290\n",
      "category_name 1311\n",
      "item_condition_id 5\n",
      "bci 92981\n",
      "bc 50920\n",
      "bi 12891\n",
      "ci 4736\n",
      "CPU times: user 1.34 s, sys: 4 ms, total: 1.34 s\n",
      "Wall time: 1.33 s\n"
     ]
    }
   ],
   "source": [
    "%%time\n",
    "for c in ['brand_name', 'category_name', 'item_condition_id', 'bci', 'bc', 'bi', 'ci']:\n",
    "    cardinality = len(set(df_all[c]))\n",
    "    print(c, cardinality)"
   ]
  },
  {
   "cell_type": "code",
   "execution_count": 28,
   "metadata": {
    "collapsed": true
   },
   "outputs": [],
   "source": [
    "import psutil\n",
    "import os\n",
    "def print_memory_usage():\n",
    "    print('consuming {:.2f}GB RAM'.format(\n",
    "           psutil.Process(os.getpid()).memory_info().rss / 1073741824),\n",
    "          flush=True)"
   ]
  },
  {
   "cell_type": "code",
   "execution_count": 29,
   "metadata": {
    "collapsed": false
   },
   "outputs": [
    {
     "name": "stdout",
     "output_type": "stream",
     "text": [
      "consuming 1.94GB RAM\n"
     ]
    }
   ],
   "source": [
    "print_memory_usage()"
   ]
  },
  {
   "cell_type": "code",
   "execution_count": 30,
   "metadata": {
    "collapsed": false
   },
   "outputs": [
    {
     "name": "stdout",
     "output_type": "stream",
     "text": [
      "consuming 2.02GB RAM\n",
      "CPU times: user 21.4 s, sys: 48 ms, total: 21.5 s\n",
      "Wall time: 21.4 s\n"
     ]
    }
   ],
   "source": [
    "%%time\n",
    "for c in ['brand_name', 'category_name', 'item_condition_id', 'ci', 'bi']:\n",
    "    lbl = pe.LabelEncoder()\n",
    "    df_all[c+'_lbl_enc'] = lbl.fit_transform(df_all[c].values)\n",
    "print_memory_usage()"
   ]
  },
  {
   "cell_type": "code",
   "execution_count": 31,
   "metadata": {
    "collapsed": false
   },
   "outputs": [
    {
     "name": "stdout",
     "output_type": "stream",
     "text": [
      "CPU times: user 1.16 s, sys: 140 ms, total: 1.3 s\n",
      "Wall time: 1.3 s\n"
     ]
    }
   ],
   "source": [
    "%%time\n",
    "for c in ['bci', 'bc']:\n",
    "    df_all = df_all.drop(c, axis=1)"
   ]
  },
  {
   "cell_type": "code",
   "execution_count": 35,
   "metadata": {
    "collapsed": false
   },
   "outputs": [
    {
     "name": "stdout",
     "output_type": "stream",
     "text": [
      "consuming 1.66GB RAM\n",
      "CPU times: user 8min 41s, sys: 700 ms, total: 8min 41s\n",
      "Wall time: 8min 42s\n"
     ]
    }
   ],
   "source": [
    "%%time\n",
    "df_all['sentiment_score'] = df_all['item_description'].map(lambda x: TextBlob(x).sentiment.polarity)\n",
    "print_memory_usage()"
   ]
  },
  {
   "cell_type": "code",
   "execution_count": 37,
   "metadata": {
    "collapsed": false
   },
   "outputs": [
    {
     "name": "stdout",
     "output_type": "stream",
     "text": [
      "consuming 1.66GB RAM\n",
      "CPU times: user 632 ms, sys: 36 ms, total: 668 ms\n",
      "Wall time: 672 ms\n"
     ]
    }
   ],
   "source": [
    "%%time\n",
    "from textblob import TextBlob\n",
    "df_all['sentiment'] = df_all['sentiment_score'].map(lambda x: 'Pos' if x > 0 else 'Neu' if  x == 0 else 'Neg')\n",
    "print_memory_usage()"
   ]
  },
  {
   "cell_type": "code",
   "execution_count": 38,
   "metadata": {
    "collapsed": false
   },
   "outputs": [
    {
     "name": "stdout",
     "output_type": "stream",
     "text": [
      "consuming 1.67GB RAM\n",
      "CPU times: user 1.48 s, sys: 8 ms, total: 1.49 s\n",
      "Wall time: 1.5 s\n"
     ]
    }
   ],
   "source": [
    "%%time\n",
    "lbl = pe.LabelEncoder()\n",
    "df_all['sentiment'] = lbl.fit_transform(df_all['sentiment'].values)\n",
    "print_memory_usage()"
   ]
  },
  {
   "cell_type": "code",
   "execution_count": 39,
   "metadata": {
    "collapsed": false
   },
   "outputs": [
    {
     "name": "stdout",
     "output_type": "stream",
     "text": [
      "CPU times: user 7.94 s, sys: 40 ms, total: 7.98 s\n",
      "Wall time: 7.99 s\n"
     ]
    }
   ],
   "source": [
    "%%time\n",
    "for c in ['name', 'item_description']:\n",
    "    df_all[c+'_len'] = df_all[c].map(lambda x: len(str(x)))\n",
    "    df_all[c+'_words'] = df_all[c].map(lambda x: len(str(x).split(' '))) "
   ]
  },
  {
   "cell_type": "code",
   "execution_count": 70,
   "metadata": {
    "collapsed": false
   },
   "outputs": [
    {
     "name": "stdout",
     "output_type": "stream",
     "text": [
      "consuming 3.01GB RAM\n",
      "CPU times: user 1.46 s, sys: 16 ms, total: 1.48 s\n",
      "Wall time: 1.48 s\n"
     ]
    }
   ],
   "source": [
    "%%time\n",
    "lbl = pe.LabelEncoder()\n",
    "df_all['tag'] = lbl.fit_transform(df_all['tag'].values)\n",
    "print_memory_usage()"
   ]
  },
  {
   "cell_type": "code",
   "execution_count": 155,
   "metadata": {
    "collapsed": false
   },
   "outputs": [
    {
     "name": "stdout",
     "output_type": "stream",
     "text": [
      "[39.45201539993286] Finished count vectorize `name`\n",
      "[51.663666009902954] Finished count vectorize `category_name`\n",
      "[316.8116579055786] Finished TFIDF vectorize `item_description`\n",
      "CPU times: user 4min 49s, sys: 2.67 s, total: 4min 51s\n",
      "Wall time: 4min 51s\n"
     ]
    }
   ],
   "source": [
    "%%time\n",
    "cv = CountVectorizer(min_df=10)\n",
    "X_name = cv.fit_transform(df_all['name'])\n",
    "print('[{}] Finished count vectorize `name`'.format(time.time() - start_time))\n",
    "\n",
    "cv = CountVectorizer()\n",
    "X_category = cv.fit_transform(df_all['category_name'])\n",
    "print('[{}] Finished count vectorize `category_name`'.format(time.time() - start_time))\n",
    "\n",
    "tv = TfidfVectorizer(max_features=2**16,\n",
    "                     ngram_range=(1, 3),\n",
    "                     stop_words='english')\n",
    "X_description = tv.fit_transform(df_all['item_description'])\n",
    "print('[{}] Finished TFIDF vectorize `item_description`'.format(time.time() - start_time))"
   ]
  },
  {
   "cell_type": "code",
   "execution_count": 195,
   "metadata": {
    "collapsed": false
   },
   "outputs": [
    {
     "name": "stdout",
     "output_type": "stream",
     "text": [
      "[45569.725628852844] Finished SVD `item_description`\n",
      "CPU times: user 29min 48s, sys: 2min 34s, total: 32min 23s\n",
      "Wall time: 20min 39s\n"
     ]
    }
   ],
   "source": [
    "%%time\n",
    "svd = TruncatedSVD(n_components=300, n_iter=25)\n",
    "X_desc = svd.fit_transform(X_description)\n",
    "print('[{}] Finished SVD `item_description`'.format(time.time() - start_time))"
   ]
  },
  {
   "cell_type": "code",
   "execution_count": null,
   "metadata": {
    "collapsed": true
   },
   "outputs": [],
   "source": []
  },
  {
   "cell_type": "code",
   "execution_count": 156,
   "metadata": {
    "collapsed": true
   },
   "outputs": [],
   "source": [
    "df_train = df_all.iloc[:len(train)]\n",
    "df_test = df_all.iloc[len(train):]"
   ]
  },
  {
   "cell_type": "code",
   "execution_count": null,
   "metadata": {
    "collapsed": true
   },
   "outputs": [],
   "source": [
    "# price = train['price'].values\n",
    "# train_id = train['train_id'].values\n",
    "# test_id = test['test_id'].values"
   ]
  },
  {
   "cell_type": "code",
   "execution_count": 157,
   "metadata": {
    "collapsed": true
   },
   "outputs": [],
   "source": [
    "data = '../data/'\n",
    "cache = '../cache/'\n",
    "\n",
    "df_tr = pd.read_csv(data+\"train.tsv\", sep='\\t')\n",
    "# df_test = pd.read_csv(data+\"test.tsv\", sep='\\t')\n",
    "df_tr['lp'] = df_tr['price'].map(lambda x: np.log1p(x))"
   ]
  },
  {
   "cell_type": "code",
   "execution_count": 158,
   "metadata": {
    "collapsed": true
   },
   "outputs": [],
   "source": [
    "train_label = df_tr['lp']"
   ]
  },
  {
   "cell_type": "code",
   "execution_count": 159,
   "metadata": {
    "collapsed": true
   },
   "outputs": [],
   "source": [
    "X = df_train\n",
    "X_test = df_test"
   ]
  },
  {
   "cell_type": "code",
   "execution_count": 160,
   "metadata": {
    "collapsed": false
   },
   "outputs": [],
   "source": [
    "for c in ['name', 'category_name', 'brand_name', 'item_description', 'bi','ci', 'item_condition_id']:\n",
    "    X = X.drop(c, axis=1)\n",
    "    X_test = X_test.drop(c, axis=1)"
   ]
  },
  {
   "cell_type": "code",
   "execution_count": 168,
   "metadata": {
    "collapsed": true
   },
   "outputs": [],
   "source": [
    "X_num = df_all\n",
    "for c in ['name', 'category_name', 'brand_name', 'item_description', 'bi','ci', 'item_condition_id']:\n",
    "    X_num = X_num.drop(c, axis=1)"
   ]
  },
  {
   "cell_type": "code",
   "execution_count": 161,
   "metadata": {
    "collapsed": true
   },
   "outputs": [],
   "source": [
    "pd.set_option('display.max_columns', None)"
   ]
  },
  {
   "cell_type": "code",
   "execution_count": 196,
   "metadata": {
    "collapsed": false,
    "scrolled": true
   },
   "outputs": [
    {
     "data": {
      "text/html": [
       "<div>\n",
       "<table border=\"1\" class=\"dataframe\">\n",
       "  <thead>\n",
       "    <tr style=\"text-align: right;\">\n",
       "      <th></th>\n",
       "      <th>shipping</th>\n",
       "      <th>tag</th>\n",
       "      <th>tag_count</th>\n",
       "      <th>brand_name_count</th>\n",
       "      <th>category_name_count</th>\n",
       "      <th>item_condition_id_count</th>\n",
       "      <th>bci_count</th>\n",
       "      <th>bc_count</th>\n",
       "      <th>bi_count</th>\n",
       "      <th>ci_count</th>\n",
       "      <th>brand_name_lbl_enc</th>\n",
       "      <th>category_name_lbl_enc</th>\n",
       "      <th>item_condition_id_lbl_enc</th>\n",
       "      <th>ci_lbl_enc</th>\n",
       "      <th>bi_lbl_enc</th>\n",
       "      <th>sentiment</th>\n",
       "      <th>sentiment_score</th>\n",
       "      <th>name_len</th>\n",
       "      <th>name_words</th>\n",
       "      <th>item_description_len</th>\n",
       "      <th>item_description_words</th>\n",
       "    </tr>\n",
       "  </thead>\n",
       "  <tbody>\n",
       "    <tr>\n",
       "      <th>0</th>\n",
       "      <td>1</td>\n",
       "      <td>10</td>\n",
       "      <td>1975136</td>\n",
       "      <td>928207</td>\n",
       "      <td>22251</td>\n",
       "      <td>633834</td>\n",
       "      <td>2602</td>\n",
       "      <td>7630</td>\n",
       "      <td>216584</td>\n",
       "      <td>8629</td>\n",
       "      <td>4886</td>\n",
       "      <td>829</td>\n",
       "      <td>2</td>\n",
       "      <td>2808</td>\n",
       "      <td>11903</td>\n",
       "      <td>1</td>\n",
       "      <td>0.000000</td>\n",
       "      <td>35</td>\n",
       "      <td>7</td>\n",
       "      <td>18</td>\n",
       "      <td>3</td>\n",
       "    </tr>\n",
       "    <tr>\n",
       "      <th>1</th>\n",
       "      <td>0</td>\n",
       "      <td>10</td>\n",
       "      <td>1975136</td>\n",
       "      <td>129</td>\n",
       "      <td>1419</td>\n",
       "      <td>633834</td>\n",
       "      <td>15</td>\n",
       "      <td>36</td>\n",
       "      <td>56</td>\n",
       "      <td>539</td>\n",
       "      <td>3889</td>\n",
       "      <td>86</td>\n",
       "      <td>2</td>\n",
       "      <td>351</td>\n",
       "      <td>9523</td>\n",
       "      <td>2</td>\n",
       "      <td>0.900000</td>\n",
       "      <td>32</td>\n",
       "      <td>4</td>\n",
       "      <td>188</td>\n",
       "      <td>36</td>\n",
       "    </tr>\n",
       "    <tr>\n",
       "      <th>2</th>\n",
       "      <td>1</td>\n",
       "      <td>10</td>\n",
       "      <td>1975136</td>\n",
       "      <td>2725</td>\n",
       "      <td>29812</td>\n",
       "      <td>940630</td>\n",
       "      <td>13</td>\n",
       "      <td>59</td>\n",
       "      <td>784</td>\n",
       "      <td>6640</td>\n",
       "      <td>4588</td>\n",
       "      <td>1278</td>\n",
       "      <td>0</td>\n",
       "      <td>4580</td>\n",
       "      <td>11180</td>\n",
       "      <td>2</td>\n",
       "      <td>0.136250</td>\n",
       "      <td>14</td>\n",
       "      <td>2</td>\n",
       "      <td>124</td>\n",
       "      <td>29</td>\n",
       "    </tr>\n",
       "    <tr>\n",
       "      <th>3</th>\n",
       "      <td>1</td>\n",
       "      <td>9</td>\n",
       "      <td>84313</td>\n",
       "      <td>928207</td>\n",
       "      <td>19146</td>\n",
       "      <td>940630</td>\n",
       "      <td>7222</td>\n",
       "      <td>14049</td>\n",
       "      <td>493047</td>\n",
       "      <td>10905</td>\n",
       "      <td>4886</td>\n",
       "      <td>503</td>\n",
       "      <td>0</td>\n",
       "      <td>1535</td>\n",
       "      <td>11901</td>\n",
       "      <td>2</td>\n",
       "      <td>0.232121</td>\n",
       "      <td>21</td>\n",
       "      <td>3</td>\n",
       "      <td>173</td>\n",
       "      <td>32</td>\n",
       "    </tr>\n",
       "    <tr>\n",
       "      <th>4</th>\n",
       "      <td>0</td>\n",
       "      <td>10</td>\n",
       "      <td>1975136</td>\n",
       "      <td>928207</td>\n",
       "      <td>28926</td>\n",
       "      <td>940630</td>\n",
       "      <td>13239</td>\n",
       "      <td>19994</td>\n",
       "      <td>493047</td>\n",
       "      <td>16641</td>\n",
       "      <td>4886</td>\n",
       "      <td>1205</td>\n",
       "      <td>0</td>\n",
       "      <td>4276</td>\n",
       "      <td>11901</td>\n",
       "      <td>2</td>\n",
       "      <td>0.100000</td>\n",
       "      <td>20</td>\n",
       "      <td>4</td>\n",
       "      <td>41</td>\n",
       "      <td>5</td>\n",
       "    </tr>\n",
       "  </tbody>\n",
       "</table>\n",
       "</div>"
      ],
      "text/plain": [
       "   shipping  tag  tag_count  brand_name_count  category_name_count  \\\n",
       "0         1   10    1975136            928207                22251   \n",
       "1         0   10    1975136               129                 1419   \n",
       "2         1   10    1975136              2725                29812   \n",
       "3         1    9      84313            928207                19146   \n",
       "4         0   10    1975136            928207                28926   \n",
       "\n",
       "   item_condition_id_count  bci_count  bc_count  bi_count  ci_count  \\\n",
       "0                   633834       2602      7630    216584      8629   \n",
       "1                   633834         15        36        56       539   \n",
       "2                   940630         13        59       784      6640   \n",
       "3                   940630       7222     14049    493047     10905   \n",
       "4                   940630      13239     19994    493047     16641   \n",
       "\n",
       "   brand_name_lbl_enc  category_name_lbl_enc  item_condition_id_lbl_enc  \\\n",
       "0                4886                    829                          2   \n",
       "1                3889                     86                          2   \n",
       "2                4588                   1278                          0   \n",
       "3                4886                    503                          0   \n",
       "4                4886                   1205                          0   \n",
       "\n",
       "   ci_lbl_enc  bi_lbl_enc  sentiment  sentiment_score  name_len  name_words  \\\n",
       "0        2808       11903          1         0.000000        35           7   \n",
       "1         351        9523          2         0.900000        32           4   \n",
       "2        4580       11180          2         0.136250        14           2   \n",
       "3        1535       11901          2         0.232121        21           3   \n",
       "4        4276       11901          2         0.100000        20           4   \n",
       "\n",
       "   item_description_len  item_description_words  \n",
       "0                    18                       3  \n",
       "1                   188                      36  \n",
       "2                   124                      29  \n",
       "3                   173                      32  \n",
       "4                    41                       5  "
      ]
     },
     "execution_count": 196,
     "metadata": {},
     "output_type": "execute_result"
    }
   ],
   "source": [
    "X_num.head()"
   ]
  },
  {
   "cell_type": "code",
   "execution_count": 163,
   "metadata": {
    "collapsed": false
   },
   "outputs": [
    {
     "name": "stdout",
     "output_type": "stream",
     "text": [
      "(1482535, 21) (693359, 21)\n"
     ]
    }
   ],
   "source": [
    "print(X.shape, X_test.shape)"
   ]
  },
  {
   "cell_type": "code",
   "execution_count": 164,
   "metadata": {
    "collapsed": false
   },
   "outputs": [],
   "source": [
    "del df_tr"
   ]
  },
  {
   "cell_type": "code",
   "execution_count": 217,
   "metadata": {
    "collapsed": false
   },
   "outputs": [
    {
     "name": "stdout",
     "output_type": "stream",
     "text": [
      "[78370.98391628265] Finished to create sparse merge\n",
      "CPU times: user 28.5 s, sys: 988 ms, total: 29.4 s\n",
      "Wall time: 29.4 s\n"
     ]
    }
   ],
   "source": [
    "%%time\n",
    "# sparse_merge = hstack((X_num, X_desc, X_category, X_name)).tocsr()\n",
    "sparse_merge = hstack((X_num, X_description, X_category, X_name)).tocsr()\n",
    "print('[{}] Finished to create sparse merge'.format(time.time() - start_time))"
   ]
  },
  {
   "cell_type": "code",
   "execution_count": 218,
   "metadata": {
    "collapsed": false
   },
   "outputs": [
    {
     "name": "stdout",
     "output_type": "stream",
     "text": [
      "CPU times: user 676 ms, sys: 160 ms, total: 836 ms\n",
      "Wall time: 836 ms\n"
     ]
    }
   ],
   "source": [
    "%%time\n",
    "X = sparse_merge[:len(df_train)]\n",
    "X_test = sparse_merge[len(df_train):]"
   ]
  },
  {
   "cell_type": "code",
   "execution_count": 219,
   "metadata": {
    "collapsed": false
   },
   "outputs": [
    {
     "data": {
      "text/plain": [
       "(1482535, 87836)"
      ]
     },
     "execution_count": 219,
     "metadata": {},
     "output_type": "execute_result"
    }
   ],
   "source": [
    "X.shape"
   ]
  },
  {
   "cell_type": "code",
   "execution_count": 220,
   "metadata": {
    "collapsed": false
   },
   "outputs": [],
   "source": [
    "learning_rate = 0.1\n",
    "num_leaves = 31\n",
    "min_data_in_leaf = 2000\n",
    "feature_fraction = 0.9\n",
    "bagging_fraction = 0.8\n",
    "num_boost_round = 2500\n",
    "params = {\"objective\": \"regression\",\n",
    "           \"boosting_type\": \"gbdt\",\n",
    "           \"learning_rate\": 0.8,\n",
    "           \"num_leaves\": num_leaves,\n",
    "           \"max_bin\": 128,\n",
    "           \"feature_fraction\": feature_fraction,\n",
    "           'bagging_fraction': bagging_fraction,\n",
    "           'metric': 'rmse',\n",
    "           \"verbosity\": 0,\n",
    "           \"drop_rate\": 0.1,\n",
    "           \"is_unbalance\": False,\n",
    "           \"max_drop\": 50,\n",
    "           \"min_child_samples\": 10,\n",
    "           \"min_child_weight\": 150,\n",
    "           \"min_split_gain\": 0,\n",
    "           \"subsample\": 0.9\n",
    "          }\n",
    "params1 = {\n",
    "    'task': 'train',\n",
    "    'boosting_type': 'gbdt',\n",
    "    'objective': 'regression',\n",
    "    'num_leaves': 31,\n",
    "    'learning_rate': 0.05,\n",
    "    'feature_fraction': 0.9,\n",
    "    'bagging_fraction': 0.8,\n",
    "    'bagging_freq': 5,\n",
    "    'verbose': 0\n",
    "}\n",
    "\n",
    "params2 = {\n",
    "        'learning_rate': 0.75,\n",
    "        'application': 'regression',\n",
    "        'max_depth': 3,\n",
    "        'num_leaves': 100,\n",
    "        'verbosity': -1,\n",
    "        'metric': 'RMSE',\n",
    "    }"
   ]
  },
  {
   "cell_type": "code",
   "execution_count": 223,
   "metadata": {
    "collapsed": false
   },
   "outputs": [
    {
     "name": "stdout",
     "output_type": "stream",
     "text": [
      "Train until valid scores didn't improve in 50 rounds.\n",
      "[100]\ttraining's rmse: 0.540822\tvalid_1's rmse: 0.545655\n",
      "[200]\ttraining's rmse: 0.516822\tvalid_1's rmse: 0.522933\n",
      "[300]\ttraining's rmse: 0.503432\tvalid_1's rmse: 0.511139\n",
      "[400]\ttraining's rmse: 0.494188\tvalid_1's rmse: 0.502513\n",
      "[500]\ttraining's rmse: 0.487246\tvalid_1's rmse: 0.496712\n",
      "[600]\ttraining's rmse: 0.48147\tvalid_1's rmse: 0.492126\n",
      "[700]\ttraining's rmse: 0.47702\tvalid_1's rmse: 0.488865\n",
      "[800]\ttraining's rmse: 0.472903\tvalid_1's rmse: 0.485927\n",
      "[900]\ttraining's rmse: 0.468986\tvalid_1's rmse: 0.482945\n",
      "[1000]\ttraining's rmse: 0.466211\tvalid_1's rmse: 0.481099\n",
      "[1100]\ttraining's rmse: 0.463512\tvalid_1's rmse: 0.479164\n",
      "[1200]\ttraining's rmse: 0.460789\tvalid_1's rmse: 0.477341\n",
      "[1300]\ttraining's rmse: 0.458041\tvalid_1's rmse: 0.475666\n",
      "[1400]\ttraining's rmse: 0.455807\tvalid_1's rmse: 0.474257\n",
      "[1500]\ttraining's rmse: 0.45396\tvalid_1's rmse: 0.473115\n",
      "[1600]\ttraining's rmse: 0.452003\tvalid_1's rmse: 0.472163\n",
      "[1700]\ttraining's rmse: 0.450258\tvalid_1's rmse: 0.471153\n",
      "[1800]\ttraining's rmse: 0.448805\tvalid_1's rmse: 0.47067\n",
      "[1900]\ttraining's rmse: 0.447257\tvalid_1's rmse: 0.47002\n",
      "[2000]\ttraining's rmse: 0.445883\tvalid_1's rmse: 0.469504\n",
      "[2100]\ttraining's rmse: 0.444302\tvalid_1's rmse: 0.46882\n",
      "[2200]\ttraining's rmse: 0.442518\tvalid_1's rmse: 0.467877\n",
      "[2300]\ttraining's rmse: 0.441137\tvalid_1's rmse: 0.467245\n",
      "[2400]\ttraining's rmse: 0.43932\tvalid_1's rmse: 0.466224\n",
      "Early stopping, best iteration is:\n",
      "[2444]\ttraining's rmse: 0.438544\tvalid_1's rmse: 0.465802\n",
      "CPU times: user 2h 25min 18s, sys: 4min 48s, total: 2h 30min 6s\n",
      "Wall time: 17min 17s\n"
     ]
    }
   ],
   "source": [
    "%%time\n",
    "y = np.log1p(price)\n",
    "train_X, valid_X, train_y, valid_y = train_test_split(X, y, test_size = 0.1, random_state = 144) \n",
    "d_train = lgbm.Dataset(train_X, label=train_y, max_bin=64)\n",
    "d_valid = lgbm.Dataset(valid_X, label=valid_y, max_bin=64)\n",
    "watchlist = [d_train, d_valid]\n",
    "\n",
    "model = lgbm.train(params2, train_set=d_train, num_boost_round=3600, valid_sets=watchlist, \\\n",
    "early_stopping_rounds=50, verbose_eval=100) \n",
    "preds_lgbm3 = model.predict(X_test)"
   ]
  },
  {
   "cell_type": "code",
   "execution_count": 224,
   "metadata": {
    "collapsed": false
   },
   "outputs": [
    {
     "name": "stdout",
     "output_type": "stream",
     "text": [
      "Train until valid scores didn't improve in 50 rounds.\n",
      "[100]\ttraining's rmse: 0.539543\tvalid_1's rmse: 0.544382\n",
      "[200]\ttraining's rmse: 0.515865\tvalid_1's rmse: 0.52195\n",
      "[300]\ttraining's rmse: 0.502809\tvalid_1's rmse: 0.510357\n",
      "[400]\ttraining's rmse: 0.493498\tvalid_1's rmse: 0.502599\n",
      "[500]\ttraining's rmse: 0.486599\tvalid_1's rmse: 0.497057\n",
      "[600]\ttraining's rmse: 0.481094\tvalid_1's rmse: 0.492783\n",
      "[700]\ttraining's rmse: 0.476692\tvalid_1's rmse: 0.489675\n",
      "[800]\ttraining's rmse: 0.471909\tvalid_1's rmse: 0.485754\n",
      "[900]\ttraining's rmse: 0.467576\tvalid_1's rmse: 0.482353\n",
      "[1000]\ttraining's rmse: 0.46467\tvalid_1's rmse: 0.480561\n",
      "[1100]\ttraining's rmse: 0.461886\tvalid_1's rmse: 0.478773\n",
      "[1200]\ttraining's rmse: 0.459308\tvalid_1's rmse: 0.47724\n",
      "[1300]\ttraining's rmse: 0.456653\tvalid_1's rmse: 0.475319\n",
      "[1400]\ttraining's rmse: 0.454665\tvalid_1's rmse: 0.4742\n",
      "[1500]\ttraining's rmse: 0.452543\tvalid_1's rmse: 0.47309\n",
      "[1600]\ttraining's rmse: 0.450767\tvalid_1's rmse: 0.472103\n",
      "[1700]\ttraining's rmse: 0.448887\tvalid_1's rmse: 0.471216\n",
      "[1800]\ttraining's rmse: 0.447346\tvalid_1's rmse: 0.470462\n",
      "[1900]\ttraining's rmse: 0.445972\tvalid_1's rmse: 0.470049\n",
      "[2000]\ttraining's rmse: 0.444384\tvalid_1's rmse: 0.469226\n",
      "[2100]\ttraining's rmse: 0.44279\tvalid_1's rmse: 0.468455\n",
      "[2200]\ttraining's rmse: 0.441091\tvalid_1's rmse: 0.467499\n",
      "[2300]\ttraining's rmse: 0.439934\tvalid_1's rmse: 0.467089\n",
      "[2400]\ttraining's rmse: 0.438528\tvalid_1's rmse: 0.466726\n",
      "[2500]\ttraining's rmse: 0.437286\tvalid_1's rmse: 0.466162\n",
      "[2600]\ttraining's rmse: 0.436193\tvalid_1's rmse: 0.465812\n",
      "[2700]\ttraining's rmse: 0.434767\tvalid_1's rmse: 0.465201\n",
      "[2800]\ttraining's rmse: 0.433472\tvalid_1's rmse: 0.464486\n",
      "[2900]\ttraining's rmse: 0.432553\tvalid_1's rmse: 0.464335\n",
      "[3000]\ttraining's rmse: 0.431355\tvalid_1's rmse: 0.463905\n",
      "[3100]\ttraining's rmse: 0.430517\tvalid_1's rmse: 0.463684\n",
      "[3200]\ttraining's rmse: 0.429471\tvalid_1's rmse: 0.463296\n",
      "[3300]\ttraining's rmse: 0.428667\tvalid_1's rmse: 0.463186\n",
      "[3400]\ttraining's rmse: 0.42775\tvalid_1's rmse: 0.462959\n",
      "[3500]\ttraining's rmse: 0.426927\tvalid_1's rmse: 0.46282\n",
      "[3600]\ttraining's rmse: 0.426014\tvalid_1's rmse: 0.462565\n",
      "[3700]\ttraining's rmse: 0.425077\tvalid_1's rmse: 0.462249\n",
      "Early stopping, best iteration is:\n",
      "[3737]\ttraining's rmse: 0.424798\tvalid_1's rmse: 0.462208\n",
      "CPU times: user 3h 30min 32s, sys: 6min 49s, total: 3h 37min 22s\n",
      "Wall time: 25min 2s\n"
     ]
    }
   ],
   "source": [
    "%%time\n",
    "y = np.log1p(price)\n",
    "train_X, valid_X, train_y, valid_y = train_test_split(X, y, test_size = 0.1, random_state = 144) \n",
    "d_train = lgbm.Dataset(train_X, label=train_y, max_bin=1024)\n",
    "d_valid = lgbm.Dataset(valid_X, label=valid_y, max_bin=1024)\n",
    "watchlist = [d_train, d_valid]\n",
    "\n",
    "model = lgbm.train(params2, train_set=d_train, num_boost_round=4000, valid_sets=watchlist, \\\n",
    "early_stopping_rounds=50, verbose_eval=100) \n",
    "preds_lgbm_1024 = model.predict(X_test)"
   ]
  },
  {
   "cell_type": "code",
   "execution_count": 222,
   "metadata": {
    "collapsed": false
   },
   "outputs": [
    {
     "name": "stdout",
     "output_type": "stream",
     "text": [
      "Train until valid scores didn't improve in 50 rounds.\n",
      "[100]\ttraining's rmse: 0.539709\tvalid_1's rmse: 0.544375\n",
      "[200]\ttraining's rmse: 0.516489\tvalid_1's rmse: 0.522649\n",
      "[300]\ttraining's rmse: 0.503476\tvalid_1's rmse: 0.510628\n",
      "[400]\ttraining's rmse: 0.493245\tvalid_1's rmse: 0.501681\n",
      "[500]\ttraining's rmse: 0.485844\tvalid_1's rmse: 0.495525\n",
      "[600]\ttraining's rmse: 0.479928\tvalid_1's rmse: 0.491185\n",
      "[700]\ttraining's rmse: 0.475673\tvalid_1's rmse: 0.488227\n",
      "[800]\ttraining's rmse: 0.471837\tvalid_1's rmse: 0.485522\n",
      "[900]\ttraining's rmse: 0.468494\tvalid_1's rmse: 0.483154\n",
      "[1000]\ttraining's rmse: 0.465402\tvalid_1's rmse: 0.481123\n",
      "[1100]\ttraining's rmse: 0.462828\tvalid_1's rmse: 0.479591\n",
      "[1200]\ttraining's rmse: 0.45996\tvalid_1's rmse: 0.477906\n",
      "[1300]\ttraining's rmse: 0.457201\tvalid_1's rmse: 0.475787\n",
      "[1400]\ttraining's rmse: 0.455303\tvalid_1's rmse: 0.474757\n",
      "[1500]\ttraining's rmse: 0.45288\tvalid_1's rmse: 0.473139\n",
      "[1600]\ttraining's rmse: 0.45098\tvalid_1's rmse: 0.472038\n",
      "[1700]\ttraining's rmse: 0.448813\tvalid_1's rmse: 0.470764\n",
      "[1800]\ttraining's rmse: 0.447305\tvalid_1's rmse: 0.470118\n",
      "[1900]\ttraining's rmse: 0.445935\tvalid_1's rmse: 0.469581\n",
      "[2000]\ttraining's rmse: 0.444247\tvalid_1's rmse: 0.468755\n",
      "[2100]\ttraining's rmse: 0.442865\tvalid_1's rmse: 0.468247\n",
      "[2200]\ttraining's rmse: 0.441186\tvalid_1's rmse: 0.467563\n",
      "[2300]\ttraining's rmse: 0.439801\tvalid_1's rmse: 0.467098\n",
      "[2400]\ttraining's rmse: 0.438422\tvalid_1's rmse: 0.466581\n",
      "[2500]\ttraining's rmse: 0.437053\tvalid_1's rmse: 0.465992\n",
      "[2600]\ttraining's rmse: 0.435968\tvalid_1's rmse: 0.46576\n",
      "[2700]\ttraining's rmse: 0.435013\tvalid_1's rmse: 0.465595\n",
      "[2800]\ttraining's rmse: 0.433939\tvalid_1's rmse: 0.46525\n",
      "[2900]\ttraining's rmse: 0.432847\tvalid_1's rmse: 0.465084\n",
      "[3000]\ttraining's rmse: 0.431814\tvalid_1's rmse: 0.46469\n",
      "[3100]\ttraining's rmse: 0.430179\tvalid_1's rmse: 0.463728\n",
      "[3200]\ttraining's rmse: 0.429255\tvalid_1's rmse: 0.463522\n",
      "[3300]\ttraining's rmse: 0.427993\tvalid_1's rmse: 0.463056\n",
      "[3400]\ttraining's rmse: 0.427091\tvalid_1's rmse: 0.462902\n",
      "[3500]\ttraining's rmse: 0.426169\tvalid_1's rmse: 0.462733\n",
      "[3600]\ttraining's rmse: 0.42529\tvalid_1's rmse: 0.462584\n",
      "CPU times: user 3h 22min 15s, sys: 6min 36s, total: 3h 28min 52s\n",
      "Wall time: 24min 2s\n"
     ]
    }
   ],
   "source": [
    "%%time\n",
    "y = np.log1p(price)\n",
    "train_X, valid_X, train_y, valid_y = train_test_split(X, y, test_size = 0.1, random_state = 144) \n",
    "d_train = lgbm.Dataset(train_X, label=train_y, max_bin=256)\n",
    "d_valid = lgbm.Dataset(valid_X, label=valid_y, max_bin=256)\n",
    "watchlist = [d_train, d_valid]\n",
    "\n",
    "model = lgbm.train(params2, train_set=d_train, num_boost_round=3600, valid_sets=watchlist, \\\n",
    "early_stopping_rounds=50, verbose_eval=100) \n",
    "preds_lgbm3 = model.predict(X_test)"
   ]
  },
  {
   "cell_type": "code",
   "execution_count": 227,
   "metadata": {
    "collapsed": false
   },
   "outputs": [
    {
     "name": "stdout",
     "output_type": "stream",
     "text": [
      "[92301.64115858078] Finished to train ridge\n",
      "[92301.74994659424] Finished to predict ridge\n"
     ]
    }
   ],
   "source": [
    "%%time\n",
    "model = Ridge(solver=\"sag\", fit_intercept=True, random_state=205)\n",
    "model.fit(X, y)\n",
    "print('[{}] Finished to train ridge'.format(time.time() - start_time))\n",
    "preds_ridge = model.predict(X=X_test)\n",
    "print('[{}] Finished to predict ridge'.format(time.time() - start_time))"
   ]
  },
  {
   "cell_type": "code",
   "execution_count": null,
   "metadata": {
    "collapsed": true
   },
   "outputs": [],
   "source": []
  },
  {
   "cell_type": "code",
   "execution_count": null,
   "metadata": {
    "collapsed": true
   },
   "outputs": [],
   "source": [
    "preds = preds_lgbm_1024 + preds_ridge\n",
    "submission['price'] = np.expm1(preds)\n",
    "submission.to_csv(\"submission_lgbm_ridge_6.csv\", index=False)\n"
   ]
  },
  {
   "cell_type": "code",
   "execution_count": 221,
   "metadata": {
    "collapsed": false
   },
   "outputs": [
    {
     "name": "stdout",
     "output_type": "stream",
     "text": [
      "Train until valid scores didn't improve in 50 rounds.\n",
      "[100]\ttraining's rmse: 0.540917\tvalid_1's rmse: 0.545491\n",
      "[200]\ttraining's rmse: 0.517184\tvalid_1's rmse: 0.523028\n",
      "[300]\ttraining's rmse: 0.503406\tvalid_1's rmse: 0.510375\n",
      "[400]\ttraining's rmse: 0.494213\tvalid_1's rmse: 0.502486\n",
      "[500]\ttraining's rmse: 0.486534\tvalid_1's rmse: 0.495604\n",
      "[600]\ttraining's rmse: 0.480763\tvalid_1's rmse: 0.491384\n",
      "[700]\ttraining's rmse: 0.47645\tvalid_1's rmse: 0.488293\n",
      "[800]\ttraining's rmse: 0.472079\tvalid_1's rmse: 0.484901\n",
      "[900]\ttraining's rmse: 0.46887\tvalid_1's rmse: 0.482681\n",
      "[1000]\ttraining's rmse: 0.465953\tvalid_1's rmse: 0.480774\n",
      "[1100]\ttraining's rmse: 0.46293\tvalid_1's rmse: 0.4787\n",
      "[1200]\ttraining's rmse: 0.460204\tvalid_1's rmse: 0.476919\n",
      "[1300]\ttraining's rmse: 0.45825\tvalid_1's rmse: 0.475736\n",
      "[1400]\ttraining's rmse: 0.45546\tvalid_1's rmse: 0.473774\n",
      "[1500]\ttraining's rmse: 0.453632\tvalid_1's rmse: 0.472741\n",
      "[1600]\ttraining's rmse: 0.451629\tvalid_1's rmse: 0.471403\n",
      "[1700]\ttraining's rmse: 0.449616\tvalid_1's rmse: 0.470123\n",
      "[1800]\ttraining's rmse: 0.448081\tvalid_1's rmse: 0.469548\n",
      "[1900]\ttraining's rmse: 0.446306\tvalid_1's rmse: 0.468837\n",
      "[2000]\ttraining's rmse: 0.44493\tvalid_1's rmse: 0.468408\n",
      "[2100]\ttraining's rmse: 0.443244\tvalid_1's rmse: 0.467545\n",
      "[2200]\ttraining's rmse: 0.44163\tvalid_1's rmse: 0.466862\n",
      "[2300]\ttraining's rmse: 0.440118\tvalid_1's rmse: 0.466201\n",
      "[2400]\ttraining's rmse: 0.438643\tvalid_1's rmse: 0.465496\n",
      "[2500]\ttraining's rmse: 0.437296\tvalid_1's rmse: 0.464987\n",
      "[2600]\ttraining's rmse: 0.436268\tvalid_1's rmse: 0.464625\n",
      "[2700]\ttraining's rmse: 0.434971\tvalid_1's rmse: 0.464051\n",
      "[2800]\ttraining's rmse: 0.433687\tvalid_1's rmse: 0.463645\n",
      "[2900]\ttraining's rmse: 0.432556\tvalid_1's rmse: 0.46331\n",
      "[3000]\ttraining's rmse: 0.431631\tvalid_1's rmse: 0.463068\n",
      "[3100]\ttraining's rmse: 0.430618\tvalid_1's rmse: 0.462731\n",
      "[3200]\ttraining's rmse: 0.429352\tvalid_1's rmse: 0.462152\n",
      "[3300]\ttraining's rmse: 0.428492\tvalid_1's rmse: 0.462054\n",
      "[3400]\ttraining's rmse: 0.427625\tvalid_1's rmse: 0.461828\n",
      "[3500]\ttraining's rmse: 0.426634\tvalid_1's rmse: 0.461611\n",
      "[3600]\ttraining's rmse: 0.4257\tvalid_1's rmse: 0.461387\n",
      "CPU times: user 3h 20min 5s, sys: 6min 35s, total: 3h 26min 41s\n",
      "Wall time: 23min 42s\n"
     ]
    }
   ],
   "source": [
    "%%time\n",
    "y = np.log1p(price)\n",
    "train_X, valid_X, train_y, valid_y = train_test_split(X, y, test_size = 0.1, random_state = 144) \n",
    "d_train = lgbm.Dataset(train_X, label=train_y, max_bin=128)\n",
    "d_valid = lgbm.Dataset(valid_X, label=valid_y, max_bin=128)\n",
    "watchlist = [d_train, d_valid]\n",
    "\n",
    "model = lgbm.train(params2, train_set=d_train, num_boost_round=3600, valid_sets=watchlist, \\\n",
    "early_stopping_rounds=50, verbose_eval=100) \n",
    "preds_lgbm3 = model.predict(X_test)"
   ]
  },
  {
   "cell_type": "code",
   "execution_count": 214,
   "metadata": {
    "collapsed": false
   },
   "outputs": [
    {
     "name": "stdout",
     "output_type": "stream",
     "text": [
      "Train until valid scores didn't improve in 50 rounds.\n",
      "[100]\ttraining's rmse: 0.541047\tvalid_1's rmse: 0.546165\n",
      "[200]\ttraining's rmse: 0.520315\tvalid_1's rmse: 0.526728\n",
      "[300]\ttraining's rmse: 0.506075\tvalid_1's rmse: 0.514408\n",
      "[400]\ttraining's rmse: 0.497893\tvalid_1's rmse: 0.507885\n",
      "[500]\ttraining's rmse: 0.490743\tvalid_1's rmse: 0.502083\n",
      "[600]\ttraining's rmse: 0.48514\tvalid_1's rmse: 0.497577\n",
      "[700]\ttraining's rmse: 0.481084\tvalid_1's rmse: 0.494833\n",
      "[800]\ttraining's rmse: 0.476951\tvalid_1's rmse: 0.492012\n",
      "[900]\ttraining's rmse: 0.473465\tvalid_1's rmse: 0.489857\n",
      "[1000]\ttraining's rmse: 0.469566\tvalid_1's rmse: 0.487076\n",
      "[1100]\ttraining's rmse: 0.466513\tvalid_1's rmse: 0.485309\n",
      "[1200]\ttraining's rmse: 0.464431\tvalid_1's rmse: 0.484001\n",
      "[1300]\ttraining's rmse: 0.46173\tvalid_1's rmse: 0.482485\n",
      "[1400]\ttraining's rmse: 0.458997\tvalid_1's rmse: 0.481013\n",
      "[1500]\ttraining's rmse: 0.45649\tvalid_1's rmse: 0.479687\n",
      "[1600]\ttraining's rmse: 0.45467\tvalid_1's rmse: 0.478867\n",
      "[1700]\ttraining's rmse: 0.452703\tvalid_1's rmse: 0.47875\n",
      "[1800]\ttraining's rmse: 0.45064\tvalid_1's rmse: 0.477925\n",
      "[1900]\ttraining's rmse: 0.448817\tvalid_1's rmse: 0.47711\n",
      "[2000]\ttraining's rmse: 0.447316\tvalid_1's rmse: 0.476899\n",
      "[2100]\ttraining's rmse: 0.445463\tvalid_1's rmse: 0.475964\n",
      "[2200]\ttraining's rmse: 0.444073\tvalid_1's rmse: 0.475809\n",
      "[2300]\ttraining's rmse: 0.442599\tvalid_1's rmse: 0.475036\n",
      "[2400]\ttraining's rmse: 0.440592\tvalid_1's rmse: 0.47496\n",
      "Early stopping, best iteration is:\n",
      "[2364]\ttraining's rmse: 0.441322\tvalid_1's rmse: 0.474481\n",
      "CPU times: user 4h 19min 25s, sys: 11min 6s, total: 4h 30min 31s\n",
      "Wall time: 59min 59s\n"
     ]
    }
   ],
   "source": [
    "%%time\n",
    "y = np.log1p(price)\n",
    "train_X, valid_X, train_y, valid_y = train_test_split(X, y, test_size = 0.1, random_state = 144) \n",
    "d_train = lgbm.Dataset(train_X, label=train_y, max_bin=8192)\n",
    "d_valid = lgbm.Dataset(valid_X, label=valid_y, max_bin=8192)\n",
    "watchlist = [d_train, d_valid]\n",
    "\n",
    "model = lgbm.train(params2, train_set=d_train, num_boost_round=3600, valid_sets=watchlist, \\\n",
    "early_stopping_rounds=50, verbose_eval=100) \n",
    "preds_lgbm = model.predict(X_test)"
   ]
  },
  {
   "cell_type": "code",
   "execution_count": 216,
   "metadata": {
    "collapsed": false
   },
   "outputs": [
    {
     "name": "stdout",
     "output_type": "stream",
     "text": [
      "Train until valid scores didn't improve in 50 rounds.\n",
      "[100]\ttraining's rmse: 0.541425\tvalid_1's rmse: 0.545742\n",
      "[200]\ttraining's rmse: 0.516507\tvalid_1's rmse: 0.521925\n",
      "[300]\ttraining's rmse: 0.503875\tvalid_1's rmse: 0.510102\n",
      "[400]\ttraining's rmse: 0.495604\tvalid_1's rmse: 0.502645\n",
      "[500]\ttraining's rmse: 0.489324\tvalid_1's rmse: 0.497096\n",
      "[600]\ttraining's rmse: 0.48439\tvalid_1's rmse: 0.493052\n",
      "[700]\ttraining's rmse: 0.480227\tvalid_1's rmse: 0.48978\n",
      "[800]\ttraining's rmse: 0.476627\tvalid_1's rmse: 0.487071\n",
      "[900]\ttraining's rmse: 0.473621\tvalid_1's rmse: 0.484926\n",
      "[1000]\ttraining's rmse: 0.47078\tvalid_1's rmse: 0.483084\n",
      "[1100]\ttraining's rmse: 0.46822\tvalid_1's rmse: 0.481473\n",
      "[1200]\ttraining's rmse: 0.465853\tvalid_1's rmse: 0.480102\n",
      "[1300]\ttraining's rmse: 0.463474\tvalid_1's rmse: 0.478795\n",
      "[1400]\ttraining's rmse: 0.461466\tvalid_1's rmse: 0.477776\n",
      "[1500]\ttraining's rmse: 0.459445\tvalid_1's rmse: 0.476811\n",
      "[1600]\ttraining's rmse: 0.457647\tvalid_1's rmse: 0.475983\n",
      "[1700]\ttraining's rmse: 0.455782\tvalid_1's rmse: 0.47518\n",
      "[1800]\ttraining's rmse: 0.45397\tvalid_1's rmse: 0.474459\n",
      "[1900]\ttraining's rmse: 0.452206\tvalid_1's rmse: 0.473809\n",
      "[2000]\ttraining's rmse: 0.450503\tvalid_1's rmse: 0.473125\n",
      "[2100]\ttraining's rmse: 0.448867\tvalid_1's rmse: 0.472494\n",
      "[2200]\ttraining's rmse: 0.447204\tvalid_1's rmse: 0.471894\n",
      "[2300]\ttraining's rmse: 0.445603\tvalid_1's rmse: 0.471368\n",
      "[2400]\ttraining's rmse: 0.44407\tvalid_1's rmse: 0.470819\n",
      "[2500]\ttraining's rmse: 0.442483\tvalid_1's rmse: 0.470321\n",
      "[2600]\ttraining's rmse: 0.440998\tvalid_1's rmse: 0.469864\n",
      "[2700]\ttraining's rmse: 0.439571\tvalid_1's rmse: 0.469406\n",
      "[2800]\ttraining's rmse: 0.438199\tvalid_1's rmse: 0.46903\n",
      "[2900]\ttraining's rmse: 0.436704\tvalid_1's rmse: 0.468597\n",
      "[3000]\ttraining's rmse: 0.435375\tvalid_1's rmse: 0.468239\n",
      "[3100]\ttraining's rmse: 0.433958\tvalid_1's rmse: 0.467825\n",
      "[3200]\ttraining's rmse: 0.432595\tvalid_1's rmse: 0.467429\n",
      "[3300]\ttraining's rmse: 0.43126\tvalid_1's rmse: 0.467096\n",
      "[3400]\ttraining's rmse: 0.429941\tvalid_1's rmse: 0.466789\n",
      "[3500]\ttraining's rmse: 0.428651\tvalid_1's rmse: 0.466465\n",
      "[3600]\ttraining's rmse: 0.427306\tvalid_1's rmse: 0.466166\n",
      "CPU times: user 11h 23min 13s, sys: 32min, total: 11h 55min 13s\n",
      "Wall time: 1h 42min 3s\n"
     ]
    }
   ],
   "source": [
    "%%time\n",
    "y = np.log1p(price)\n",
    "train_X, valid_X, train_y, valid_y = train_test_split(X, y, test_size = 0.1, random_state = 144) \n",
    "d_train = lgbm.Dataset(train_X, label=train_y)\n",
    "d_valid = lgbm.Dataset(valid_X, label=valid_y)\n",
    "watchlist = [d_train, d_valid]\n",
    "\n",
    "model2 = lgbm.train(params, train_set=d_train, num_boost_round=3600, valid_sets=watchlist, \\\n",
    "early_stopping_rounds=50, verbose_eval=100) \n",
    "preds_lgbm2 = model2.predict(X_test)"
   ]
  },
  {
   "cell_type": "code",
   "execution_count": 208,
   "metadata": {
    "collapsed": false
   },
   "outputs": [
    {
     "name": "stderr",
     "output_type": "stream",
     "text": [
      "/opt/conda/lib/python3.6/site-packages/sklearn/model_selection/_split.py:591: Warning: The least populated class in y has only 1 members, which is too few. The minimum number of groups for any class cannot be less than n_splits=5.\n",
      "  % (min_groups, self.n_splits)), Warning)\n"
     ]
    },
    {
     "name": "stdout",
     "output_type": "stream",
     "text": [
      "[      0       2       3 ..., 1482532 1482533 1482534] [      1       5      11 ..., 1482514 1482518 1482522]\n",
      "Train until valid scores didn't improve in 50 rounds.\n",
      "[100]\tvalid_0's rmse: 0.544875\n",
      "[200]\tvalid_0's rmse: 0.520821\n",
      "[300]\tvalid_0's rmse: 0.509097\n",
      "[400]\tvalid_0's rmse: 0.501528\n",
      "[500]\tvalid_0's rmse: 0.49613\n",
      "[600]\tvalid_0's rmse: 0.492172\n",
      "[700]\tvalid_0's rmse: 0.489076\n",
      "[800]\tvalid_0's rmse: 0.486318\n",
      "[900]\tvalid_0's rmse: 0.484153\n",
      "[1000]\tvalid_0's rmse: 0.482463\n",
      "[1100]\tvalid_0's rmse: 0.480875\n",
      "[1200]\tvalid_0's rmse: 0.479539\n",
      "[1300]\tvalid_0's rmse: 0.478362\n",
      "[1400]\tvalid_0's rmse: 0.477222\n",
      "[1500]\tvalid_0's rmse: 0.476243\n",
      "[1600]\tvalid_0's rmse: 0.47545\n",
      "[1700]\tvalid_0's rmse: 0.474648\n",
      "[1800]\tvalid_0's rmse: 0.473909\n",
      "[1900]\tvalid_0's rmse: 0.473189\n",
      "[2000]\tvalid_0's rmse: 0.47246\n",
      "[2100]\tvalid_0's rmse: 0.471887\n",
      "[2200]\tvalid_0's rmse: 0.471287\n",
      "[2300]\tvalid_0's rmse: 0.470646\n",
      "[2400]\tvalid_0's rmse: 0.470101\n",
      "[2500]\tvalid_0's rmse: 0.469602\n",
      "0.46960205822249146\n",
      "cv score:\n",
      "2.7548781141907615\n",
      "current score: 2.7548781141907615 1\n",
      "[0.46960205822249146]\n",
      "[-1] -1.0\n",
      "[2.7548781141907615]\n",
      "CPU times: user 7h 31min 17s, sys: 20min 53s, total: 7h 52min 10s\n",
      "Wall time: 1h 6min 23s\n"
     ]
    }
   ],
   "source": [
    "%%time\n",
    "x_score = []\n",
    "final_cv_train = np.zeros(len(train_label))\n",
    "final_cv_pred = np.zeros(len(test_id))\n",
    "cv_only = True\n",
    "save_cv = True\n",
    "full_train = False\n",
    "NFOLDS = 5\n",
    "kfold = StratifiedKFold(n_splits=NFOLDS, shuffle=True, random_state=218)\n",
    "\n",
    "for s in range(1):\n",
    "    cv_train = np.zeros(len(train_label))\n",
    "    cv_pred = np.zeros(len(test_id))\n",
    "\n",
    "    params['seed'] = s\n",
    "\n",
    "    if cv_only:\n",
    "        kf = kfold.split(X, train_label)\n",
    "\n",
    "        best_trees = []\n",
    "        fold_scores = []\n",
    "\n",
    "        for i, (train_fold, validate) in enumerate(kf):\n",
    "            if i > 0:\n",
    "                continue\n",
    "            print(train_fold, validate)\n",
    "#             train_fold = [1,2,3]\n",
    "#             x1 = X[train_fold, :]\n",
    "#             x2 =  X[validate, :]\n",
    "#             y1 = train_label[train_fold]\n",
    "#             y2 = train_label[validate]\n",
    "            X_train, X_validate, label_train, label_validate = \\\n",
    "                X[train_fold, :], X[validate, :], train_label.ix[train_fold], train_label.ix[validate]\n",
    "            dtrain = lgbm.Dataset(X_train, label_train)\n",
    "            dvalid = lgbm.Dataset(X_validate, label_validate, reference=dtrain)\n",
    "            bst = lgbm.train(params, dtrain, num_boost_round, valid_sets=dvalid, verbose_eval=100,\n",
    "                            early_stopping_rounds=50)\n",
    "            best_trees.append(bst.best_iteration)\n",
    "            cv_pred += bst.predict(X_test, num_iteration=bst.best_iteration)\n",
    "            cv_train[validate] += bst.predict(X_validate)\n",
    "\n",
    "            score = rmse0(label_validate, cv_train[validate])\n",
    "            print(score)\n",
    "            fold_scores.append(score)\n",
    "\n",
    "        cv_pred /= NFOLDS\n",
    "        final_cv_train += cv_train\n",
    "        final_cv_pred += cv_pred\n",
    "\n",
    "        print(\"cv score:\")\n",
    "        print(rmse0(train_label, cv_train))\n",
    "        print(\"current score:\", rmse0(train_label, final_cv_train / (s + 1.)), s+1)\n",
    "        print(fold_scores)\n",
    "        print(best_trees, np.mean(best_trees))\n",
    "\n",
    "        x_score.append(rmse0(train_label, cv_train))\n",
    "\n",
    "print(x_score)\n",
    "# 0.443656"
   ]
  },
  {
   "cell_type": "code",
   "execution_count": null,
   "metadata": {
    "collapsed": true
   },
   "outputs": [],
   "source": [
    "now = datetime.now().strftime('%Y_%m_%d_%H_%M_%S')\n",
    "fn = '../submissions/sub.2l.{}.{}GMT'.format(final_score, now)\n",
    "pd.DataFrame({'id': test_id, 'target': final_cv_pred / 16.}).to_csv(fn, index=False)\n",
    "# pd.DataFrame({'id': train_id, 'target': final_cv_train / 16.}).to_csv('../cache/lgbm3_cv_avg.csv', index=False)"
   ]
  },
  {
   "cell_type": "code",
   "execution_count": null,
   "metadata": {
    "collapsed": true
   },
   "outputs": [],
   "source": []
  },
  {
   "cell_type": "code",
   "execution_count": null,
   "metadata": {
    "collapsed": true
   },
   "outputs": [],
   "source": []
  },
  {
   "cell_type": "code",
   "execution_count": 42,
   "metadata": {
    "collapsed": true
   },
   "outputs": [],
   "source": [
    "# df_all['tag'] = df_all['item_description'].map(lambda a: 'NWT' if any(x in a.lower() for x in ['nwt', 'new with tags']) \n",
    "#                                                else 'None')"
   ]
  },
  {
   "cell_type": "code",
   "execution_count": 40,
   "metadata": {
    "collapsed": false
   },
   "outputs": [
    {
     "data": {
      "text/html": [
       "<div>\n",
       "<table border=\"1\" class=\"dataframe\">\n",
       "  <thead>\n",
       "    <tr style=\"text-align: right;\">\n",
       "      <th></th>\n",
       "      <th>name</th>\n",
       "      <th>item_condition_id</th>\n",
       "      <th>category_name</th>\n",
       "      <th>brand_name</th>\n",
       "      <th>shipping</th>\n",
       "      <th>item_description</th>\n",
       "      <th>tag</th>\n",
       "      <th>tag_count</th>\n",
       "      <th>brand_name_count</th>\n",
       "      <th>category_name_count</th>\n",
       "      <th>...</th>\n",
       "      <th>category_name_lbl_enc</th>\n",
       "      <th>item_condition_id_lbl_enc</th>\n",
       "      <th>ci_lbl_enc</th>\n",
       "      <th>bi_lbl_enc</th>\n",
       "      <th>sentiment</th>\n",
       "      <th>sentiment_score</th>\n",
       "      <th>name_len</th>\n",
       "      <th>name_words</th>\n",
       "      <th>item_description_len</th>\n",
       "      <th>item_description_words</th>\n",
       "    </tr>\n",
       "  </thead>\n",
       "  <tbody>\n",
       "    <tr>\n",
       "      <th>0</th>\n",
       "      <td>MLB Cincinnati Reds T Shirt Size XL</td>\n",
       "      <td>3</td>\n",
       "      <td>Men/Tops/T-shirts</td>\n",
       "      <td>UnkB</td>\n",
       "      <td>1</td>\n",
       "      <td>No description yet</td>\n",
       "      <td>None</td>\n",
       "      <td>1975136</td>\n",
       "      <td>928207</td>\n",
       "      <td>22251</td>\n",
       "      <td>...</td>\n",
       "      <td>829</td>\n",
       "      <td>2</td>\n",
       "      <td>2808</td>\n",
       "      <td>11903</td>\n",
       "      <td>1</td>\n",
       "      <td>0.000000</td>\n",
       "      <td>35</td>\n",
       "      <td>7</td>\n",
       "      <td>18</td>\n",
       "      <td>3</td>\n",
       "    </tr>\n",
       "    <tr>\n",
       "      <th>1</th>\n",
       "      <td>Razer BlackWidow Chroma Keyboard</td>\n",
       "      <td>3</td>\n",
       "      <td>Electronics/Computers &amp; Tablets/Components &amp; P...</td>\n",
       "      <td>Razer</td>\n",
       "      <td>0</td>\n",
       "      <td>This keyboard is in great condition and works ...</td>\n",
       "      <td>None</td>\n",
       "      <td>1975136</td>\n",
       "      <td>129</td>\n",
       "      <td>1419</td>\n",
       "      <td>...</td>\n",
       "      <td>86</td>\n",
       "      <td>2</td>\n",
       "      <td>351</td>\n",
       "      <td>9523</td>\n",
       "      <td>2</td>\n",
       "      <td>0.900000</td>\n",
       "      <td>32</td>\n",
       "      <td>4</td>\n",
       "      <td>188</td>\n",
       "      <td>36</td>\n",
       "    </tr>\n",
       "    <tr>\n",
       "      <th>2</th>\n",
       "      <td>AVA-VIV Blouse</td>\n",
       "      <td>1</td>\n",
       "      <td>Women/Tops &amp; Blouses/Blouse</td>\n",
       "      <td>Target</td>\n",
       "      <td>1</td>\n",
       "      <td>Adorable top with a hint of lace and a key hol...</td>\n",
       "      <td>None</td>\n",
       "      <td>1975136</td>\n",
       "      <td>2725</td>\n",
       "      <td>29812</td>\n",
       "      <td>...</td>\n",
       "      <td>1278</td>\n",
       "      <td>0</td>\n",
       "      <td>4580</td>\n",
       "      <td>11180</td>\n",
       "      <td>2</td>\n",
       "      <td>0.136250</td>\n",
       "      <td>14</td>\n",
       "      <td>2</td>\n",
       "      <td>124</td>\n",
       "      <td>29</td>\n",
       "    </tr>\n",
       "    <tr>\n",
       "      <th>3</th>\n",
       "      <td>Leather Horse Statues</td>\n",
       "      <td>1</td>\n",
       "      <td>Home/Home Décor/Home Décor Accents</td>\n",
       "      <td>UnkB</td>\n",
       "      <td>1</td>\n",
       "      <td>New with tags. Leather horses. Retail for [rm]...</td>\n",
       "      <td>NWT</td>\n",
       "      <td>84313</td>\n",
       "      <td>928207</td>\n",
       "      <td>19146</td>\n",
       "      <td>...</td>\n",
       "      <td>503</td>\n",
       "      <td>0</td>\n",
       "      <td>1535</td>\n",
       "      <td>11901</td>\n",
       "      <td>2</td>\n",
       "      <td>0.232121</td>\n",
       "      <td>21</td>\n",
       "      <td>3</td>\n",
       "      <td>173</td>\n",
       "      <td>32</td>\n",
       "    </tr>\n",
       "    <tr>\n",
       "      <th>4</th>\n",
       "      <td>24K GOLD plated rose</td>\n",
       "      <td>1</td>\n",
       "      <td>Women/Jewelry/Necklaces</td>\n",
       "      <td>UnkB</td>\n",
       "      <td>0</td>\n",
       "      <td>Complete with certificate of authenticity</td>\n",
       "      <td>None</td>\n",
       "      <td>1975136</td>\n",
       "      <td>928207</td>\n",
       "      <td>28926</td>\n",
       "      <td>...</td>\n",
       "      <td>1205</td>\n",
       "      <td>0</td>\n",
       "      <td>4276</td>\n",
       "      <td>11901</td>\n",
       "      <td>2</td>\n",
       "      <td>0.100000</td>\n",
       "      <td>20</td>\n",
       "      <td>4</td>\n",
       "      <td>41</td>\n",
       "      <td>5</td>\n",
       "    </tr>\n",
       "    <tr>\n",
       "      <th>5</th>\n",
       "      <td>Bundled items requested for Ruie</td>\n",
       "      <td>3</td>\n",
       "      <td>Women/Other/Other</td>\n",
       "      <td>UnkB</td>\n",
       "      <td>0</td>\n",
       "      <td>Banana republic bottoms, Candies skirt with ma...</td>\n",
       "      <td>None</td>\n",
       "      <td>1975136</td>\n",
       "      <td>928207</td>\n",
       "      <td>10579</td>\n",
       "      <td>...</td>\n",
       "      <td>1217</td>\n",
       "      <td>2</td>\n",
       "      <td>4323</td>\n",
       "      <td>11903</td>\n",
       "      <td>2</td>\n",
       "      <td>0.500000</td>\n",
       "      <td>32</td>\n",
       "      <td>5</td>\n",
       "      <td>102</td>\n",
       "      <td>15</td>\n",
       "    </tr>\n",
       "    <tr>\n",
       "      <th>6</th>\n",
       "      <td>Acacia pacific tides santorini top</td>\n",
       "      <td>3</td>\n",
       "      <td>Women/Swimwear/Two-Piece</td>\n",
       "      <td>Acacia Swimwear</td>\n",
       "      <td>0</td>\n",
       "      <td>Size small but straps slightly shortened to fi...</td>\n",
       "      <td>None</td>\n",
       "      <td>1975136</td>\n",
       "      <td>638</td>\n",
       "      <td>18704</td>\n",
       "      <td>...</td>\n",
       "      <td>1277</td>\n",
       "      <td>2</td>\n",
       "      <td>4577</td>\n",
       "      <td>222</td>\n",
       "      <td>2</td>\n",
       "      <td>0.245833</td>\n",
       "      <td>34</td>\n",
       "      <td>5</td>\n",
       "      <td>83</td>\n",
       "      <td>13</td>\n",
       "    </tr>\n",
       "    <tr>\n",
       "      <th>7</th>\n",
       "      <td>Girls cheer and tumbling bundle of 7</td>\n",
       "      <td>3</td>\n",
       "      <td>Sports &amp; Outdoors/Apparel/Girls</td>\n",
       "      <td>Soffe</td>\n",
       "      <td>1</td>\n",
       "      <td>You get three pairs of Sophie cheer shorts siz...</td>\n",
       "      <td>None</td>\n",
       "      <td>1975136</td>\n",
       "      <td>215</td>\n",
       "      <td>803</td>\n",
       "      <td>...</td>\n",
       "      <td>908</td>\n",
       "      <td>2</td>\n",
       "      <td>3124</td>\n",
       "      <td>10598</td>\n",
       "      <td>0</td>\n",
       "      <td>-0.177083</td>\n",
       "      <td>36</td>\n",
       "      <td>7</td>\n",
       "      <td>268</td>\n",
       "      <td>51</td>\n",
       "    </tr>\n",
       "    <tr>\n",
       "      <th>8</th>\n",
       "      <td>Girls Nike Pro shorts</td>\n",
       "      <td>3</td>\n",
       "      <td>Sports &amp; Outdoors/Apparel/Girls</td>\n",
       "      <td>Nike</td>\n",
       "      <td>0</td>\n",
       "      <td>Girls Size small Plus green. Three shorts total.</td>\n",
       "      <td>None</td>\n",
       "      <td>1975136</td>\n",
       "      <td>79277</td>\n",
       "      <td>803</td>\n",
       "      <td>...</td>\n",
       "      <td>908</td>\n",
       "      <td>2</td>\n",
       "      <td>3124</td>\n",
       "      <td>8197</td>\n",
       "      <td>0</td>\n",
       "      <td>-0.150000</td>\n",
       "      <td>21</td>\n",
       "      <td>4</td>\n",
       "      <td>48</td>\n",
       "      <td>8</td>\n",
       "    </tr>\n",
       "    <tr>\n",
       "      <th>9</th>\n",
       "      <td>Porcelain clown doll checker pants VTG</td>\n",
       "      <td>3</td>\n",
       "      <td>Vintage &amp; Collectibles/Collectibles/Doll</td>\n",
       "      <td>UnkB</td>\n",
       "      <td>0</td>\n",
       "      <td>I realized his pants are on backwards after th...</td>\n",
       "      <td>None</td>\n",
       "      <td>1975136</td>\n",
       "      <td>928207</td>\n",
       "      <td>1180</td>\n",
       "      <td>...</td>\n",
       "      <td>1046</td>\n",
       "      <td>2</td>\n",
       "      <td>3658</td>\n",
       "      <td>11903</td>\n",
       "      <td>0</td>\n",
       "      <td>-0.338333</td>\n",
       "      <td>38</td>\n",
       "      <td>6</td>\n",
       "      <td>297</td>\n",
       "      <td>55</td>\n",
       "    </tr>\n",
       "    <tr>\n",
       "      <th>10</th>\n",
       "      <td>Smashbox primer</td>\n",
       "      <td>2</td>\n",
       "      <td>Beauty/Makeup/Face</td>\n",
       "      <td>Smashbox</td>\n",
       "      <td>1</td>\n",
       "      <td>0.25 oz Full size is 1oz for [rm] in Sephora</td>\n",
       "      <td>None</td>\n",
       "      <td>1975136</td>\n",
       "      <td>2033</td>\n",
       "      <td>50352</td>\n",
       "      <td>...</td>\n",
       "      <td>27</td>\n",
       "      <td>1</td>\n",
       "      <td>108</td>\n",
       "      <td>10560</td>\n",
       "      <td>2</td>\n",
       "      <td>0.350000</td>\n",
       "      <td>15</td>\n",
       "      <td>2</td>\n",
       "      <td>44</td>\n",
       "      <td>10</td>\n",
       "    </tr>\n",
       "    <tr>\n",
       "      <th>11</th>\n",
       "      <td>New vs pi k body mists</td>\n",
       "      <td>1</td>\n",
       "      <td>Beauty/Fragrance/Women</td>\n",
       "      <td>Victoria's Secret</td>\n",
       "      <td>0</td>\n",
       "      <td>(5) new vs pink body mists (2.5 oz each) Fresh...</td>\n",
       "      <td>None</td>\n",
       "      <td>1975136</td>\n",
       "      <td>70508</td>\n",
       "      <td>27471</td>\n",
       "      <td>...</td>\n",
       "      <td>11</td>\n",
       "      <td>0</td>\n",
       "      <td>45</td>\n",
       "      <td>12068</td>\n",
       "      <td>2</td>\n",
       "      <td>0.262879</td>\n",
       "      <td>22</td>\n",
       "      <td>6</td>\n",
       "      <td>108</td>\n",
       "      <td>22</td>\n",
       "    </tr>\n",
       "    <tr>\n",
       "      <th>12</th>\n",
       "      <td>Black Skater dress</td>\n",
       "      <td>2</td>\n",
       "      <td>Women/Dresses/Above Knee, Mini</td>\n",
       "      <td>rue</td>\n",
       "      <td>0</td>\n",
       "      <td>Xl, great condition</td>\n",
       "      <td>None</td>\n",
       "      <td>1975136</td>\n",
       "      <td>1389</td>\n",
       "      <td>29582</td>\n",
       "      <td>...</td>\n",
       "      <td>1185</td>\n",
       "      <td>1</td>\n",
       "      <td>4188</td>\n",
       "      <td>12858</td>\n",
       "      <td>2</td>\n",
       "      <td>0.800000</td>\n",
       "      <td>18</td>\n",
       "      <td>3</td>\n",
       "      <td>19</td>\n",
       "      <td>3</td>\n",
       "    </tr>\n",
       "    <tr>\n",
       "      <th>13</th>\n",
       "      <td>Sharpener and eraser</td>\n",
       "      <td>1</td>\n",
       "      <td>Other/Office supplies/School Supplies</td>\n",
       "      <td>Scholastic</td>\n",
       "      <td>1</td>\n",
       "      <td>No description yet</td>\n",
       "      <td>None</td>\n",
       "      <td>1975136</td>\n",
       "      <td>23</td>\n",
       "      <td>2748</td>\n",
       "      <td>...</td>\n",
       "      <td>898</td>\n",
       "      <td>0</td>\n",
       "      <td>3078</td>\n",
       "      <td>10195</td>\n",
       "      <td>1</td>\n",
       "      <td>0.000000</td>\n",
       "      <td>20</td>\n",
       "      <td>3</td>\n",
       "      <td>18</td>\n",
       "      <td>3</td>\n",
       "    </tr>\n",
       "    <tr>\n",
       "      <th>14</th>\n",
       "      <td>HOLD for Dogs2016 Minnetonka boots</td>\n",
       "      <td>3</td>\n",
       "      <td>Women/Shoes/Boots</td>\n",
       "      <td>UGG Australia</td>\n",
       "      <td>0</td>\n",
       "      <td>Authentic. Suede fringe boots. Great condition...</td>\n",
       "      <td>None</td>\n",
       "      <td>1975136</td>\n",
       "      <td>6919</td>\n",
       "      <td>27499</td>\n",
       "      <td>...</td>\n",
       "      <td>1228</td>\n",
       "      <td>2</td>\n",
       "      <td>4370</td>\n",
       "      <td>11787</td>\n",
       "      <td>2</td>\n",
       "      <td>0.457143</td>\n",
       "      <td>34</td>\n",
       "      <td>5</td>\n",
       "      <td>194</td>\n",
       "      <td>35</td>\n",
       "    </tr>\n",
       "    <tr>\n",
       "      <th>15</th>\n",
       "      <td>Sephora tarte birthday gift</td>\n",
       "      <td>1</td>\n",
       "      <td>Beauty/Makeup/Makeup Sets</td>\n",
       "      <td>Tarte</td>\n",
       "      <td>1</td>\n",
       "      <td>Brand new. Deluxe travel size products. Contai...</td>\n",
       "      <td>None</td>\n",
       "      <td>1975136</td>\n",
       "      <td>7275</td>\n",
       "      <td>8977</td>\n",
       "      <td>...</td>\n",
       "      <td>31</td>\n",
       "      <td>0</td>\n",
       "      <td>126</td>\n",
       "      <td>11194</td>\n",
       "      <td>2</td>\n",
       "      <td>0.368182</td>\n",
       "      <td>27</td>\n",
       "      <td>4</td>\n",
       "      <td>151</td>\n",
       "      <td>24</td>\n",
       "    </tr>\n",
       "    <tr>\n",
       "      <th>16</th>\n",
       "      <td>Glitter Eyeshadow</td>\n",
       "      <td>1</td>\n",
       "      <td>Beauty/Makeup/Eyes</td>\n",
       "      <td>Wet n Wild</td>\n",
       "      <td>1</td>\n",
       "      <td>2 glitter eyeshadows; one in Brass and one in ...</td>\n",
       "      <td>None</td>\n",
       "      <td>1975136</td>\n",
       "      <td>1727</td>\n",
       "      <td>37191</td>\n",
       "      <td>...</td>\n",
       "      <td>26</td>\n",
       "      <td>0</td>\n",
       "      <td>102</td>\n",
       "      <td>12291</td>\n",
       "      <td>1</td>\n",
       "      <td>0.000000</td>\n",
       "      <td>17</td>\n",
       "      <td>2</td>\n",
       "      <td>55</td>\n",
       "      <td>10</td>\n",
       "    </tr>\n",
       "    <tr>\n",
       "      <th>17</th>\n",
       "      <td>New: Baby K'tan active baby carrier</td>\n",
       "      <td>1</td>\n",
       "      <td>Kids/Gear/Backpacks &amp; Carriers</td>\n",
       "      <td>UnkB</td>\n",
       "      <td>1</td>\n",
       "      <td>Brand new in box Size: Medium Color: Coral Ret...</td>\n",
       "      <td>BNIB</td>\n",
       "      <td>15159</td>\n",
       "      <td>928207</td>\n",
       "      <td>2861</td>\n",
       "      <td>...</td>\n",
       "      <td>621</td>\n",
       "      <td>0</td>\n",
       "      <td>1992</td>\n",
       "      <td>11901</td>\n",
       "      <td>2</td>\n",
       "      <td>0.175606</td>\n",
       "      <td>35</td>\n",
       "      <td>6</td>\n",
       "      <td>423</td>\n",
       "      <td>69</td>\n",
       "    </tr>\n",
       "    <tr>\n",
       "      <th>18</th>\n",
       "      <td>Too Faced Limited \"Merry Macaroons\"</td>\n",
       "      <td>1</td>\n",
       "      <td>Beauty/Makeup/Makeup Palettes</td>\n",
       "      <td>Too Faced</td>\n",
       "      <td>1</td>\n",
       "      <td>This AUTHENTIC pallete by Too Faced is brand n...</td>\n",
       "      <td>None</td>\n",
       "      <td>1975136</td>\n",
       "      <td>8479</td>\n",
       "      <td>27995</td>\n",
       "      <td>...</td>\n",
       "      <td>29</td>\n",
       "      <td>0</td>\n",
       "      <td>117</td>\n",
       "      <td>11561</td>\n",
       "      <td>2</td>\n",
       "      <td>0.323052</td>\n",
       "      <td>35</td>\n",
       "      <td>5</td>\n",
       "      <td>307</td>\n",
       "      <td>50</td>\n",
       "    </tr>\n",
       "    <tr>\n",
       "      <th>19</th>\n",
       "      <td>Cream/ Beige Front Cross Shirt</td>\n",
       "      <td>2</td>\n",
       "      <td>Women/Tops &amp; Blouses/Blouse</td>\n",
       "      <td>Anthropologie</td>\n",
       "      <td>0</td>\n",
       "      <td>Fancy, dressy or casual! Dress it up or down 1...</td>\n",
       "      <td>None</td>\n",
       "      <td>1975136</td>\n",
       "      <td>1386</td>\n",
       "      <td>29812</td>\n",
       "      <td>...</td>\n",
       "      <td>1278</td>\n",
       "      <td>1</td>\n",
       "      <td>4581</td>\n",
       "      <td>718</td>\n",
       "      <td>0</td>\n",
       "      <td>-0.071032</td>\n",
       "      <td>30</td>\n",
       "      <td>5</td>\n",
       "      <td>193</td>\n",
       "      <td>29</td>\n",
       "    </tr>\n",
       "    <tr>\n",
       "      <th>20</th>\n",
       "      <td>Torrid Nautical Peplum Tube Top</td>\n",
       "      <td>3</td>\n",
       "      <td>Women/Tops &amp; Blouses/Tank, Cami</td>\n",
       "      <td>Torrid</td>\n",
       "      <td>1</td>\n",
       "      <td>Size 1. Worn once. Excellent condition</td>\n",
       "      <td>None</td>\n",
       "      <td>1975136</td>\n",
       "      <td>3463</td>\n",
       "      <td>29911</td>\n",
       "      <td>...</td>\n",
       "      <td>1285</td>\n",
       "      <td>2</td>\n",
       "      <td>4614</td>\n",
       "      <td>11603</td>\n",
       "      <td>2</td>\n",
       "      <td>1.000000</td>\n",
       "      <td>31</td>\n",
       "      <td>5</td>\n",
       "      <td>38</td>\n",
       "      <td>6</td>\n",
       "    </tr>\n",
       "    <tr>\n",
       "      <th>21</th>\n",
       "      <td>NWT VS ULTIMATE SPORTS BRA 34ddd</td>\n",
       "      <td>1</td>\n",
       "      <td>Women/Athletic Apparel/Sports Bras</td>\n",
       "      <td>Victoria's Secret</td>\n",
       "      <td>0</td>\n",
       "      <td>NWT Victoria's Secret ULTIMATE SPORT BRA -MAXI...</td>\n",
       "      <td>NWT</td>\n",
       "      <td>84313</td>\n",
       "      <td>70508</td>\n",
       "      <td>13225</td>\n",
       "      <td>...</td>\n",
       "      <td>1167</td>\n",
       "      <td>0</td>\n",
       "      <td>4108</td>\n",
       "      <td>12068</td>\n",
       "      <td>0</td>\n",
       "      <td>-0.200000</td>\n",
       "      <td>32</td>\n",
       "      <td>6</td>\n",
       "      <td>68</td>\n",
       "      <td>10</td>\n",
       "    </tr>\n",
       "    <tr>\n",
       "      <th>22</th>\n",
       "      <td>Galaxy S7 Edge (Unlocked) 32GB</td>\n",
       "      <td>3</td>\n",
       "      <td>Electronics/Cell Phones &amp; Accessories/Cell Pho...</td>\n",
       "      <td>Samsung</td>\n",
       "      <td>0</td>\n",
       "      <td>Reasonable offers welcomed. But if you ask \"lo...</td>\n",
       "      <td>None</td>\n",
       "      <td>1975136</td>\n",
       "      <td>5985</td>\n",
       "      <td>12799</td>\n",
       "      <td>...</td>\n",
       "      <td>81</td>\n",
       "      <td>2</td>\n",
       "      <td>329</td>\n",
       "      <td>10092</td>\n",
       "      <td>2</td>\n",
       "      <td>0.238961</td>\n",
       "      <td>30</td>\n",
       "      <td>5</td>\n",
       "      <td>336</td>\n",
       "      <td>60</td>\n",
       "    </tr>\n",
       "    <tr>\n",
       "      <th>23</th>\n",
       "      <td>Triple car charger</td>\n",
       "      <td>1</td>\n",
       "      <td>Electronics/Cell Phones &amp; Accessories/Chargers...</td>\n",
       "      <td>UnkB</td>\n",
       "      <td>1</td>\n",
       "      <td>Brand new never used All colors are available ...</td>\n",
       "      <td>None</td>\n",
       "      <td>1975136</td>\n",
       "      <td>928207</td>\n",
       "      <td>3127</td>\n",
       "      <td>...</td>\n",
       "      <td>82</td>\n",
       "      <td>0</td>\n",
       "      <td>332</td>\n",
       "      <td>11901</td>\n",
       "      <td>2</td>\n",
       "      <td>0.178788</td>\n",
       "      <td>18</td>\n",
       "      <td>3</td>\n",
       "      <td>60</td>\n",
       "      <td>11</td>\n",
       "    </tr>\n",
       "    <tr>\n",
       "      <th>24</th>\n",
       "      <td>Black and Red Baseball Tee</td>\n",
       "      <td>2</td>\n",
       "      <td>Women/Tops &amp; Blouses/T-Shirts</td>\n",
       "      <td>FOREVER 21</td>\n",
       "      <td>0</td>\n",
       "      <td>lanascloset ~~~ description: never worn! ✨ i d...</td>\n",
       "      <td>None</td>\n",
       "      <td>1975136</td>\n",
       "      <td>22327</td>\n",
       "      <td>68082</td>\n",
       "      <td>...</td>\n",
       "      <td>1284</td>\n",
       "      <td>1</td>\n",
       "      <td>4608</td>\n",
       "      <td>4007</td>\n",
       "      <td>0</td>\n",
       "      <td>-0.012500</td>\n",
       "      <td>26</td>\n",
       "      <td>5</td>\n",
       "      <td>293</td>\n",
       "      <td>53</td>\n",
       "    </tr>\n",
       "    <tr>\n",
       "      <th>25</th>\n",
       "      <td>Air Jordan carmine 6s</td>\n",
       "      <td>3</td>\n",
       "      <td>Men/Shoes/Athletic</td>\n",
       "      <td>Air Jordan</td>\n",
       "      <td>0</td>\n",
       "      <td>They are 100 percent authentic. They are beate...</td>\n",
       "      <td>None</td>\n",
       "      <td>1975136</td>\n",
       "      <td>5101</td>\n",
       "      <td>20932</td>\n",
       "      <td>...</td>\n",
       "      <td>780</td>\n",
       "      <td>2</td>\n",
       "      <td>2619</td>\n",
       "      <td>358</td>\n",
       "      <td>2</td>\n",
       "      <td>0.156250</td>\n",
       "      <td>21</td>\n",
       "      <td>4</td>\n",
       "      <td>108</td>\n",
       "      <td>21</td>\n",
       "    </tr>\n",
       "    <tr>\n",
       "      <th>26</th>\n",
       "      <td>Otterbox Defender iPhone 6 Plus/6s Plus</td>\n",
       "      <td>1</td>\n",
       "      <td>Electronics/Cell Phones &amp; Accessories/Cases, C...</td>\n",
       "      <td>Apple</td>\n",
       "      <td>1</td>\n",
       "      <td>Brand new Otterbox Defender iPhone 6 Plus/6s Plus</td>\n",
       "      <td>None</td>\n",
       "      <td>1975136</td>\n",
       "      <td>25435</td>\n",
       "      <td>36086</td>\n",
       "      <td>...</td>\n",
       "      <td>79</td>\n",
       "      <td>0</td>\n",
       "      <td>317</td>\n",
       "      <td>753</td>\n",
       "      <td>2</td>\n",
       "      <td>0.136364</td>\n",
       "      <td>39</td>\n",
       "      <td>6</td>\n",
       "      <td>49</td>\n",
       "      <td>8</td>\n",
       "    </tr>\n",
       "    <tr>\n",
       "      <th>27</th>\n",
       "      <td>LuLaRoe OS Black With White Polka Dots</td>\n",
       "      <td>3</td>\n",
       "      <td>Women/Athletic Apparel/Pants, Tights, Leggings</td>\n",
       "      <td>LuLaRoe</td>\n",
       "      <td>0</td>\n",
       "      <td>Worn one time. Excellent condition</td>\n",
       "      <td>None</td>\n",
       "      <td>1975136</td>\n",
       "      <td>45598</td>\n",
       "      <td>88077</td>\n",
       "      <td>...</td>\n",
       "      <td>1161</td>\n",
       "      <td>2</td>\n",
       "      <td>4082</td>\n",
       "      <td>6966</td>\n",
       "      <td>2</td>\n",
       "      <td>1.000000</td>\n",
       "      <td>38</td>\n",
       "      <td>7</td>\n",
       "      <td>34</td>\n",
       "      <td>5</td>\n",
       "    </tr>\n",
       "    <tr>\n",
       "      <th>28</th>\n",
       "      <td>Forever21 floral romper strapless</td>\n",
       "      <td>2</td>\n",
       "      <td>Women/Swimwear/One-Piece</td>\n",
       "      <td>FOREVER 21</td>\n",
       "      <td>1</td>\n",
       "      <td>Beautiful Excellent condition Zips and ties in...</td>\n",
       "      <td>None</td>\n",
       "      <td>1975136</td>\n",
       "      <td>22327</td>\n",
       "      <td>5511</td>\n",
       "      <td>...</td>\n",
       "      <td>1276</td>\n",
       "      <td>1</td>\n",
       "      <td>4571</td>\n",
       "      <td>4007</td>\n",
       "      <td>2</td>\n",
       "      <td>0.587500</td>\n",
       "      <td>33</td>\n",
       "      <td>4</td>\n",
       "      <td>81</td>\n",
       "      <td>14</td>\n",
       "    </tr>\n",
       "    <tr>\n",
       "      <th>29</th>\n",
       "      <td>Kendra bundle</td>\n",
       "      <td>3</td>\n",
       "      <td>Women/Jeans/Boot Cut</td>\n",
       "      <td>Hollister</td>\n",
       "      <td>1</td>\n",
       "      <td>29w. X 33l. Social stretch hollister jeans ***...</td>\n",
       "      <td>None</td>\n",
       "      <td>1975136</td>\n",
       "      <td>10182</td>\n",
       "      <td>9492</td>\n",
       "      <td>...</td>\n",
       "      <td>1191</td>\n",
       "      <td>2</td>\n",
       "      <td>4216</td>\n",
       "      <td>5176</td>\n",
       "      <td>2</td>\n",
       "      <td>0.211111</td>\n",
       "      <td>13</td>\n",
       "      <td>2</td>\n",
       "      <td>156</td>\n",
       "      <td>28</td>\n",
       "    </tr>\n",
       "    <tr>\n",
       "      <th>30</th>\n",
       "      <td>Too Faced Better Than Sex Mascara QTY3</td>\n",
       "      <td>1</td>\n",
       "      <td>Beauty/Makeup/Eyes</td>\n",
       "      <td>Too Faced</td>\n",
       "      <td>1</td>\n",
       "      <td>BNIB 3 for [rm] Better Than Sex Waterproof Mas...</td>\n",
       "      <td>BNIB</td>\n",
       "      <td>15159</td>\n",
       "      <td>8479</td>\n",
       "      <td>37191</td>\n",
       "      <td>...</td>\n",
       "      <td>26</td>\n",
       "      <td>0</td>\n",
       "      <td>102</td>\n",
       "      <td>11561</td>\n",
       "      <td>2</td>\n",
       "      <td>0.187500</td>\n",
       "      <td>38</td>\n",
       "      <td>7</td>\n",
       "      <td>123</td>\n",
       "      <td>25</td>\n",
       "    </tr>\n",
       "    <tr>\n",
       "      <th>31</th>\n",
       "      <td>New Lularoe OS leggings, stars</td>\n",
       "      <td>1</td>\n",
       "      <td>Women/Athletic Apparel/Pants, Tights, Leggings</td>\n",
       "      <td>UnkB</td>\n",
       "      <td>1</td>\n",
       "      <td>No description yet</td>\n",
       "      <td>None</td>\n",
       "      <td>1975136</td>\n",
       "      <td>928207</td>\n",
       "      <td>88077</td>\n",
       "      <td>...</td>\n",
       "      <td>1161</td>\n",
       "      <td>0</td>\n",
       "      <td>4080</td>\n",
       "      <td>11901</td>\n",
       "      <td>1</td>\n",
       "      <td>0.000000</td>\n",
       "      <td>30</td>\n",
       "      <td>5</td>\n",
       "      <td>18</td>\n",
       "      <td>3</td>\n",
       "    </tr>\n",
       "    <tr>\n",
       "      <th>32</th>\n",
       "      <td>Pink bra 36d</td>\n",
       "      <td>1</td>\n",
       "      <td>Women/Underwear/Bras</td>\n",
       "      <td>PINK</td>\n",
       "      <td>0</td>\n",
       "      <td>Pink bra with logo band! 36d push up</td>\n",
       "      <td>None</td>\n",
       "      <td>1975136</td>\n",
       "      <td>79092</td>\n",
       "      <td>31351</td>\n",
       "      <td>...</td>\n",
       "      <td>1289</td>\n",
       "      <td>0</td>\n",
       "      <td>4631</td>\n",
       "      <td>8626</td>\n",
       "      <td>0</td>\n",
       "      <td>-0.125000</td>\n",
       "      <td>12</td>\n",
       "      <td>3</td>\n",
       "      <td>36</td>\n",
       "      <td>8</td>\n",
       "    </tr>\n",
       "    <tr>\n",
       "      <th>33</th>\n",
       "      <td>Caudalíe Beauty Elixir Spray</td>\n",
       "      <td>1</td>\n",
       "      <td>Beauty/Skin Care/Face</td>\n",
       "      <td>Sephora</td>\n",
       "      <td>1</td>\n",
       "      <td>New unused and authentic. Caudalie beauty elix...</td>\n",
       "      <td>None</td>\n",
       "      <td>1975136</td>\n",
       "      <td>17849</td>\n",
       "      <td>23193</td>\n",
       "      <td>...</td>\n",
       "      <td>37</td>\n",
       "      <td>0</td>\n",
       "      <td>153</td>\n",
       "      <td>10307</td>\n",
       "      <td>2</td>\n",
       "      <td>0.318182</td>\n",
       "      <td>28</td>\n",
       "      <td>4</td>\n",
       "      <td>59</td>\n",
       "      <td>10</td>\n",
       "    </tr>\n",
       "    <tr>\n",
       "      <th>34</th>\n",
       "      <td>Four puppy dog stuffed animal ty</td>\n",
       "      <td>3</td>\n",
       "      <td>Kids/Toys/Stuffed Animals &amp; Plush</td>\n",
       "      <td>UnkB</td>\n",
       "      <td>1</td>\n",
       "      <td>2 beanie babies pugsley wrinkles Puppy with pu...</td>\n",
       "      <td>None</td>\n",
       "      <td>1975136</td>\n",
       "      <td>928207</td>\n",
       "      <td>8598</td>\n",
       "      <td>...</td>\n",
       "      <td>719</td>\n",
       "      <td>2</td>\n",
       "      <td>2368</td>\n",
       "      <td>11903</td>\n",
       "      <td>2</td>\n",
       "      <td>0.301146</td>\n",
       "      <td>32</td>\n",
       "      <td>6</td>\n",
       "      <td>741</td>\n",
       "      <td>110</td>\n",
       "    </tr>\n",
       "    <tr>\n",
       "      <th>35</th>\n",
       "      <td>Black Capri Leggings w/ Flowers One size</td>\n",
       "      <td>1</td>\n",
       "      <td>Women/Athletic Apparel/Pants, Tights, Leggings</td>\n",
       "      <td>UnkB</td>\n",
       "      <td>1</td>\n",
       "      <td>One size fits sizes 2-12 92% polyester 8% span...</td>\n",
       "      <td>None</td>\n",
       "      <td>1975136</td>\n",
       "      <td>928207</td>\n",
       "      <td>88077</td>\n",
       "      <td>...</td>\n",
       "      <td>1161</td>\n",
       "      <td>0</td>\n",
       "      <td>4080</td>\n",
       "      <td>11901</td>\n",
       "      <td>2</td>\n",
       "      <td>0.216528</td>\n",
       "      <td>40</td>\n",
       "      <td>7</td>\n",
       "      <td>111</td>\n",
       "      <td>19</td>\n",
       "    </tr>\n",
       "    <tr>\n",
       "      <th>36</th>\n",
       "      <td>Black bag 30</td>\n",
       "      <td>3</td>\n",
       "      <td>Women/Women's Handbags/Totes &amp; Shoppers</td>\n",
       "      <td>UnkB</td>\n",
       "      <td>0</td>\n",
       "      <td>Pre-owned. Some light scratches on hardware co...</td>\n",
       "      <td>None</td>\n",
       "      <td>1975136</td>\n",
       "      <td>928207</td>\n",
       "      <td>13765</td>\n",
       "      <td>...</td>\n",
       "      <td>1310</td>\n",
       "      <td>2</td>\n",
       "      <td>4733</td>\n",
       "      <td>11903</td>\n",
       "      <td>2</td>\n",
       "      <td>0.262500</td>\n",
       "      <td>12</td>\n",
       "      <td>3</td>\n",
       "      <td>109</td>\n",
       "      <td>16</td>\n",
       "    </tr>\n",
       "    <tr>\n",
       "      <th>37</th>\n",
       "      <td>Under Armour maroon and gray shirt metal</td>\n",
       "      <td>4</td>\n",
       "      <td>Men/Athletic Apparel/Shirts &amp; Tops</td>\n",
       "      <td>Under Armour</td>\n",
       "      <td>1</td>\n",
       "      <td>Has some wear to the back, and few white spots...</td>\n",
       "      <td>None</td>\n",
       "      <td>1975136</td>\n",
       "      <td>12414</td>\n",
       "      <td>3124</td>\n",
       "      <td>...</td>\n",
       "      <td>727</td>\n",
       "      <td>3</td>\n",
       "      <td>2404</td>\n",
       "      <td>11870</td>\n",
       "      <td>0</td>\n",
       "      <td>-0.066667</td>\n",
       "      <td>40</td>\n",
       "      <td>7</td>\n",
       "      <td>80</td>\n",
       "      <td>17</td>\n",
       "    </tr>\n",
       "    <tr>\n",
       "      <th>38</th>\n",
       "      <td>XBOX One</td>\n",
       "      <td>3</td>\n",
       "      <td>Electronics/Video Games &amp; Consoles/Consoles</td>\n",
       "      <td>Xbox</td>\n",
       "      <td>0</td>\n",
       "      <td>500GB Comes with power cord One controller wit...</td>\n",
       "      <td>None</td>\n",
       "      <td>1975136</td>\n",
       "      <td>8406</td>\n",
       "      <td>6215</td>\n",
       "      <td>...</td>\n",
       "      <td>111</td>\n",
       "      <td>2</td>\n",
       "      <td>471</td>\n",
       "      <td>12452</td>\n",
       "      <td>2</td>\n",
       "      <td>0.375000</td>\n",
       "      <td>8</td>\n",
       "      <td>2</td>\n",
       "      <td>168</td>\n",
       "      <td>28</td>\n",
       "    </tr>\n",
       "    <tr>\n",
       "      <th>39</th>\n",
       "      <td>Victoria secret 34 c corest top</td>\n",
       "      <td>3</td>\n",
       "      <td>Women/Underwear/Bras</td>\n",
       "      <td>Victoria's Secret</td>\n",
       "      <td>0</td>\n",
       "      <td>Victoria secret 34 c corest top Will bundle to...</td>\n",
       "      <td>None</td>\n",
       "      <td>1975136</td>\n",
       "      <td>70508</td>\n",
       "      <td>31351</td>\n",
       "      <td>...</td>\n",
       "      <td>1289</td>\n",
       "      <td>2</td>\n",
       "      <td>4633</td>\n",
       "      <td>12070</td>\n",
       "      <td>2</td>\n",
       "      <td>0.166667</td>\n",
       "      <td>31</td>\n",
       "      <td>6</td>\n",
       "      <td>113</td>\n",
       "      <td>22</td>\n",
       "    </tr>\n",
       "    <tr>\n",
       "      <th>40</th>\n",
       "      <td>Kylie Birthday Edition</td>\n",
       "      <td>1</td>\n",
       "      <td>Beauty/Makeup/Makeup Sets</td>\n",
       "      <td>Kylie Cosmetics</td>\n",
       "      <td>1</td>\n",
       "      <td>Kylie Happy Birthday Matte Mini Lipstick Kylie...</td>\n",
       "      <td>None</td>\n",
       "      <td>1975136</td>\n",
       "      <td>3986</td>\n",
       "      <td>8977</td>\n",
       "      <td>...</td>\n",
       "      <td>31</td>\n",
       "      <td>0</td>\n",
       "      <td>126</td>\n",
       "      <td>6422</td>\n",
       "      <td>0</td>\n",
       "      <td>-0.002727</td>\n",
       "      <td>22</td>\n",
       "      <td>3</td>\n",
       "      <td>317</td>\n",
       "      <td>57</td>\n",
       "    </tr>\n",
       "    <tr>\n",
       "      <th>41</th>\n",
       "      <td>tropical flower print bra from pink</td>\n",
       "      <td>3</td>\n",
       "      <td>Women/Underwear/Bras</td>\n",
       "      <td>PINK</td>\n",
       "      <td>1</td>\n",
       "      <td>Used buh looks brand new and is washed and rea...</td>\n",
       "      <td>None</td>\n",
       "      <td>1975136</td>\n",
       "      <td>79092</td>\n",
       "      <td>31351</td>\n",
       "      <td>...</td>\n",
       "      <td>1289</td>\n",
       "      <td>2</td>\n",
       "      <td>4633</td>\n",
       "      <td>8628</td>\n",
       "      <td>2</td>\n",
       "      <td>0.230579</td>\n",
       "      <td>35</td>\n",
       "      <td>6</td>\n",
       "      <td>292</td>\n",
       "      <td>51</td>\n",
       "    </tr>\n",
       "    <tr>\n",
       "      <th>42</th>\n",
       "      <td>lots of Korean Nature Republic face mask</td>\n",
       "      <td>1</td>\n",
       "      <td>Beauty/Skin Care/Face</td>\n",
       "      <td>UnkB</td>\n",
       "      <td>1</td>\n",
       "      <td>totally 36 masks, will be expired on Feb..</td>\n",
       "      <td>None</td>\n",
       "      <td>1975136</td>\n",
       "      <td>928207</td>\n",
       "      <td>23193</td>\n",
       "      <td>...</td>\n",
       "      <td>37</td>\n",
       "      <td>0</td>\n",
       "      <td>153</td>\n",
       "      <td>11901</td>\n",
       "      <td>1</td>\n",
       "      <td>0.000000</td>\n",
       "      <td>40</td>\n",
       "      <td>7</td>\n",
       "      <td>42</td>\n",
       "      <td>8</td>\n",
       "    </tr>\n",
       "    <tr>\n",
       "      <th>43</th>\n",
       "      <td>Apricot beige stick foundation!!</td>\n",
       "      <td>1</td>\n",
       "      <td>Beauty/Makeup/Face</td>\n",
       "      <td>UnkB</td>\n",
       "      <td>1</td>\n",
       "      <td>Great quality!!! Fast free shipping!! You can ...</td>\n",
       "      <td>None</td>\n",
       "      <td>1975136</td>\n",
       "      <td>928207</td>\n",
       "      <td>50352</td>\n",
       "      <td>...</td>\n",
       "      <td>27</td>\n",
       "      <td>0</td>\n",
       "      <td>107</td>\n",
       "      <td>11901</td>\n",
       "      <td>2</td>\n",
       "      <td>0.660991</td>\n",
       "      <td>32</td>\n",
       "      <td>4</td>\n",
       "      <td>189</td>\n",
       "      <td>32</td>\n",
       "    </tr>\n",
       "    <tr>\n",
       "      <th>44</th>\n",
       "      <td>Glass Christmas Bowl✨</td>\n",
       "      <td>2</td>\n",
       "      <td>Vintage &amp; Collectibles/Collectibles/Glass</td>\n",
       "      <td>UnkB</td>\n",
       "      <td>1</td>\n",
       "      <td>Brand new! Never used smoking bowl. Just bough...</td>\n",
       "      <td>None</td>\n",
       "      <td>1975136</td>\n",
       "      <td>928207</td>\n",
       "      <td>1886</td>\n",
       "      <td>...</td>\n",
       "      <td>1048</td>\n",
       "      <td>1</td>\n",
       "      <td>3667</td>\n",
       "      <td>11902</td>\n",
       "      <td>2</td>\n",
       "      <td>0.230114</td>\n",
       "      <td>21</td>\n",
       "      <td>3</td>\n",
       "      <td>149</td>\n",
       "      <td>27</td>\n",
       "    </tr>\n",
       "    <tr>\n",
       "      <th>45</th>\n",
       "      <td>Woman's north face puffer vest</td>\n",
       "      <td>3</td>\n",
       "      <td>Women/Coats &amp; Jackets/Vest</td>\n",
       "      <td>The North Face</td>\n",
       "      <td>0</td>\n",
       "      <td>Black outside medium gray inside. Authentic, s...</td>\n",
       "      <td>None</td>\n",
       "      <td>1975136</td>\n",
       "      <td>9137</td>\n",
       "      <td>3606</td>\n",
       "      <td>...</td>\n",
       "      <td>1182</td>\n",
       "      <td>2</td>\n",
       "      <td>4176</td>\n",
       "      <td>11337</td>\n",
       "      <td>2</td>\n",
       "      <td>0.187879</td>\n",
       "      <td>30</td>\n",
       "      <td>5</td>\n",
       "      <td>116</td>\n",
       "      <td>20</td>\n",
       "    </tr>\n",
       "    <tr>\n",
       "      <th>46</th>\n",
       "      <td>Metallic purple slime with sparkles</td>\n",
       "      <td>1</td>\n",
       "      <td>Kids/Toys/Arts &amp; Crafts</td>\n",
       "      <td>UnkB</td>\n",
       "      <td>0</td>\n",
       "      <td>This slime is approximately 1.5 ounces, very s...</td>\n",
       "      <td>None</td>\n",
       "      <td>1975136</td>\n",
       "      <td>928207</td>\n",
       "      <td>10518</td>\n",
       "      <td>...</td>\n",
       "      <td>704</td>\n",
       "      <td>0</td>\n",
       "      <td>2298</td>\n",
       "      <td>11901</td>\n",
       "      <td>2</td>\n",
       "      <td>0.116952</td>\n",
       "      <td>35</td>\n",
       "      <td>5</td>\n",
       "      <td>216</td>\n",
       "      <td>38</td>\n",
       "    </tr>\n",
       "    <tr>\n",
       "      <th>47</th>\n",
       "      <td>Brandy Melville Off Shoulder Crop Top</td>\n",
       "      <td>2</td>\n",
       "      <td>Women/Tops &amp; Blouses/Blouse</td>\n",
       "      <td>Brandy Melville</td>\n",
       "      <td>0</td>\n",
       "      <td>Brandy Melville Off Shoulder Crop Top. One Siz...</td>\n",
       "      <td>None</td>\n",
       "      <td>1975136</td>\n",
       "      <td>8366</td>\n",
       "      <td>29812</td>\n",
       "      <td>...</td>\n",
       "      <td>1278</td>\n",
       "      <td>1</td>\n",
       "      <td>4581</td>\n",
       "      <td>1830</td>\n",
       "      <td>2</td>\n",
       "      <td>0.166667</td>\n",
       "      <td>37</td>\n",
       "      <td>6</td>\n",
       "      <td>133</td>\n",
       "      <td>23</td>\n",
       "    </tr>\n",
       "    <tr>\n",
       "      <th>48</th>\n",
       "      <td>Lululemon wunder under crop</td>\n",
       "      <td>3</td>\n",
       "      <td>Women/Pants/Capris, Cropped</td>\n",
       "      <td>lululemon athletica</td>\n",
       "      <td>0</td>\n",
       "      <td>Perfect condition! Super comfy, let me know if...</td>\n",
       "      <td>None</td>\n",
       "      <td>1975136</td>\n",
       "      <td>1476</td>\n",
       "      <td>2553</td>\n",
       "      <td>...</td>\n",
       "      <td>1218</td>\n",
       "      <td>2</td>\n",
       "      <td>4328</td>\n",
       "      <td>12805</td>\n",
       "      <td>2</td>\n",
       "      <td>0.236111</td>\n",
       "      <td>27</td>\n",
       "      <td>4</td>\n",
       "      <td>404</td>\n",
       "      <td>73</td>\n",
       "    </tr>\n",
       "    <tr>\n",
       "      <th>49</th>\n",
       "      <td>Younique 3d fiber lash mascara</td>\n",
       "      <td>1</td>\n",
       "      <td>Beauty/Makeup/Eyes</td>\n",
       "      <td>UnkB</td>\n",
       "      <td>1</td>\n",
       "      <td>Younique 3d fiber lash mascara will quickly be...</td>\n",
       "      <td>None</td>\n",
       "      <td>1975136</td>\n",
       "      <td>928207</td>\n",
       "      <td>37191</td>\n",
       "      <td>...</td>\n",
       "      <td>26</td>\n",
       "      <td>0</td>\n",
       "      <td>102</td>\n",
       "      <td>11901</td>\n",
       "      <td>2</td>\n",
       "      <td>0.342424</td>\n",
       "      <td>30</td>\n",
       "      <td>5</td>\n",
       "      <td>197</td>\n",
       "      <td>32</td>\n",
       "    </tr>\n",
       "  </tbody>\n",
       "</table>\n",
       "<p>50 rows × 28 columns</p>\n",
       "</div>"
      ],
      "text/plain": [
       "                                        name  item_condition_id  \\\n",
       "0        MLB Cincinnati Reds T Shirt Size XL                  3   \n",
       "1           Razer BlackWidow Chroma Keyboard                  3   \n",
       "2                             AVA-VIV Blouse                  1   \n",
       "3                      Leather Horse Statues                  1   \n",
       "4                       24K GOLD plated rose                  1   \n",
       "5           Bundled items requested for Ruie                  3   \n",
       "6         Acacia pacific tides santorini top                  3   \n",
       "7       Girls cheer and tumbling bundle of 7                  3   \n",
       "8                      Girls Nike Pro shorts                  3   \n",
       "9     Porcelain clown doll checker pants VTG                  3   \n",
       "10                           Smashbox primer                  2   \n",
       "11                    New vs pi k body mists                  1   \n",
       "12                        Black Skater dress                  2   \n",
       "13                      Sharpener and eraser                  1   \n",
       "14        HOLD for Dogs2016 Minnetonka boots                  3   \n",
       "15               Sephora tarte birthday gift                  1   \n",
       "16                         Glitter Eyeshadow                  1   \n",
       "17       New: Baby K'tan active baby carrier                  1   \n",
       "18       Too Faced Limited \"Merry Macaroons\"                  1   \n",
       "19            Cream/ Beige Front Cross Shirt                  2   \n",
       "20           Torrid Nautical Peplum Tube Top                  3   \n",
       "21          NWT VS ULTIMATE SPORTS BRA 34ddd                  1   \n",
       "22            Galaxy S7 Edge (Unlocked) 32GB                  3   \n",
       "23                        Triple car charger                  1   \n",
       "24                Black and Red Baseball Tee                  2   \n",
       "25                     Air Jordan carmine 6s                  3   \n",
       "26   Otterbox Defender iPhone 6 Plus/6s Plus                  1   \n",
       "27    LuLaRoe OS Black With White Polka Dots                  3   \n",
       "28         Forever21 floral romper strapless                  2   \n",
       "29                             Kendra bundle                  3   \n",
       "30    Too Faced Better Than Sex Mascara QTY3                  1   \n",
       "31            New Lularoe OS leggings, stars                  1   \n",
       "32                              Pink bra 36d                  1   \n",
       "33              Caudalíe Beauty Elixir Spray                  1   \n",
       "34          Four puppy dog stuffed animal ty                  3   \n",
       "35  Black Capri Leggings w/ Flowers One size                  1   \n",
       "36                              Black bag 30                  3   \n",
       "37  Under Armour maroon and gray shirt metal                  4   \n",
       "38                                  XBOX One                  3   \n",
       "39           Victoria secret 34 c corest top                  3   \n",
       "40                    Kylie Birthday Edition                  1   \n",
       "41       tropical flower print bra from pink                  3   \n",
       "42  lots of Korean Nature Republic face mask                  1   \n",
       "43          Apricot beige stick foundation!!                  1   \n",
       "44                     Glass Christmas Bowl✨                  2   \n",
       "45            Woman's north face puffer vest                  3   \n",
       "46       Metallic purple slime with sparkles                  1   \n",
       "47     Brandy Melville Off Shoulder Crop Top                  2   \n",
       "48               Lululemon wunder under crop                  3   \n",
       "49            Younique 3d fiber lash mascara                  1   \n",
       "\n",
       "                                        category_name           brand_name  \\\n",
       "0                                   Men/Tops/T-shirts                 UnkB   \n",
       "1   Electronics/Computers & Tablets/Components & P...                Razer   \n",
       "2                         Women/Tops & Blouses/Blouse               Target   \n",
       "3                  Home/Home Décor/Home Décor Accents                 UnkB   \n",
       "4                             Women/Jewelry/Necklaces                 UnkB   \n",
       "5                                   Women/Other/Other                 UnkB   \n",
       "6                            Women/Swimwear/Two-Piece      Acacia Swimwear   \n",
       "7                     Sports & Outdoors/Apparel/Girls                Soffe   \n",
       "8                     Sports & Outdoors/Apparel/Girls                 Nike   \n",
       "9            Vintage & Collectibles/Collectibles/Doll                 UnkB   \n",
       "10                                 Beauty/Makeup/Face             Smashbox   \n",
       "11                             Beauty/Fragrance/Women    Victoria's Secret   \n",
       "12                     Women/Dresses/Above Knee, Mini                  rue   \n",
       "13              Other/Office supplies/School Supplies           Scholastic   \n",
       "14                                  Women/Shoes/Boots        UGG Australia   \n",
       "15                          Beauty/Makeup/Makeup Sets                Tarte   \n",
       "16                                 Beauty/Makeup/Eyes           Wet n Wild   \n",
       "17                     Kids/Gear/Backpacks & Carriers                 UnkB   \n",
       "18                      Beauty/Makeup/Makeup Palettes            Too Faced   \n",
       "19                        Women/Tops & Blouses/Blouse        Anthropologie   \n",
       "20                    Women/Tops & Blouses/Tank, Cami               Torrid   \n",
       "21                 Women/Athletic Apparel/Sports Bras    Victoria's Secret   \n",
       "22  Electronics/Cell Phones & Accessories/Cell Pho...              Samsung   \n",
       "23  Electronics/Cell Phones & Accessories/Chargers...                 UnkB   \n",
       "24                      Women/Tops & Blouses/T-Shirts           FOREVER 21   \n",
       "25                                 Men/Shoes/Athletic           Air Jordan   \n",
       "26  Electronics/Cell Phones & Accessories/Cases, C...                Apple   \n",
       "27     Women/Athletic Apparel/Pants, Tights, Leggings              LuLaRoe   \n",
       "28                           Women/Swimwear/One-Piece           FOREVER 21   \n",
       "29                               Women/Jeans/Boot Cut            Hollister   \n",
       "30                                 Beauty/Makeup/Eyes            Too Faced   \n",
       "31     Women/Athletic Apparel/Pants, Tights, Leggings                 UnkB   \n",
       "32                               Women/Underwear/Bras                 PINK   \n",
       "33                              Beauty/Skin Care/Face              Sephora   \n",
       "34                  Kids/Toys/Stuffed Animals & Plush                 UnkB   \n",
       "35     Women/Athletic Apparel/Pants, Tights, Leggings                 UnkB   \n",
       "36            Women/Women's Handbags/Totes & Shoppers                 UnkB   \n",
       "37                 Men/Athletic Apparel/Shirts & Tops         Under Armour   \n",
       "38        Electronics/Video Games & Consoles/Consoles                 Xbox   \n",
       "39                               Women/Underwear/Bras    Victoria's Secret   \n",
       "40                          Beauty/Makeup/Makeup Sets      Kylie Cosmetics   \n",
       "41                               Women/Underwear/Bras                 PINK   \n",
       "42                              Beauty/Skin Care/Face                 UnkB   \n",
       "43                                 Beauty/Makeup/Face                 UnkB   \n",
       "44          Vintage & Collectibles/Collectibles/Glass                 UnkB   \n",
       "45                         Women/Coats & Jackets/Vest       The North Face   \n",
       "46                            Kids/Toys/Arts & Crafts                 UnkB   \n",
       "47                        Women/Tops & Blouses/Blouse      Brandy Melville   \n",
       "48                        Women/Pants/Capris, Cropped  lululemon athletica   \n",
       "49                                 Beauty/Makeup/Eyes                 UnkB   \n",
       "\n",
       "    shipping                                   item_description   tag  \\\n",
       "0          1                                 No description yet  None   \n",
       "1          0  This keyboard is in great condition and works ...  None   \n",
       "2          1  Adorable top with a hint of lace and a key hol...  None   \n",
       "3          1  New with tags. Leather horses. Retail for [rm]...   NWT   \n",
       "4          0          Complete with certificate of authenticity  None   \n",
       "5          0  Banana republic bottoms, Candies skirt with ma...  None   \n",
       "6          0  Size small but straps slightly shortened to fi...  None   \n",
       "7          1  You get three pairs of Sophie cheer shorts siz...  None   \n",
       "8          0   Girls Size small Plus green. Three shorts total.  None   \n",
       "9          0  I realized his pants are on backwards after th...  None   \n",
       "10         1       0.25 oz Full size is 1oz for [rm] in Sephora  None   \n",
       "11         0  (5) new vs pink body mists (2.5 oz each) Fresh...  None   \n",
       "12         0                                Xl, great condition  None   \n",
       "13         1                                 No description yet  None   \n",
       "14         0  Authentic. Suede fringe boots. Great condition...  None   \n",
       "15         1  Brand new. Deluxe travel size products. Contai...  None   \n",
       "16         1  2 glitter eyeshadows; one in Brass and one in ...  None   \n",
       "17         1  Brand new in box Size: Medium Color: Coral Ret...  BNIB   \n",
       "18         1  This AUTHENTIC pallete by Too Faced is brand n...  None   \n",
       "19         0  Fancy, dressy or casual! Dress it up or down 1...  None   \n",
       "20         1             Size 1. Worn once. Excellent condition  None   \n",
       "21         0  NWT Victoria's Secret ULTIMATE SPORT BRA -MAXI...   NWT   \n",
       "22         0  Reasonable offers welcomed. But if you ask \"lo...  None   \n",
       "23         1  Brand new never used All colors are available ...  None   \n",
       "24         0  lanascloset ~~~ description: never worn! ✨ i d...  None   \n",
       "25         0  They are 100 percent authentic. They are beate...  None   \n",
       "26         1  Brand new Otterbox Defender iPhone 6 Plus/6s Plus  None   \n",
       "27         0                 Worn one time. Excellent condition  None   \n",
       "28         1  Beautiful Excellent condition Zips and ties in...  None   \n",
       "29         1  29w. X 33l. Social stretch hollister jeans ***...  None   \n",
       "30         1  BNIB 3 for [rm] Better Than Sex Waterproof Mas...  BNIB   \n",
       "31         1                                 No description yet  None   \n",
       "32         0               Pink bra with logo band! 36d push up  None   \n",
       "33         1  New unused and authentic. Caudalie beauty elix...  None   \n",
       "34         1  2 beanie babies pugsley wrinkles Puppy with pu...  None   \n",
       "35         1  One size fits sizes 2-12 92% polyester 8% span...  None   \n",
       "36         0  Pre-owned. Some light scratches on hardware co...  None   \n",
       "37         1  Has some wear to the back, and few white spots...  None   \n",
       "38         0  500GB Comes with power cord One controller wit...  None   \n",
       "39         0  Victoria secret 34 c corest top Will bundle to...  None   \n",
       "40         1  Kylie Happy Birthday Matte Mini Lipstick Kylie...  None   \n",
       "41         1  Used buh looks brand new and is washed and rea...  None   \n",
       "42         1         totally 36 masks, will be expired on Feb..  None   \n",
       "43         1  Great quality!!! Fast free shipping!! You can ...  None   \n",
       "44         1  Brand new! Never used smoking bowl. Just bough...  None   \n",
       "45         0  Black outside medium gray inside. Authentic, s...  None   \n",
       "46         0  This slime is approximately 1.5 ounces, very s...  None   \n",
       "47         0  Brandy Melville Off Shoulder Crop Top. One Siz...  None   \n",
       "48         0  Perfect condition! Super comfy, let me know if...  None   \n",
       "49         1  Younique 3d fiber lash mascara will quickly be...  None   \n",
       "\n",
       "    tag_count  brand_name_count  category_name_count           ...            \\\n",
       "0     1975136            928207                22251           ...             \n",
       "1     1975136               129                 1419           ...             \n",
       "2     1975136              2725                29812           ...             \n",
       "3       84313            928207                19146           ...             \n",
       "4     1975136            928207                28926           ...             \n",
       "5     1975136            928207                10579           ...             \n",
       "6     1975136               638                18704           ...             \n",
       "7     1975136               215                  803           ...             \n",
       "8     1975136             79277                  803           ...             \n",
       "9     1975136            928207                 1180           ...             \n",
       "10    1975136              2033                50352           ...             \n",
       "11    1975136             70508                27471           ...             \n",
       "12    1975136              1389                29582           ...             \n",
       "13    1975136                23                 2748           ...             \n",
       "14    1975136              6919                27499           ...             \n",
       "15    1975136              7275                 8977           ...             \n",
       "16    1975136              1727                37191           ...             \n",
       "17      15159            928207                 2861           ...             \n",
       "18    1975136              8479                27995           ...             \n",
       "19    1975136              1386                29812           ...             \n",
       "20    1975136              3463                29911           ...             \n",
       "21      84313             70508                13225           ...             \n",
       "22    1975136              5985                12799           ...             \n",
       "23    1975136            928207                 3127           ...             \n",
       "24    1975136             22327                68082           ...             \n",
       "25    1975136              5101                20932           ...             \n",
       "26    1975136             25435                36086           ...             \n",
       "27    1975136             45598                88077           ...             \n",
       "28    1975136             22327                 5511           ...             \n",
       "29    1975136             10182                 9492           ...             \n",
       "30      15159              8479                37191           ...             \n",
       "31    1975136            928207                88077           ...             \n",
       "32    1975136             79092                31351           ...             \n",
       "33    1975136             17849                23193           ...             \n",
       "34    1975136            928207                 8598           ...             \n",
       "35    1975136            928207                88077           ...             \n",
       "36    1975136            928207                13765           ...             \n",
       "37    1975136             12414                 3124           ...             \n",
       "38    1975136              8406                 6215           ...             \n",
       "39    1975136             70508                31351           ...             \n",
       "40    1975136              3986                 8977           ...             \n",
       "41    1975136             79092                31351           ...             \n",
       "42    1975136            928207                23193           ...             \n",
       "43    1975136            928207                50352           ...             \n",
       "44    1975136            928207                 1886           ...             \n",
       "45    1975136              9137                 3606           ...             \n",
       "46    1975136            928207                10518           ...             \n",
       "47    1975136              8366                29812           ...             \n",
       "48    1975136              1476                 2553           ...             \n",
       "49    1975136            928207                37191           ...             \n",
       "\n",
       "    category_name_lbl_enc item_condition_id_lbl_enc ci_lbl_enc  bi_lbl_enc  \\\n",
       "0                     829                         2       2808       11903   \n",
       "1                      86                         2        351        9523   \n",
       "2                    1278                         0       4580       11180   \n",
       "3                     503                         0       1535       11901   \n",
       "4                    1205                         0       4276       11901   \n",
       "5                    1217                         2       4323       11903   \n",
       "6                    1277                         2       4577         222   \n",
       "7                     908                         2       3124       10598   \n",
       "8                     908                         2       3124        8197   \n",
       "9                    1046                         2       3658       11903   \n",
       "10                     27                         1        108       10560   \n",
       "11                     11                         0         45       12068   \n",
       "12                   1185                         1       4188       12858   \n",
       "13                    898                         0       3078       10195   \n",
       "14                   1228                         2       4370       11787   \n",
       "15                     31                         0        126       11194   \n",
       "16                     26                         0        102       12291   \n",
       "17                    621                         0       1992       11901   \n",
       "18                     29                         0        117       11561   \n",
       "19                   1278                         1       4581         718   \n",
       "20                   1285                         2       4614       11603   \n",
       "21                   1167                         0       4108       12068   \n",
       "22                     81                         2        329       10092   \n",
       "23                     82                         0        332       11901   \n",
       "24                   1284                         1       4608        4007   \n",
       "25                    780                         2       2619         358   \n",
       "26                     79                         0        317         753   \n",
       "27                   1161                         2       4082        6966   \n",
       "28                   1276                         1       4571        4007   \n",
       "29                   1191                         2       4216        5176   \n",
       "30                     26                         0        102       11561   \n",
       "31                   1161                         0       4080       11901   \n",
       "32                   1289                         0       4631        8626   \n",
       "33                     37                         0        153       10307   \n",
       "34                    719                         2       2368       11903   \n",
       "35                   1161                         0       4080       11901   \n",
       "36                   1310                         2       4733       11903   \n",
       "37                    727                         3       2404       11870   \n",
       "38                    111                         2        471       12452   \n",
       "39                   1289                         2       4633       12070   \n",
       "40                     31                         0        126        6422   \n",
       "41                   1289                         2       4633        8628   \n",
       "42                     37                         0        153       11901   \n",
       "43                     27                         0        107       11901   \n",
       "44                   1048                         1       3667       11902   \n",
       "45                   1182                         2       4176       11337   \n",
       "46                    704                         0       2298       11901   \n",
       "47                   1278                         1       4581        1830   \n",
       "48                   1218                         2       4328       12805   \n",
       "49                     26                         0        102       11901   \n",
       "\n",
       "    sentiment  sentiment_score  name_len  name_words  item_description_len  \\\n",
       "0           1         0.000000        35           7                    18   \n",
       "1           2         0.900000        32           4                   188   \n",
       "2           2         0.136250        14           2                   124   \n",
       "3           2         0.232121        21           3                   173   \n",
       "4           2         0.100000        20           4                    41   \n",
       "5           2         0.500000        32           5                   102   \n",
       "6           2         0.245833        34           5                    83   \n",
       "7           0        -0.177083        36           7                   268   \n",
       "8           0        -0.150000        21           4                    48   \n",
       "9           0        -0.338333        38           6                   297   \n",
       "10          2         0.350000        15           2                    44   \n",
       "11          2         0.262879        22           6                   108   \n",
       "12          2         0.800000        18           3                    19   \n",
       "13          1         0.000000        20           3                    18   \n",
       "14          2         0.457143        34           5                   194   \n",
       "15          2         0.368182        27           4                   151   \n",
       "16          1         0.000000        17           2                    55   \n",
       "17          2         0.175606        35           6                   423   \n",
       "18          2         0.323052        35           5                   307   \n",
       "19          0        -0.071032        30           5                   193   \n",
       "20          2         1.000000        31           5                    38   \n",
       "21          0        -0.200000        32           6                    68   \n",
       "22          2         0.238961        30           5                   336   \n",
       "23          2         0.178788        18           3                    60   \n",
       "24          0        -0.012500        26           5                   293   \n",
       "25          2         0.156250        21           4                   108   \n",
       "26          2         0.136364        39           6                    49   \n",
       "27          2         1.000000        38           7                    34   \n",
       "28          2         0.587500        33           4                    81   \n",
       "29          2         0.211111        13           2                   156   \n",
       "30          2         0.187500        38           7                   123   \n",
       "31          1         0.000000        30           5                    18   \n",
       "32          0        -0.125000        12           3                    36   \n",
       "33          2         0.318182        28           4                    59   \n",
       "34          2         0.301146        32           6                   741   \n",
       "35          2         0.216528        40           7                   111   \n",
       "36          2         0.262500        12           3                   109   \n",
       "37          0        -0.066667        40           7                    80   \n",
       "38          2         0.375000         8           2                   168   \n",
       "39          2         0.166667        31           6                   113   \n",
       "40          0        -0.002727        22           3                   317   \n",
       "41          2         0.230579        35           6                   292   \n",
       "42          1         0.000000        40           7                    42   \n",
       "43          2         0.660991        32           4                   189   \n",
       "44          2         0.230114        21           3                   149   \n",
       "45          2         0.187879        30           5                   116   \n",
       "46          2         0.116952        35           5                   216   \n",
       "47          2         0.166667        37           6                   133   \n",
       "48          2         0.236111        27           4                   404   \n",
       "49          2         0.342424        30           5                   197   \n",
       "\n",
       "    item_description_words  \n",
       "0                        3  \n",
       "1                       36  \n",
       "2                       29  \n",
       "3                       32  \n",
       "4                        5  \n",
       "5                       15  \n",
       "6                       13  \n",
       "7                       51  \n",
       "8                        8  \n",
       "9                       55  \n",
       "10                      10  \n",
       "11                      22  \n",
       "12                       3  \n",
       "13                       3  \n",
       "14                      35  \n",
       "15                      24  \n",
       "16                      10  \n",
       "17                      69  \n",
       "18                      50  \n",
       "19                      29  \n",
       "20                       6  \n",
       "21                      10  \n",
       "22                      60  \n",
       "23                      11  \n",
       "24                      53  \n",
       "25                      21  \n",
       "26                       8  \n",
       "27                       5  \n",
       "28                      14  \n",
       "29                      28  \n",
       "30                      25  \n",
       "31                       3  \n",
       "32                       8  \n",
       "33                      10  \n",
       "34                     110  \n",
       "35                      19  \n",
       "36                      16  \n",
       "37                      17  \n",
       "38                      28  \n",
       "39                      22  \n",
       "40                      57  \n",
       "41                      51  \n",
       "42                       8  \n",
       "43                      32  \n",
       "44                      27  \n",
       "45                      20  \n",
       "46                      38  \n",
       "47                      23  \n",
       "48                      73  \n",
       "49                      32  \n",
       "\n",
       "[50 rows x 28 columns]"
      ]
     },
     "execution_count": 40,
     "metadata": {},
     "output_type": "execute_result"
    }
   ],
   "source": [
    "df_all.head(50)"
   ]
  },
  {
   "cell_type": "code",
   "execution_count": 9,
   "metadata": {
    "collapsed": false
   },
   "outputs": [
    {
     "data": {
      "text/plain": [
       "(1482535, 8)"
      ]
     },
     "execution_count": 9,
     "metadata": {},
     "output_type": "execute_result"
    }
   ],
   "source": [
    "train.shape"
   ]
  },
  {
   "cell_type": "code",
   "execution_count": 10,
   "metadata": {
    "collapsed": false
   },
   "outputs": [
    {
     "data": {
      "text/plain": [
       "(693359, 7)"
      ]
     },
     "execution_count": 10,
     "metadata": {},
     "output_type": "execute_result"
    }
   ],
   "source": [
    "test.shape"
   ]
  },
  {
   "cell_type": "code",
   "execution_count": 11,
   "metadata": {
    "collapsed": false
   },
   "outputs": [
    {
     "data": {
      "text/plain": [
       "Bundle                                      2232\n",
       "Reserved                                     453\n",
       "Converse                                     445\n",
       "BUNDLE                                       418\n",
       "Dress                                        410\n",
       "Coach purse                                  404\n",
       "Lularoe TC leggings                          396\n",
       "Romper                                       353\n",
       "Nike                                         340\n",
       "Vans                                         334\n",
       "American Eagle Jeans                         325\n",
       "Miss Me Jeans                                284\n",
       "Lularoe OS leggings                          281\n",
       "ON HOLD                                      274\n",
       "Coach Purse                                  258\n",
       "Lularoe Irma                                 254\n",
       "Shorts                                       247\n",
       "Michael Kors Purse                           243\n",
       "Bundle!                                      242\n",
       "Coach wallet                                 242\n",
       "Miss me jeans                                238\n",
       "Michael Kors Wallet                          233\n",
       "Rae Dunn                                     227\n",
       "Lularoe TC Leggings                          220\n",
       "Sandals                                      218\n",
       "Nike shoes                                   212\n",
       "American eagle jeans                         211\n",
       "Nike shorts                                  210\n",
       "Michael Kors                                 206\n",
       "Jeans                                        204\n",
       "                                            ... \n",
       "Coach Purse (blue Patent Leather)              1\n",
       "2012 real surprise baby alive                  1\n",
       "Disney kids s/m leggings                       1\n",
       "Lularoe legging bundle                         1\n",
       "CLAYTON KERSHAW ROOKIE CARD                    1\n",
       "Prim Picture With Baby                         1\n",
       "4 Pair -Napier Clip-Ons Vintage                1\n",
       "Maybelline The Nudes Eyeshadow Palette         1\n",
       "Purminerals Foundation (GOLDEN MEDIUM)         1\n",
       "New Pandora Graduation Owl                     1\n",
       "Sterling silver turquoise ring Native          1\n",
       "MK Shoes 6.5M Peach                            1\n",
       "Suede camel skirt                              1\n",
       "Bishops Wife                                   1\n",
       "Rosegold iPhone 6/6s Case                      1\n",
       "BKE Ladies Watch                               1\n",
       "NWT Nike Pro Shorts                            1\n",
       "Nightlight soother moonlight & melodies        1\n",
       "*New* Lularoe Nicole Dress                     1\n",
       "Closet clear out- NWOT purse                   1\n",
       "2 Wide Tooth Combs                             1\n",
       "Dumbo Poster                                   1\n",
       "Pocahontas Blu-Ray + DVD                       1\n",
       "Victoria Secret Top Swimwear 36DD Bottom       1\n",
       "Michael Kors Brown Cross Body                  1\n",
       "MARY KAY Moisturize and Hydrate                1\n",
       "Fitbit surge charger                           1\n",
       "Lularoe Blue Tie Dye Leggings OS NWOT          1\n",
       "Mascara & eyelash curler                       1\n",
       "CARAMEL BLONDE PONYTAIL HAIR EXTENSION         1\n",
       "Name: name, dtype: int64"
      ]
     },
     "execution_count": 11,
     "metadata": {},
     "output_type": "execute_result"
    }
   ],
   "source": [
    "pd.value_counts(train.name)"
   ]
  },
  {
   "cell_type": "code",
   "execution_count": 12,
   "metadata": {
    "collapsed": false
   },
   "outputs": [
    {
     "data": {
      "text/plain": [
       "1225273"
      ]
     },
     "execution_count": 12,
     "metadata": {},
     "output_type": "execute_result"
    }
   ],
   "source": [
    "len(np.unique(train.name))"
   ]
  },
  {
   "cell_type": "code",
   "execution_count": 13,
   "metadata": {
    "collapsed": false
   },
   "outputs": [
    {
     "data": {
      "text/plain": [
       "5"
      ]
     },
     "execution_count": 13,
     "metadata": {},
     "output_type": "execute_result"
    }
   ],
   "source": [
    "len(np.unique(train.item_condition_id))"
   ]
  },
  {
   "cell_type": "code",
   "execution_count": 14,
   "metadata": {
    "collapsed": false
   },
   "outputs": [
    {
     "data": {
      "text/plain": [
       "1    640549\n",
       "3    432161\n",
       "2    375479\n",
       "4     31962\n",
       "5      2384\n",
       "Name: item_condition_id, dtype: int64"
      ]
     },
     "execution_count": 14,
     "metadata": {},
     "output_type": "execute_result"
    }
   ],
   "source": [
    "pd.value_counts(train.item_condition_id)"
   ]
  },
  {
   "cell_type": "code",
   "execution_count": 183,
   "metadata": {
    "collapsed": false
   },
   "outputs": [
    {
     "data": {
      "text/plain": [
       "4810"
      ]
     },
     "execution_count": 183,
     "metadata": {},
     "output_type": "execute_result"
    }
   ],
   "source": [
    "len(set(train.brand_name))"
   ]
  },
  {
   "cell_type": "code",
   "execution_count": null,
   "metadata": {
    "collapsed": true
   },
   "outputs": [],
   "source": [
    "len(set(train.brand_name))"
   ]
  },
  {
   "cell_type": "code",
   "execution_count": 15,
   "metadata": {
    "collapsed": false
   },
   "outputs": [
    {
     "data": {
      "text/plain": [
       "train_id                  0\n",
       "name                      0\n",
       "item_condition_id         0\n",
       "category_name          6327\n",
       "brand_name           632682\n",
       "price                     0\n",
       "shipping                  0\n",
       "item_description          4\n",
       "dtype: int64"
      ]
     },
     "execution_count": 15,
     "metadata": {},
     "output_type": "execute_result"
    }
   ],
   "source": [
    "train.isnull().sum()"
   ]
  },
  {
   "cell_type": "code",
   "execution_count": 16,
   "metadata": {
    "collapsed": false
   },
   "outputs": [
    {
     "data": {
      "text/plain": [
       "test_id                   0\n",
       "name                      0\n",
       "item_condition_id         0\n",
       "category_name          3058\n",
       "brand_name           295525\n",
       "shipping                  0\n",
       "item_description          0\n",
       "dtype: int64"
      ]
     },
     "execution_count": 16,
     "metadata": {},
     "output_type": "execute_result"
    }
   ],
   "source": [
    "test.isnull().sum()"
   ]
  },
  {
   "cell_type": "code",
   "execution_count": null,
   "metadata": {
    "collapsed": true
   },
   "outputs": [],
   "source": []
  },
  {
   "cell_type": "code",
   "execution_count": 17,
   "metadata": {
    "collapsed": true
   },
   "outputs": [],
   "source": [
    "train.fillna('Unk', inplace=True)\n",
    "test.fillna('Unk', inplace=True)"
   ]
  },
  {
   "cell_type": "code",
   "execution_count": 18,
   "metadata": {
    "collapsed": false
   },
   "outputs": [
    {
     "data": {
      "text/plain": [
       "4810"
      ]
     },
     "execution_count": 18,
     "metadata": {},
     "output_type": "execute_result"
    }
   ],
   "source": [
    "len(np.unique(train.brand_name))"
   ]
  },
  {
   "cell_type": "code",
   "execution_count": 19,
   "metadata": {
    "collapsed": false
   },
   "outputs": [
    {
     "data": {
      "text/plain": [
       "1288"
      ]
     },
     "execution_count": 19,
     "metadata": {},
     "output_type": "execute_result"
    }
   ],
   "source": [
    "len(np.unique(train.category_name))"
   ]
  },
  {
   "cell_type": "code",
   "execution_count": 207,
   "metadata": {
    "collapsed": false
   },
   "outputs": [
    {
     "name": "stdout",
     "output_type": "stream",
     "text": [
      "['men', 'tops', 't-shirts']\n",
      "['mlb', 'cincinnati', 'reds', 't', 'shirt', 'size', 'xl']\n",
      "['no', 'description', 'yet']\n",
      "['women', 'athletic apparel', 'shorts']\n",
      "['hold', 'for', 'thewaxjunkie']\n",
      "['merona', 'short', 'bundle,', 'pinstripe', 'shorts', 'and', 'inspire', 'shirt.']\n",
      "times: 0:00:18.674790\n",
      "CPU times: user 18.6 s, sys: 132 ms, total: 18.7 s\n",
      "Wall time: 18.7 s\n"
     ]
    }
   ],
   "source": [
    "%%time\n",
    "start = datetime.now()\n",
    "sub_cat = []\n",
    "\n",
    "for t, row in enumerate(DictReader(open('../data/train.tsv'), delimiter='\\t')): \n",
    "    cat = str(row['category_name']).lower().split('/')\n",
    "    nom = str(row['name']).lower().split()\n",
    "    item_desc = str(row['item_description']).lower().split()\n",
    "\n",
    "    if (t == 0) | (t==5000):\n",
    "        print(cat)\n",
    "        print(nom)\n",
    "        print(item_desc)\n",
    "    for sc in cat:\n",
    "        if sc in nom:\n",
    "            sub_cat.append(sc)\n",
    "            break\n",
    "        elif sc in item_desc:\n",
    "            sub_cat.append(sc)\n",
    "            break\n",
    "        else:\n",
    "            sub_cat.append('None')\n",
    "            break\n",
    "end = datetime.now()\n",
    "print('times:',end-start)"
   ]
  },
  {
   "cell_type": "code",
   "execution_count": null,
   "metadata": {
    "collapsed": true
   },
   "outputs": [],
   "source": [
    "stops = [\"http\",\"www\",\"img\",\"border\",\"home\",\"body\",\"a\",\"about\",\"above\",\"after\",\"again\",\"against\",\"all\",\"am\",\"an\",\n",
    "\"and\",\"any\",\"are\",\"aren't\",\"as\",\"at\",\"be\",\"because\",\"been\",\"before\",\"being\",\"below\",\"between\",\"both\",\"but\",\"by\",\"can't\",\n",
    "\"cannot\",\"could\",\"couldn't\",\"did\",\"didn't\",\"do\",\"does\",\"doesn't\",\"doing\",\"don't\",\"down\",\"during\",\"each\",\"few\",\"for\",\"from\",\n",
    "\"further\",\"had\",\"hadn't\",\"has\",\"hasn't\",\"have\",\"haven't\",\"having\",\"he\",\"he'd\",\"he'll\",\"he's\",\"her\",\"here\",\"here's\",\"hers\",\n",
    "\"herself\",\"him\",\"himself\",\"his\",\"how\",\"how's\",\"i\",\"i'd\",\"i'll\",\"i'm\",\"i've\",\"if\",\"in\",\"into\",\"is\",\"isn't\",\"it\",\"it's\",\"its\",\n",
    "\"itself\",\"let's\",\"me\",\"more\",\"most\",\"mustn't\",\"my\",\"myself\",\"no\",\"nor\",\"not\",\"of\",\"off\",\"on\",\"once\",\"only\",\"or\",\"other\",\"ought\",\n",
    "\"our\",\"ours\",\"ourselves\",\"out\",\"over\",\"own\",\"same\",\"shan't\",\"she\",\"she'd\",\"she'll\",\"she's\",\"should\",\"shouldn't\",\"so\",\"some\",\"such\",\n",
    "\"than\",\"that\",\"that's\",\"the\",\"their\",\"theirs\",\"them\",\"themselves\",\"then\",\"there\",\"there's\",\"these\",\"they\",\"they'd\",\"they'll\",\"they're\",\n",
    "\"they've\",\"this\",\"those\",\"through\",\"to\",\"too\",\"under\",\"until\",\"up\",\"very\",\"was\",\"wasn't\",\"we\",\"we'd\",\"we'll\",\"we're\",\"we've\",\"were\",\n",
    "\"weren't\",\"what\",\"what's\",\"when\",\"when's\"\"where\",\"where's\",\"which\",\"while\",\"who\",\"who's\",\"whom\",\"why\",\"why's\",\"with\",\"won't\",\"would\",\n",
    "\"wouldn't\",\"you\",\"you'd\",\"you'll\",\"you're\",\"you've\",\"your\",\"yours\",\"yourself\",\"yourselves\" ]\n"
   ]
  },
  {
   "cell_type": "code",
   "execution_count": null,
   "metadata": {
    "collapsed": true
   },
   "outputs": [],
   "source": [
    "\n",
    "def prepare_ngram_interaction(path,out):\n",
    "    print path\n",
    "    c = 0\n",
    "    start = datetime.now()\n",
    "    with open(out, 'w') as outfile:\n",
    "        outfile.write('count_of_stop_name,ratio_of_stop_name,count_of_stop_item_desc,ratio_of_stop_item_desc\\n')\n",
    "        for t, row in enumerate(DictReader(open(path), delimiter=',')): \n",
    "            if c%100000==0:\n",
    "                print 'finished',c\n",
    "            q1_ngram = str(row['question1'].lower()).split()\n",
    "            q2_ngram = str(row['question2'].lower()).split()\n",
    "\n",
    "            count_of_stop_question1 = get_count_q1_in_q2(q1_ngram,stops)\n",
    "            ratio_of_stop_question1 = get_ratio_q1_in_q2(q1_ngram,stops)\n",
    "\n",
    "            count_of_stop_question2 = get_count_q1_in_q2(q2_ngram,stops)\n",
    "            ratio_of_stop_question2 = get_ratio_q1_in_q2(q2_ngram,stops)\n",
    "\n",
    "\n",
    "            outfile.write('%s,%s,%s,%s\\n' % (\n",
    "                count_of_stop_question1,\n",
    "                ratio_of_stop_question1,\n",
    "                count_of_stop_question2,\n",
    "                ratio_of_stop_question2,\n",
    "                ))\n",
    "            c+=1\n",
    "        end = datetime.now()\n",
    "\n",
    "    print 'times:',end-start\n",
    "\n"
   ]
  },
  {
   "cell_type": "code",
   "execution_count": null,
   "metadata": {
    "collapsed": true
   },
   "outputs": [],
   "source": [
    "prepare_ngram_interaction(path+'train_porter.csv',path+'train_porter_stop_features.csv')\n",
    "prepare_ngram_interaction(path+'test_porter.csv',path+'test_porter_stop_features.csv')"
   ]
  },
  {
   "cell_type": "code",
   "execution_count": 196,
   "metadata": {
    "collapsed": false
   },
   "outputs": [
    {
     "data": {
      "text/plain": [
       "1464176"
      ]
     },
     "execution_count": 196,
     "metadata": {},
     "output_type": "execute_result"
    }
   ],
   "source": [
    "sum(pd.Series(sub_cat) == 'None')"
   ]
  },
  {
   "cell_type": "code",
   "execution_count": 20,
   "metadata": {
    "collapsed": false
   },
   "outputs": [
    {
     "data": {
      "text/plain": [
       "0    819435\n",
       "1    663100\n",
       "Name: shipping, dtype: int64"
      ]
     },
     "execution_count": 20,
     "metadata": {},
     "output_type": "execute_result"
    }
   ],
   "source": [
    "train.shipping.value_counts()"
   ]
  },
  {
   "cell_type": "code",
   "execution_count": 21,
   "metadata": {
    "collapsed": true
   },
   "outputs": [],
   "source": [
    "porter = PorterStemmer()\n",
    "# snowball = SnowballStemmer('english')"
   ]
  },
  {
   "cell_type": "code",
   "execution_count": 22,
   "metadata": {
    "collapsed": true
   },
   "outputs": [],
   "source": [
    "train['DL'] = train['item_description'].map(lambda x: len(x))\n",
    "test['DL'] = test['item_description'].map(lambda x: len(x))"
   ]
  },
  {
   "cell_type": "code",
   "execution_count": 21,
   "metadata": {
    "collapsed": false
   },
   "outputs": [
    {
     "data": {
      "text/plain": [
       "train_id                                                            18\n",
       "name                               Too Faced Limited \"Merry Macaroons\"\n",
       "item_condition_id                                                    1\n",
       "category_name                            Beauty/Makeup/Makeup Palettes\n",
       "brand_name                                                   Too Faced\n",
       "price                                                               25\n",
       "shipping                                                             1\n",
       "item_description     This AUTHENTIC pallete by Too Faced is brand n...\n",
       "DL                                                                 307\n",
       "Name: 18, dtype: object"
      ]
     },
     "execution_count": 21,
     "metadata": {},
     "output_type": "execute_result"
    }
   ],
   "source": [
    "train.iloc[18]"
   ]
  },
  {
   "cell_type": "code",
   "execution_count": 23,
   "metadata": {
    "collapsed": false
   },
   "outputs": [
    {
     "data": {
      "text/html": [
       "<div>\n",
       "<table border=\"1\" class=\"dataframe\">\n",
       "  <thead>\n",
       "    <tr style=\"text-align: right;\">\n",
       "      <th></th>\n",
       "      <th>train_id</th>\n",
       "      <th>name</th>\n",
       "      <th>item_condition_id</th>\n",
       "      <th>category_name</th>\n",
       "      <th>brand_name</th>\n",
       "      <th>price</th>\n",
       "      <th>shipping</th>\n",
       "      <th>item_description</th>\n",
       "      <th>DL</th>\n",
       "    </tr>\n",
       "  </thead>\n",
       "  <tbody>\n",
       "    <tr>\n",
       "      <th>2730</th>\n",
       "      <td>2730</td>\n",
       "      <td>Vs lip gloss set!</td>\n",
       "      <td>1</td>\n",
       "      <td>Beauty/Makeup/Lips</td>\n",
       "      <td>Victoria's Secret</td>\n",
       "      <td>14.0</td>\n",
       "      <td>0</td>\n",
       "      <td>.</td>\n",
       "      <td>1</td>\n",
       "    </tr>\n",
       "    <tr>\n",
       "      <th>3552</th>\n",
       "      <td>3552</td>\n",
       "      <td>Strappy Black Lingerie</td>\n",
       "      <td>1</td>\n",
       "      <td>Women/Underwear/Panties</td>\n",
       "      <td>Unk</td>\n",
       "      <td>8.0</td>\n",
       "      <td>1</td>\n",
       "      <td>❤</td>\n",
       "      <td>1</td>\n",
       "    </tr>\n",
       "    <tr>\n",
       "      <th>9101</th>\n",
       "      <td>9101</td>\n",
       "      <td>2 half zips bundle</td>\n",
       "      <td>3</td>\n",
       "      <td>Women/Athletic Apparel/Jackets</td>\n",
       "      <td>Victoria's Secret</td>\n",
       "      <td>46.0</td>\n",
       "      <td>0</td>\n",
       "      <td>2</td>\n",
       "      <td>1</td>\n",
       "    </tr>\n",
       "    <tr>\n",
       "      <th>9404</th>\n",
       "      <td>9404</td>\n",
       "      <td>Carter's Valentines Onesie NWT NB</td>\n",
       "      <td>1</td>\n",
       "      <td>Kids/Girls 0-24 Mos/One-Pieces</td>\n",
       "      <td>Carter's</td>\n",
       "      <td>10.0</td>\n",
       "      <td>0</td>\n",
       "      <td>.</td>\n",
       "      <td>1</td>\n",
       "    </tr>\n",
       "    <tr>\n",
       "      <th>16733</th>\n",
       "      <td>16733</td>\n",
       "      <td>LuLaRoe CarlyDress size Xs</td>\n",
       "      <td>1</td>\n",
       "      <td>Women/Dresses/Knee-Length</td>\n",
       "      <td>Unk</td>\n",
       "      <td>36.0</td>\n",
       "      <td>0</td>\n",
       "      <td>-</td>\n",
       "      <td>1</td>\n",
       "    </tr>\n",
       "  </tbody>\n",
       "</table>\n",
       "</div>"
      ],
      "text/plain": [
       "       train_id                               name  item_condition_id  \\\n",
       "2730       2730                  Vs lip gloss set!                  1   \n",
       "3552       3552             Strappy Black Lingerie                  1   \n",
       "9101       9101                 2 half zips bundle                  3   \n",
       "9404       9404  Carter's Valentines Onesie NWT NB                  1   \n",
       "16733     16733         LuLaRoe CarlyDress size Xs                  1   \n",
       "\n",
       "                        category_name         brand_name  price  shipping  \\\n",
       "2730               Beauty/Makeup/Lips  Victoria's Secret   14.0         0   \n",
       "3552          Women/Underwear/Panties                Unk    8.0         1   \n",
       "9101   Women/Athletic Apparel/Jackets  Victoria's Secret   46.0         0   \n",
       "9404   Kids/Girls 0-24 Mos/One-Pieces           Carter's   10.0         0   \n",
       "16733       Women/Dresses/Knee-Length                Unk   36.0         0   \n",
       "\n",
       "      item_description  DL  \n",
       "2730                 .   1  \n",
       "3552                 ❤   1  \n",
       "9101                 2   1  \n",
       "9404                 .   1  \n",
       "16733                -   1  "
      ]
     },
     "execution_count": 23,
     "metadata": {},
     "output_type": "execute_result"
    }
   ],
   "source": [
    "train[train['DL'] == 1].head()"
   ]
  },
  {
   "cell_type": "code",
   "execution_count": 24,
   "metadata": {
    "collapsed": false
   },
   "outputs": [
    {
     "data": {
      "text/html": [
       "<div>\n",
       "<table border=\"1\" class=\"dataframe\">\n",
       "  <thead>\n",
       "    <tr style=\"text-align: right;\">\n",
       "      <th></th>\n",
       "      <th>train_id</th>\n",
       "      <th>name</th>\n",
       "      <th>item_condition_id</th>\n",
       "      <th>category_name</th>\n",
       "      <th>brand_name</th>\n",
       "      <th>price</th>\n",
       "      <th>shipping</th>\n",
       "      <th>item_description</th>\n",
       "      <th>DL</th>\n",
       "    </tr>\n",
       "  </thead>\n",
       "  <tbody>\n",
       "    <tr>\n",
       "      <th>9979</th>\n",
       "      <td>9979</td>\n",
       "      <td>200 cat collars and 30 dog collars :)</td>\n",
       "      <td>1</td>\n",
       "      <td>Handmade/Pets/Collar</td>\n",
       "      <td>Unk</td>\n",
       "      <td>165.0</td>\n",
       "      <td>0</td>\n",
       "      <td>:)</td>\n",
       "      <td>2</td>\n",
       "    </tr>\n",
       "    <tr>\n",
       "      <th>10429</th>\n",
       "      <td>10429</td>\n",
       "      <td>Old navy cute sundress</td>\n",
       "      <td>3</td>\n",
       "      <td>Women/Dresses/Above Knee, Mini</td>\n",
       "      <td>Old Navy</td>\n",
       "      <td>8.0</td>\n",
       "      <td>0</td>\n",
       "      <td>:)</td>\n",
       "      <td>2</td>\n",
       "    </tr>\n",
       "    <tr>\n",
       "      <th>12278</th>\n",
       "      <td>12278</td>\n",
       "      <td>Outcast 1-12 Comics</td>\n",
       "      <td>3</td>\n",
       "      <td>Vintage &amp; Collectibles/Book/Comics</td>\n",
       "      <td>Unk</td>\n",
       "      <td>44.0</td>\n",
       "      <td>0</td>\n",
       "      <td>NM</td>\n",
       "      <td>2</td>\n",
       "    </tr>\n",
       "    <tr>\n",
       "      <th>14405</th>\n",
       "      <td>14405</td>\n",
       "      <td>Victoria's Secret PINK Glitter Leggings</td>\n",
       "      <td>2</td>\n",
       "      <td>Women/Athletic Apparel/Pants, Tights, Leggings</td>\n",
       "      <td>Victoria's Secret</td>\n",
       "      <td>16.0</td>\n",
       "      <td>0</td>\n",
       "      <td>XS</td>\n",
       "      <td>2</td>\n",
       "    </tr>\n",
       "    <tr>\n",
       "      <th>14672</th>\n",
       "      <td>14672</td>\n",
       "      <td>Black fur coat</td>\n",
       "      <td>2</td>\n",
       "      <td>Women/Coats &amp; Jackets/Other</td>\n",
       "      <td>Old Navy</td>\n",
       "      <td>16.0</td>\n",
       "      <td>0</td>\n",
       "      <td>XL</td>\n",
       "      <td>2</td>\n",
       "    </tr>\n",
       "  </tbody>\n",
       "</table>\n",
       "</div>"
      ],
      "text/plain": [
       "       train_id                                     name  item_condition_id  \\\n",
       "9979       9979    200 cat collars and 30 dog collars :)                  1   \n",
       "10429     10429                   Old navy cute sundress                  3   \n",
       "12278     12278                      Outcast 1-12 Comics                  3   \n",
       "14405     14405  Victoria's Secret PINK Glitter Leggings                  2   \n",
       "14672     14672                           Black fur coat                  2   \n",
       "\n",
       "                                        category_name         brand_name  \\\n",
       "9979                             Handmade/Pets/Collar                Unk   \n",
       "10429                  Women/Dresses/Above Knee, Mini           Old Navy   \n",
       "12278              Vintage & Collectibles/Book/Comics                Unk   \n",
       "14405  Women/Athletic Apparel/Pants, Tights, Leggings  Victoria's Secret   \n",
       "14672                     Women/Coats & Jackets/Other           Old Navy   \n",
       "\n",
       "       price  shipping item_description  DL  \n",
       "9979   165.0         0               :)   2  \n",
       "10429    8.0         0               :)   2  \n",
       "12278   44.0         0               NM   2  \n",
       "14405   16.0         0               XS   2  \n",
       "14672   16.0         0               XL   2  "
      ]
     },
     "execution_count": 24,
     "metadata": {},
     "output_type": "execute_result"
    }
   ],
   "source": [
    "train[train['DL'] == 2].head()"
   ]
  },
  {
   "cell_type": "code",
   "execution_count": 25,
   "metadata": {
    "collapsed": false
   },
   "outputs": [
    {
     "data": {
      "text/html": [
       "<div>\n",
       "<table border=\"1\" class=\"dataframe\">\n",
       "  <thead>\n",
       "    <tr style=\"text-align: right;\">\n",
       "      <th></th>\n",
       "      <th>train_id</th>\n",
       "      <th>name</th>\n",
       "      <th>item_condition_id</th>\n",
       "      <th>category_name</th>\n",
       "      <th>brand_name</th>\n",
       "      <th>price</th>\n",
       "      <th>shipping</th>\n",
       "      <th>item_description</th>\n",
       "      <th>DL</th>\n",
       "    </tr>\n",
       "  </thead>\n",
       "  <tbody>\n",
       "    <tr>\n",
       "      <th>58</th>\n",
       "      <td>58</td>\n",
       "      <td>New yokai watch backpack</td>\n",
       "      <td>1</td>\n",
       "      <td>Kids/Gear/Backpacks &amp; Carriers</td>\n",
       "      <td>Unk</td>\n",
       "      <td>10.0</td>\n",
       "      <td>0</td>\n",
       "      <td>New</td>\n",
       "      <td>3</td>\n",
       "    </tr>\n",
       "    <tr>\n",
       "      <th>140</th>\n",
       "      <td>140</td>\n",
       "      <td>Zelda Link Amiibo.</td>\n",
       "      <td>1</td>\n",
       "      <td>Electronics/Video Games &amp; Consoles/Video Gamin...</td>\n",
       "      <td>Nintendo</td>\n",
       "      <td>40.0</td>\n",
       "      <td>1</td>\n",
       "      <td>New</td>\n",
       "      <td>3</td>\n",
       "    </tr>\n",
       "    <tr>\n",
       "      <th>768</th>\n",
       "      <td>768</td>\n",
       "      <td>Sale! [rm] For 2 morphe brushes</td>\n",
       "      <td>1</td>\n",
       "      <td>Beauty/Tools &amp; Accessories/Makeup Brushes &amp; Tools</td>\n",
       "      <td>Unk</td>\n",
       "      <td>12.0</td>\n",
       "      <td>1</td>\n",
       "      <td>New</td>\n",
       "      <td>3</td>\n",
       "    </tr>\n",
       "    <tr>\n",
       "      <th>920</th>\n",
       "      <td>920</td>\n",
       "      <td>Lularoe hula dancers, os.</td>\n",
       "      <td>1</td>\n",
       "      <td>Women/Athletic Apparel/Pants, Tights, Leggings</td>\n",
       "      <td>Unk</td>\n",
       "      <td>30.0</td>\n",
       "      <td>1</td>\n",
       "      <td>New</td>\n",
       "      <td>3</td>\n",
       "    </tr>\n",
       "    <tr>\n",
       "      <th>964</th>\n",
       "      <td>964</td>\n",
       "      <td>Doc McStuffins Activity Set Kit Toy</td>\n",
       "      <td>1</td>\n",
       "      <td>Kids/Toys/Dolls &amp; Accessories</td>\n",
       "      <td>Unk</td>\n",
       "      <td>7.0</td>\n",
       "      <td>1</td>\n",
       "      <td>New</td>\n",
       "      <td>3</td>\n",
       "    </tr>\n",
       "  </tbody>\n",
       "</table>\n",
       "</div>"
      ],
      "text/plain": [
       "     train_id                                 name  item_condition_id  \\\n",
       "58         58             New yokai watch backpack                  1   \n",
       "140       140                   Zelda Link Amiibo.                  1   \n",
       "768       768      Sale! [rm] For 2 morphe brushes                  1   \n",
       "920       920            Lularoe hula dancers, os.                  1   \n",
       "964       964  Doc McStuffins Activity Set Kit Toy                  1   \n",
       "\n",
       "                                         category_name brand_name  price  \\\n",
       "58                      Kids/Gear/Backpacks & Carriers        Unk   10.0   \n",
       "140  Electronics/Video Games & Consoles/Video Gamin...   Nintendo   40.0   \n",
       "768  Beauty/Tools & Accessories/Makeup Brushes & Tools        Unk   12.0   \n",
       "920     Women/Athletic Apparel/Pants, Tights, Leggings        Unk   30.0   \n",
       "964                      Kids/Toys/Dolls & Accessories        Unk    7.0   \n",
       "\n",
       "     shipping item_description  DL  \n",
       "58          0              New   3  \n",
       "140         1              New   3  \n",
       "768         1              New   3  \n",
       "920         1              New   3  \n",
       "964         1              New   3  "
      ]
     },
     "execution_count": 25,
     "metadata": {},
     "output_type": "execute_result"
    }
   ],
   "source": [
    "train[train['DL'] == 3].head()"
   ]
  },
  {
   "cell_type": "code",
   "execution_count": 26,
   "metadata": {
    "collapsed": false
   },
   "outputs": [
    {
     "data": {
      "text/html": [
       "<div>\n",
       "<table border=\"1\" class=\"dataframe\">\n",
       "  <thead>\n",
       "    <tr style=\"text-align: right;\">\n",
       "      <th></th>\n",
       "      <th>train_id</th>\n",
       "      <th>name</th>\n",
       "      <th>item_condition_id</th>\n",
       "      <th>category_name</th>\n",
       "      <th>brand_name</th>\n",
       "      <th>price</th>\n",
       "      <th>shipping</th>\n",
       "      <th>item_description</th>\n",
       "      <th>DL</th>\n",
       "    </tr>\n",
       "  </thead>\n",
       "  <tbody>\n",
       "    <tr>\n",
       "      <th>684</th>\n",
       "      <td>684</td>\n",
       "      <td>Splat Pink Fetish Rose Hair Dye</td>\n",
       "      <td>2</td>\n",
       "      <td>Beauty/Hair Care/Hair Color</td>\n",
       "      <td>Unk</td>\n",
       "      <td>7.0</td>\n",
       "      <td>0</td>\n",
       "      <td>Full</td>\n",
       "      <td>4</td>\n",
       "    </tr>\n",
       "    <tr>\n",
       "      <th>1253</th>\n",
       "      <td>1253</td>\n",
       "      <td>AF tank</td>\n",
       "      <td>2</td>\n",
       "      <td>Women/Tops &amp; Blouses/Tank, Cami</td>\n",
       "      <td>Abercrombie &amp; Fitch</td>\n",
       "      <td>8.0</td>\n",
       "      <td>1</td>\n",
       "      <td>Nwot</td>\n",
       "      <td>4</td>\n",
       "    </tr>\n",
       "    <tr>\n",
       "      <th>1965</th>\n",
       "      <td>1965</td>\n",
       "      <td>Burberry, baby boy, 18months</td>\n",
       "      <td>3</td>\n",
       "      <td>Kids/Boys 0-24 Mos/Tops &amp; T-Shirts</td>\n",
       "      <td>Unk</td>\n",
       "      <td>22.0</td>\n",
       "      <td>0</td>\n",
       "      <td>Used</td>\n",
       "      <td>4</td>\n",
       "    </tr>\n",
       "    <tr>\n",
       "      <th>1978</th>\n",
       "      <td>1978</td>\n",
       "      <td>LuLaRoe Sarah Large black thin ribbed</td>\n",
       "      <td>1</td>\n",
       "      <td>Women/Sweaters/Cardigan</td>\n",
       "      <td>Unk</td>\n",
       "      <td>86.0</td>\n",
       "      <td>0</td>\n",
       "      <td>BNWT</td>\n",
       "      <td>4</td>\n",
       "    </tr>\n",
       "    <tr>\n",
       "      <th>2178</th>\n",
       "      <td>2178</td>\n",
       "      <td>Yoga Mat</td>\n",
       "      <td>3</td>\n",
       "      <td>Sports &amp; Outdoors/Exercise/Yoga &amp; Pilates</td>\n",
       "      <td>Unk</td>\n",
       "      <td>12.0</td>\n",
       "      <td>0</td>\n",
       "      <td>Used</td>\n",
       "      <td>4</td>\n",
       "    </tr>\n",
       "  </tbody>\n",
       "</table>\n",
       "</div>"
      ],
      "text/plain": [
       "      train_id                                   name  item_condition_id  \\\n",
       "684        684        Splat Pink Fetish Rose Hair Dye                  2   \n",
       "1253      1253                                AF tank                  2   \n",
       "1965      1965           Burberry, baby boy, 18months                  3   \n",
       "1978      1978  LuLaRoe Sarah Large black thin ribbed                  1   \n",
       "2178      2178                               Yoga Mat                  3   \n",
       "\n",
       "                                  category_name           brand_name  price  \\\n",
       "684                 Beauty/Hair Care/Hair Color                  Unk    7.0   \n",
       "1253            Women/Tops & Blouses/Tank, Cami  Abercrombie & Fitch    8.0   \n",
       "1965         Kids/Boys 0-24 Mos/Tops & T-Shirts                  Unk   22.0   \n",
       "1978                    Women/Sweaters/Cardigan                  Unk   86.0   \n",
       "2178  Sports & Outdoors/Exercise/Yoga & Pilates                  Unk   12.0   \n",
       "\n",
       "      shipping item_description  DL  \n",
       "684          0             Full   4  \n",
       "1253         1             Nwot   4  \n",
       "1965         0             Used   4  \n",
       "1978         0             BNWT   4  \n",
       "2178         0             Used   4  "
      ]
     },
     "execution_count": 26,
     "metadata": {},
     "output_type": "execute_result"
    }
   ],
   "source": [
    "train[train['DL'] == 4].head()"
   ]
  },
  {
   "cell_type": "code",
   "execution_count": 31,
   "metadata": {
    "collapsed": false
   },
   "outputs": [
    {
     "name": "stdout",
     "output_type": "stream",
     "text": [
      "Clean digits\n",
      "CPU times: user 11.7 s, sys: 164 ms, total: 11.9 s\n",
      "Wall time: 11.9 s\n"
     ]
    }
   ],
   "source": [
    "%%time\n",
    "\n",
    "print('Clean digits')\n",
    "train['item_description'] = train['item_description'].astype('str').apply(lambda x:remove_digits(x.lower()))\n",
    "test['item_description'] = test['item_description'].astype('str').apply(lambda x:remove_digits(x.lower()))"
   ]
  },
  {
   "cell_type": "code",
   "execution_count": 32,
   "metadata": {
    "collapsed": false
   },
   "outputs": [
    {
     "name": "stdout",
     "output_type": "stream",
     "text": [
      "Generate porter\n",
      "metal   sterling silver stone  black onyx style  celtic eing  vintage ring  boho ring size    rafaella jewelry\n",
      "\n",
      "\n",
      "brand new   authentic  tarteist pro palette by tarte  high performance naturals   code on back of palette is hard to see it s oed  palette has never been used  swatched or took out of the box besides for this picture session     nib   retails higher  still has plastic over the colors and a  makeup  of the day if you d like a guide     price is firm as this is an expensive piece   no low balling  it will get you blocked  and i dont like blocking people so let s have some fun and get this brand new beauty of a palette to a new home  ty  happy shopping  \n",
      "\n",
      "\n",
      "used for my first aid college course  purchased new  first aid  cpr    aed advanced textbook  th edition access code never scratched off  isbn       no free shipping  i ship priority mail   bundle with my other nursing books to save on shipping costs \n",
      "\n",
      "\n",
      "advanced first aid  cpr   aed   american govt textbook bundle  great condition minus for bend in cover  cd included  isbn         \n",
      "\n",
      "\n",
      "cute black   white polka dot skort size  in very good ued condition \n",
      "\n",
      "\n",
      "purchased off an ebayer  investing in a new madewell bag  gently used  no signs of scuffing or scratches  only defects are the monogram of  aed  on one side of the bag and a missing left bolt  still has lots of life left \n",
      "\n",
      "\n",
      "metal   sterling silver stone  black onyx style  celtic eing  vintage ring  boho ring size    rafaella jewelry\n",
      "\n",
      "\n",
      "CPU times: user 18min 8s, sys: 1.16 s, total: 18min 9s\n",
      "Wall time: 18min 9s\n"
     ]
    }
   ],
   "source": [
    "%%time\n",
    "\n",
    "print('Generate porter')\n",
    "train['ide_p'] = train['item_description'].astype('str').apply(lambda x:stem_str(x.lower(),porter))\n",
    "test['ide_p'] = test['item_description'].astype('str').apply(lambda x:stem_str(x.lower(),porter))"
   ]
  },
  {
   "cell_type": "code",
   "execution_count": 33,
   "metadata": {
    "collapsed": false
   },
   "outputs": [
    {
     "name": "stdout",
     "output_type": "stream",
     "text": [
      "Clean digits\n",
      "CPU times: user 5.16 s, sys: 72 ms, total: 5.23 s\n",
      "Wall time: 5.23 s\n"
     ]
    }
   ],
   "source": [
    "%%time\n",
    "\n",
    "print('Clean digits')\n",
    "train['name'] = train['name'].astype('str').apply(lambda x:remove_digits(x.lower()))\n",
    "test['name'] = test['name'].astype('str').apply(lambda x:remove_digits(x.lower()))"
   ]
  },
  {
   "cell_type": "code",
   "execution_count": 34,
   "metadata": {
    "collapsed": false
   },
   "outputs": [
    {
     "name": "stdout",
     "output_type": "stream",
     "text": [
      "Generate porter\n",
      "first aid cpr   aed advanced textbook\n",
      "\n",
      "\n",
      "CPU times: user 3min 26s, sys: 200 ms, total: 3min 26s\n",
      "Wall time: 3min 26s\n"
     ]
    }
   ],
   "source": [
    "%%time\n",
    "\n",
    "print('Generate porter')\n",
    "train['n_p'] = train['name'].astype('str').apply(lambda x:stem_str(x.lower(),porter))\n",
    "test['n_p'] = test['name'].astype('str').apply(lambda x:stem_str(x.lower(),porter))"
   ]
  },
  {
   "cell_type": "code",
   "execution_count": 35,
   "metadata": {
    "collapsed": true
   },
   "outputs": [],
   "source": [
    "train.to_csv('../cache/train_porter.csv', index=False)"
   ]
  },
  {
   "cell_type": "code",
   "execution_count": 36,
   "metadata": {
    "collapsed": true
   },
   "outputs": [],
   "source": [
    "test.to_csv('../cache/test_porter.csv', index=False)"
   ]
  },
  {
   "cell_type": "code",
   "execution_count": 37,
   "metadata": {
    "collapsed": false
   },
   "outputs": [
    {
     "data": {
      "text/plain": [
       "'!\"#$%&\\'()*+,-./:;<=>?@[\\\\]^_`{|}~,'"
      ]
     },
     "execution_count": 37,
     "metadata": {},
     "output_type": "execute_result"
    }
   ],
   "source": [
    "#path = '../cache/'\n",
    "\n",
    "\n",
    "string.punctuation.__add__('!!')\n",
    "string.punctuation.__add__('(')\n",
    "string.punctuation.__add__(')')\n",
    "string.punctuation.__add__('?')\n",
    "string.punctuation.__add__('.')\n",
    "string.punctuation.__add__(',')\n"
   ]
  },
  {
   "cell_type": "code",
   "execution_count": null,
   "metadata": {
    "collapsed": true
   },
   "outputs": [],
   "source": []
  },
  {
   "cell_type": "code",
   "execution_count": 138,
   "metadata": {
    "collapsed": true
   },
   "outputs": [],
   "source": [
    "def remove_punctuation(x):\n",
    "    new_line = [ w for w in list(x) if w not in string.punctuation]\n",
    "    new_line = ''.join(new_line)\n",
    "#     print(new_line)\n",
    "    return new_line"
   ]
  },
  {
   "cell_type": "code",
   "execution_count": 140,
   "metadata": {
    "collapsed": false
   },
   "outputs": [],
   "source": [
    "def prepare_unigram(path,out):\n",
    "    print(path)\n",
    "    c = 0\n",
    "    start = datetime.now()\n",
    "    with open(out, 'w') as outfile:\n",
    "        outfile.write('name_unigram,item_desc_unigram\\n')\n",
    "        for t, row in enumerate(DictReader(open(path), delimiter=',')): \n",
    "            if c%100000==0:\n",
    "                print('finished',c)\n",
    "            a1 = remove_punctuation(str(row['n_p']).lower()).split(' ')\n",
    "            a2 = remove_punctuation(str(row['ide_p']).lower()).lower().split(' ')\n",
    "            if c==0:\n",
    "                print('1')\n",
    "                print(a1)\n",
    "            a1_bigram = ' '.join(a1)\n",
    "            a2_bigram = ' '.join(a2)\n",
    "            if c==0:\n",
    "                print('3')\n",
    "                print(a1_bigram)\n",
    "            outfile.write('%s,%s\\n' % (a1_bigram, a2_bigram))\n",
    "            c+=1\n",
    "        end = datetime.now()\n",
    "\n",
    "\n",
    "    print('times:{}'.format(end-start))\n"
   ]
  },
  {
   "cell_type": "code",
   "execution_count": 153,
   "metadata": {
    "collapsed": true
   },
   "outputs": [],
   "source": [
    "def getUnigram(words):\n",
    "    \"\"\"\n",
    "        Input: a list of words, e.g., ['I', 'am', 'Denny']\n",
    "        Output: a list of unigram\n",
    "    \"\"\"\n",
    "    assert type(words) == list\n",
    "    return words\n"
   ]
  },
  {
   "cell_type": "code",
   "execution_count": 154,
   "metadata": {
    "collapsed": true
   },
   "outputs": [],
   "source": [
    "def getBigram(words, join_string=\"_\", skip=0):\n",
    "    \"\"\"\n",
    "       Input: a list of words, e.g., ['I', 'am', 'Denny']\n",
    "       Output: a list of bigram, e.g., ['I_am', 'am_Denny']\n",
    "       I use _ as join_string for this example.\n",
    "    \"\"\"\n",
    "    assert type(words) == list\n",
    "    L = len(words)\n",
    "    if L > 1:\n",
    "        lst = []\n",
    "        for i in range(L-1):\n",
    "            for k in range(1,skip+2):\n",
    "                if i+k < L:\n",
    "                    lst.append( join_string.join([words[i], words[i+k]]) )\n",
    "    else:\n",
    "        # set it as unigram\n",
    "        lst = getUnigram(words)\n",
    "    return lst\n"
   ]
  },
  {
   "cell_type": "code",
   "execution_count": 155,
   "metadata": {
    "collapsed": false
   },
   "outputs": [],
   "source": [
    "def prepare_bigram(path,out):\n",
    "    print(path)\n",
    "    c = 0\n",
    "    start = datetime.now()\n",
    "    with open(out, 'w') as outfile:\n",
    "        outfile.write('name_bigram,item_desc_bigram\\n')\n",
    "        for t, row in enumerate(DictReader(open(path), delimiter=',')): \n",
    "            if c%100000==0:\n",
    "                print('finished',c)\n",
    "            \n",
    "            a1 = remove_punctuation(str(row['n_p']).lower()).split(' ')\n",
    "            a2 = remove_punctuation(str(row['ide_p']).lower()).lower().split(' ')\n",
    "            \n",
    "            a1_bigram = getBigram(a1)\n",
    "            a2_bigram = getBigram(a2)\n",
    "            if c==0:\n",
    "                print('----')\n",
    "                print(row['n_p'])\n",
    "                print(row['ide_p'])\n",
    "                print(a1_bigram)\n",
    "                print('----')\n",
    "            a1_bigram = ' '.join(a1_bigram)\n",
    "            a2_bigram = ' '.join(a2_bigram)\n",
    "            if c==0:\n",
    "                print(a1_bigram)\n",
    "                print('-----------------')\n",
    "            outfile.write('%s,%s\\n' % (a1_bigram, a2_bigram))\n",
    "            c+=1\n",
    "        end = datetime.now()\n",
    "\n",
    "\n",
    "    print('times:{}'.format(end-start))"
   ]
  },
  {
   "cell_type": "code",
   "execution_count": 156,
   "metadata": {
    "collapsed": true
   },
   "outputs": [],
   "source": [
    "def distinct_terms(lst1, lst2):\n",
    "    lst1 = lst1.split(\" \")\n",
    "    lst2 = lst2.split(\" \")\n",
    "    common = set(lst1).intersection(set(lst2))\n",
    "    new_lst1 = ' '.join([w for w in lst1 if w not in common])\n",
    "    new_lst2 = ' '.join([w for w in lst2 if w not in common])\n",
    "    \n",
    "    return (new_lst1,new_lst2)"
   ]
  },
  {
   "cell_type": "code",
   "execution_count": 177,
   "metadata": {
    "collapsed": true
   },
   "outputs": [],
   "source": [
    "def prepare_distinct(path,out):\n",
    "    print(path)\n",
    "    c = 0\n",
    "    start = datetime.now()\n",
    "    with open(out, 'w') as outfile:\n",
    "        outfile.write('name_distinct_unigram,item_desc_distinct_unigram\\n')\n",
    "        for t, row in enumerate(DictReader(open(path), delimiter=',')): \n",
    "            if c%100000==0:\n",
    "                print('finished',c)\n",
    "            a1 = str(row['name_unigram'])\n",
    "            a2 = str(row['item_desc_unigram'])\n",
    "            coo_terms = distinct_terms(a1,a2)\n",
    "            if c==0:\n",
    "                print(coo_terms)\n",
    "            outfile.write('%s,%s\\n' % coo_terms)\n",
    "            c+=1\n",
    "        end = datetime.now()\n",
    "    print('times:',end-start)\n",
    "    \n",
    "def prepare_distinct_bi(path,out):\n",
    "    print(path)\n",
    "    c = 0\n",
    "    start = datetime.now()\n",
    "    with open(out, 'w') as outfile:\n",
    "        outfile.write('name_distinct_bigram,item_desc_distinct_bigram\\n')\n",
    "        for t, row in enumerate(DictReader(open(path), delimiter=',')): \n",
    "            if c%100000==0:\n",
    "                print('finished',c)\n",
    "            a1 = str(row['name_bigram'])\n",
    "            a2 = str(row['item_desc_bigram'])\n",
    "            coo_terms = distinct_terms(a1,a2)\n",
    "            if c==0:\n",
    "                print(coo_terms)\n",
    "            outfile.write('%s,%s\\n' % coo_terms)\n",
    "            c+=1\n",
    "        end = datetime.now()\n",
    "    print('times:',end-start)"
   ]
  },
  {
   "cell_type": "code",
   "execution_count": 166,
   "metadata": {
    "collapsed": true
   },
   "outputs": [],
   "source": [
    "def cooccurrence_terms(lst1, lst2, join_str=\"__\"):\n",
    "    lst1 = lst1.split(\" \")\n",
    "    lst2 = lst2.split(\" \")\n",
    "    terms = [\"\"] * len(lst1) * len(lst2)\n",
    "    cnt =  0\n",
    "    for item1 in lst1:\n",
    "        for item2 in lst2:\n",
    "            terms[cnt] = item1 + join_str + item2\n",
    "            cnt += 1\n",
    "    res = \" \".join(terms)\n",
    "    return res"
   ]
  },
  {
   "cell_type": "code",
   "execution_count": 173,
   "metadata": {
    "collapsed": true
   },
   "outputs": [],
   "source": [
    "def prepare_cooccurrence(path,out):\n",
    "    print(path)\n",
    "    c = 0\n",
    "    start = datetime.now()\n",
    "    with open(out, 'w') as outfile:\n",
    "        outfile.write('name_unigram_item_desc_unigram\\n')\n",
    "        for t, row in enumerate(DictReader(open(path), delimiter=',')): \n",
    "            if c%100000==0:\n",
    "                print('finished',c)\n",
    "            q1 = str(row['name_distinct_unigram'])\n",
    "            q2 = str(row['item_desc_distinct_unigram'])\n",
    "            coo_terms = cooccurrence_terms(q1,q2)\n",
    "            if c==0:\n",
    "                print(coo_terms)\n",
    "            outfile.write('%s\\n' % coo_terms)\n",
    "            c+=1\n",
    "        end = datetime.now()\n",
    "    print('times:',end-start)"
   ]
  },
  {
   "cell_type": "code",
   "execution_count": 168,
   "metadata": {
    "collapsed": true
   },
   "outputs": [],
   "source": [
    "def prepare_cooccurrence_bi(path,out):\n",
    "    print(path)\n",
    "    c = 0\n",
    "    start = datetime.now()\n",
    "    with open(out, 'w') as outfile:\n",
    "        outfile.write('name_distinct_bigram_item_desc_distinct_bigram\\n')\n",
    "        for t, row in enumerate(DictReader(open(path), delimiter=',')): \n",
    "            if c%100000==0:\n",
    "                print('finished',c)\n",
    "            q1 = str(row['name_distinct_bigram'])\n",
    "            q2 = str(row['item_desc_distinct_bigram'])\n",
    "            coo_terms = cooccurrence_terms(q1,q2)\n",
    "            outfile.write('%s\\n' % coo_terms)\n",
    "            if c==0:\n",
    "                print(coo_terms)\n",
    "            c+=1\n",
    "        end = datetime.now()\n",
    "    print('times:',end-start)"
   ]
  },
  {
   "cell_type": "code",
   "execution_count": 142,
   "metadata": {
    "collapsed": false
   },
   "outputs": [
    {
     "name": "stdout",
     "output_type": "stream",
     "text": [
      "../cache/train_porter.csv\n",
      "finished 0\n",
      "1\n",
      "['mlb', 'cincinnati', 'red', 't', 'shirt', 'size', 'xl']\n",
      "3\n",
      "mlb cincinnati red t shirt size xl\n",
      "finished 100000\n",
      "finished 200000\n",
      "finished 300000\n",
      "finished 400000\n",
      "finished 500000\n",
      "finished 600000\n",
      "finished 700000\n",
      "finished 800000\n",
      "finished 900000\n",
      "finished 1000000\n",
      "finished 1100000\n",
      "finished 1200000\n",
      "finished 1300000\n",
      "finished 1400000\n",
      "times:0:00:52.615828\n",
      "CPU times: user 52.1 s, sys: 484 ms, total: 52.6 s\n",
      "Wall time: 52.6 s\n"
     ]
    }
   ],
   "source": [
    "%%time\n",
    "prepare_unigram('../cache/train_porter.csv','../cache/train_unigram.csv')\n"
   ]
  },
  {
   "cell_type": "code",
   "execution_count": 143,
   "metadata": {
    "collapsed": false
   },
   "outputs": [
    {
     "name": "stdout",
     "output_type": "stream",
     "text": [
      "../cache/test_porter.csv\n",
      "finished 0\n",
      "1\n",
      "['breast', 'cancer', 'i', 'fight', 'like', 'a', 'girl', 'ring']\n",
      "3\n",
      "breast cancer i fight like a girl ring\n",
      "finished 100000\n",
      "finished 200000\n",
      "finished 300000\n",
      "finished 400000\n",
      "finished 500000\n",
      "finished 600000\n",
      "times:0:00:23.973272\n",
      "CPU times: user 23.8 s, sys: 180 ms, total: 24 s\n",
      "Wall time: 24.2 s\n"
     ]
    }
   ],
   "source": [
    "%%time\n",
    "prepare_unigram('../cache/test_porter.csv','../cache/test_unigram.csv')"
   ]
  },
  {
   "cell_type": "code",
   "execution_count": 161,
   "metadata": {
    "collapsed": false
   },
   "outputs": [
    {
     "name": "stdout",
     "output_type": "stream",
     "text": [
      "../cache/train_porter.csv\n",
      "finished 0\n",
      "----\n",
      "mlb cincinnati red t shirt size xl\n",
      "no descript yet\n",
      "['mlb_cincinnati', 'cincinnati_red', 'red_t', 't_shirt', 'shirt_size', 'size_xl']\n",
      "----\n",
      "mlb_cincinnati cincinnati_red red_t t_shirt shirt_size size_xl\n",
      "-----------------\n",
      "finished 100000\n",
      "finished 200000\n",
      "finished 300000\n",
      "finished 400000\n",
      "finished 500000\n",
      "finished 600000\n",
      "finished 700000\n",
      "finished 800000\n",
      "finished 900000\n",
      "finished 1000000\n",
      "finished 1100000\n",
      "finished 1200000\n",
      "finished 1300000\n",
      "finished 1400000\n",
      "times:0:01:28.207023\n",
      "CPU times: user 1min 27s, sys: 776 ms, total: 1min 28s\n",
      "Wall time: 1min 28s\n"
     ]
    }
   ],
   "source": [
    "%%time\n",
    "prepare_bigram('../cache/train_porter.csv','../cache/train_bigram.csv')"
   ]
  },
  {
   "cell_type": "code",
   "execution_count": 162,
   "metadata": {
    "collapsed": false
   },
   "outputs": [
    {
     "name": "stdout",
     "output_type": "stream",
     "text": [
      "../cache/test_porter.csv\n",
      "finished 0\n",
      "----\n",
      "breast cancer i fight like a girl ring\n",
      "size\n",
      "['breast_cancer', 'cancer_i', 'i_fight', 'fight_like', 'like_a', 'a_girl', 'girl_ring']\n",
      "----\n",
      "breast_cancer cancer_i i_fight fight_like like_a a_girl girl_ring\n",
      "-----------------\n",
      "finished 100000\n",
      "finished 200000\n",
      "finished 300000\n",
      "finished 400000\n",
      "finished 500000\n",
      "finished 600000\n",
      "times:0:00:41.940817\n",
      "CPU times: user 40.1 s, sys: 392 ms, total: 40.5 s\n",
      "Wall time: 41.9 s\n"
     ]
    }
   ],
   "source": [
    "%%time\n",
    "prepare_bigram('../cache/test_porter.csv','../cache/test_bigram.csv')"
   ]
  },
  {
   "cell_type": "code",
   "execution_count": 163,
   "metadata": {
    "collapsed": false
   },
   "outputs": [
    {
     "name": "stdout",
     "output_type": "stream",
     "text": [
      "../cache/train_unigram.csv\n",
      "finished 0\n",
      "finished 100000\n",
      "finished 200000\n",
      "finished 300000\n",
      "finished 400000\n",
      "finished 500000\n",
      "finished 600000\n",
      "finished 700000\n",
      "finished 800000\n",
      "finished 900000\n",
      "finished 1000000\n",
      "finished 1100000\n",
      "finished 1200000\n",
      "finished 1300000\n",
      "finished 1400000\n",
      "times: 0:00:23.690776\n",
      "CPU times: user 23.3 s, sys: 312 ms, total: 23.6 s\n",
      "Wall time: 23.7 s\n"
     ]
    }
   ],
   "source": [
    "%%time \n",
    "prepare_distinct('../cache/train_unigram.csv','../cache/train_distinct_unigram.csv')"
   ]
  },
  {
   "cell_type": "code",
   "execution_count": 169,
   "metadata": {
    "collapsed": false
   },
   "outputs": [
    {
     "name": "stdout",
     "output_type": "stream",
     "text": [
      "../cache/test_unigram.csv\n",
      "finished 0\n",
      "('breast cancer i fight like a girl ring', 'size')\n",
      "finished 100000\n",
      "finished 200000\n",
      "finished 300000\n",
      "finished 400000\n",
      "finished 500000\n",
      "finished 600000\n",
      "times: 0:00:10.425988\n",
      "CPU times: user 10.3 s, sys: 148 ms, total: 10.4 s\n",
      "Wall time: 10.4 s\n"
     ]
    }
   ],
   "source": [
    "%%time\n",
    "prepare_distinct('../cache/test_unigram.csv','../cache/test_distinct_unigram.csv')"
   ]
  },
  {
   "cell_type": "code",
   "execution_count": 170,
   "metadata": {
    "collapsed": false
   },
   "outputs": [
    {
     "name": "stdout",
     "output_type": "stream",
     "text": [
      "../cache/train_unigram.csv\n",
      "finished 0\n",
      "mlb__no mlb__descript mlb__yet cincinnati__no cincinnati__descript cincinnati__yet red__no red__descript red__yet t__no t__descript t__yet shirt__no shirt__descript shirt__yet size__no size__descript size__yet xl__no xl__descript xl__yet\n",
      "finished 100000\n",
      "finished 200000\n",
      "finished 300000\n",
      "finished 400000\n",
      "finished 500000\n",
      "finished 600000\n",
      "finished 700000\n",
      "finished 800000\n",
      "finished 900000\n",
      "finished 1000000\n",
      "finished 1100000\n",
      "finished 1200000\n",
      "finished 1300000\n",
      "finished 1400000\n",
      "times: 0:00:56.872758\n",
      "CPU times: user 52.5 s, sys: 1.53 s, total: 54 s\n",
      "Wall time: 56.9 s\n"
     ]
    }
   ],
   "source": [
    "%%time\n",
    "prepare_cooccurrence('../cache/train_unigram.csv','../cache/train_cooccurrence_unigram.csv')\n"
   ]
  },
  {
   "cell_type": "code",
   "execution_count": 171,
   "metadata": {
    "collapsed": false
   },
   "outputs": [
    {
     "name": "stdout",
     "output_type": "stream",
     "text": [
      "../cache/test_unigram.csv\n",
      "finished 0\n",
      "breast__size cancer__size i__size fight__size like__size a__size girl__size ring__size\n",
      "finished 100000\n",
      "finished 200000\n",
      "finished 300000\n",
      "finished 400000\n",
      "finished 500000\n",
      "finished 600000\n",
      "times: 0:00:25.222971\n",
      "CPU times: user 24.6 s, sys: 660 ms, total: 25.2 s\n",
      "Wall time: 25.2 s\n"
     ]
    }
   ],
   "source": [
    "%%time\n",
    "prepare_cooccurrence('../cache/test_unigram.csv','../cache/test_cooccurrence_unigram.csv')"
   ]
  },
  {
   "cell_type": "code",
   "execution_count": 174,
   "metadata": {
    "collapsed": false
   },
   "outputs": [
    {
     "name": "stdout",
     "output_type": "stream",
     "text": [
      "../cache/train_distinct_unigram.csv\n",
      "finished 0\n",
      "mlb__no mlb__descript mlb__yet cincinnati__no cincinnati__descript cincinnati__yet red__no red__descript red__yet t__no t__descript t__yet shirt__no shirt__descript shirt__yet size__no size__descript size__yet xl__no xl__descript xl__yet\n",
      "finished 100000\n",
      "finished 200000\n",
      "finished 300000\n",
      "finished 400000\n",
      "finished 500000\n",
      "finished 600000\n",
      "finished 700000\n",
      "finished 800000\n",
      "finished 900000\n",
      "finished 1000000\n",
      "finished 1100000\n",
      "finished 1200000\n",
      "finished 1300000\n",
      "finished 1400000\n",
      "times: 0:00:32.927723\n",
      "CPU times: user 30.5 s, sys: 652 ms, total: 31.1 s\n",
      "Wall time: 33.4 s\n"
     ]
    }
   ],
   "source": [
    "%%time\n",
    "prepare_cooccurrence('../cache/train_distinct_unigram.csv','../cache/train_cooccurrence_distinct.csv')\n"
   ]
  },
  {
   "cell_type": "code",
   "execution_count": 175,
   "metadata": {
    "collapsed": false
   },
   "outputs": [
    {
     "name": "stdout",
     "output_type": "stream",
     "text": [
      "../cache/test_distinct_unigram.csv\n",
      "finished 0\n",
      "breast__size cancer__size i__size fight__size like__size a__size girl__size ring__size\n",
      "finished 100000\n",
      "finished 200000\n",
      "finished 300000\n",
      "finished 400000\n",
      "finished 500000\n",
      "finished 600000\n",
      "times: 0:00:13.972935\n",
      "CPU times: user 13.7 s, sys: 252 ms, total: 14 s\n",
      "Wall time: 14 s\n"
     ]
    }
   ],
   "source": [
    "%%time\n",
    "prepare_cooccurrence('../cache/test_distinct_unigram.csv','../cache/test_cooccurrence_distinct.csv')"
   ]
  },
  {
   "cell_type": "code",
   "execution_count": 178,
   "metadata": {
    "collapsed": false
   },
   "outputs": [
    {
     "name": "stdout",
     "output_type": "stream",
     "text": [
      "../cache/train_bigram.csv\n",
      "finished 0\n",
      "('mlb_cincinnati cincinnati_red red_t t_shirt shirt_size size_xl', 'no_descript descript_yet')\n",
      "finished 100000\n",
      "finished 200000\n",
      "finished 300000\n",
      "finished 400000\n",
      "finished 500000\n",
      "finished 600000\n",
      "finished 700000\n",
      "finished 800000\n",
      "finished 900000\n",
      "finished 1000000\n",
      "finished 1100000\n",
      "finished 1200000\n",
      "finished 1300000\n",
      "finished 1400000\n",
      "times: 0:00:25.199160\n",
      "CPU times: user 24.8 s, sys: 440 ms, total: 25.2 s\n",
      "Wall time: 25.2 s\n"
     ]
    }
   ],
   "source": [
    "%%time \n",
    "prepare_distinct_bi('../cache/train_bigram.csv','../cache/train_distinct_bigram.csv')"
   ]
  },
  {
   "cell_type": "code",
   "execution_count": 179,
   "metadata": {
    "collapsed": false
   },
   "outputs": [
    {
     "name": "stdout",
     "output_type": "stream",
     "text": [
      "../cache/test_bigram.csv\n",
      "finished 0\n",
      "('breast_cancer cancer_i i_fight fight_like like_a a_girl girl_ring', 'size')\n",
      "finished 100000\n",
      "finished 200000\n",
      "finished 300000\n",
      "finished 400000\n",
      "finished 500000\n",
      "finished 600000\n",
      "times: 0:00:12.053643\n",
      "CPU times: user 11.8 s, sys: 296 ms, total: 12.1 s\n",
      "Wall time: 12.1 s\n"
     ]
    }
   ],
   "source": [
    "%%time \n",
    "prepare_distinct_bi('../cache/test_bigram.csv','../cache/test_distinct_bigram.csv')"
   ]
  },
  {
   "cell_type": "code",
   "execution_count": 180,
   "metadata": {
    "collapsed": false
   },
   "outputs": [
    {
     "name": "stdout",
     "output_type": "stream",
     "text": [
      "../cache/train_distinct_bigram.csv\n",
      "finished 0\n",
      "finished 100000\n",
      "finished 200000\n",
      "finished 300000\n",
      "finished 400000\n",
      "finished 500000\n",
      "finished 600000\n",
      "finished 700000\n",
      "finished 800000\n",
      "finished 900000\n",
      "finished 1000000\n",
      "finished 1100000\n",
      "finished 1200000\n",
      "finished 1300000\n",
      "finished 1400000\n",
      "times: 0:00:40.712241\n"
     ]
    }
   ],
   "source": [
    "%%time\n",
    "prepare_cooccurrence_bi('../cache/train_distinct_bigram.csv','../cache/train_cooccurrence_distinct_bigram.csv')"
   ]
  },
  {
   "cell_type": "code",
   "execution_count": 181,
   "metadata": {
    "collapsed": false
   },
   "outputs": [
    {
     "name": "stdout",
     "output_type": "stream",
     "text": [
      "../cache/test_distinct_bigram.csv\n",
      "finished 0\n",
      "finished 100000\n",
      "finished 200000\n",
      "finished 300000\n",
      "finished 400000\n",
      "finished 500000\n",
      "finished 600000\n",
      "times: 0:00:18.645566\n"
     ]
    }
   ],
   "source": [
    "%%time\n",
    "prepare_cooccurrence_bi('../cache/test_distinct_bigram.csv','../cache/test_cooccurrence_distinct_bigram.csv')"
   ]
  },
  {
   "cell_type": "code",
   "execution_count": null,
   "metadata": {
    "collapsed": true
   },
   "outputs": [],
   "source": []
  },
  {
   "cell_type": "code",
   "execution_count": 36,
   "metadata": {
    "collapsed": false
   },
   "outputs": [
    {
     "name": "stdout",
     "output_type": "stream",
     "text": [
      "Generate snowball\n",
      "CPU times: user 12min 37s, sys: 700 ms, total: 12min 38s\n",
      "Wall time: 12min 38s\n"
     ]
    }
   ],
   "source": [
    "# %%time\n",
    "\n",
    "# print('Generate snowball')\n",
    "# train['de_sb'] = train['item_description'].astype('str').apply(lambda x:stem_str(x.lower(),snowball) if len(x) > 1 else x)\n",
    "# test['de_sb'] = test['item_description'].astype('str').apply(lambda x:stem_str(x.lower(),snowball) if len(x) > 1 else x)"
   ]
  },
  {
   "cell_type": "code",
   "execution_count": 37,
   "metadata": {
    "collapsed": false
   },
   "outputs": [
    {
     "name": "stdout",
     "output_type": "stream",
     "text": [
      "Generate snowball\n",
      "CPU times: user 5min 42s, sys: 416 ms, total: 5min 43s\n",
      "Wall time: 5min 43s\n"
     ]
    }
   ],
   "source": [
    "# %%time\n",
    "\n",
    "# print('Generate snowball')\n",
    "# train['name_sb'] = train['name'].astype(str).apply(lambda x:stem_str(x.lower(),snowball))\n",
    "# test['name_sb'] = test['name'].astype(str).apply(lambda x:stem_str(x.lower(),snowball))"
   ]
  },
  {
   "cell_type": "code",
   "execution_count": 38,
   "metadata": {
    "collapsed": false
   },
   "outputs": [
    {
     "name": "stdout",
     "output_type": "stream",
     "text": [
      "Generate porter\n",
      "metal  925 sterling silver stone  black onyx style  celtic eing  vintage ring  boho ring size 6   rafaella jewelry\n",
      "\n",
      "\n",
      "used for my first aid college course  purchased new  first aid  cpr    aed advanced textbook  6th edition access code never scratched off  isbn 978 1 4496 3505 3  no free shipping  i ship priority mail   bundle with my other nursing books to save on shipping costs \n",
      "\n",
      "\n",
      "advanced first aid  cpr   aed   american govt textbook bundle  great condition minus for bend in cover  cd included  isbn     978 0 87912 341 3\n",
      "\n",
      "\n",
      "cute black   white polka dot skort size 4 in very good ued condition \n",
      "\n",
      "\n",
      "set of 2 coordinating designs   summer sunburst and promised  these were purchased as second quality wraps  so there may be some minor color design flaws  wraps will ship in original packaging that provides application instructions   sheets were only removed for photos  one sheet has enough wraps for 2 4 mani pedis  depending on size of nails  selling only as set  3  rm  offer does not apply \n",
      "\n",
      "\n",
      "purchased off an ebayer  investing in a new madewell bag  gently used  no signs of scuffing or scratches  only defects are the monogram of  aed  on one side of the bag and a missing left bolt  still has lots of life left \n",
      "\n",
      "\n",
      "brand new   very high quality dual rubber case    unlike any other selling cheap plastic case here   easy crack   our case is dual rubber case   cant crack   dual protection cover the back side and a little up at the front screen   fast ship   ship out within 24hrs dont accept any offer   dont ask for free ship   dont ask for lower    rm  off for bundle order   please contact us before order   i have it available for other phone size   please let me know your phone size   i ll make a listing for you   please make sure your address is correct after pay   tag   att   t mobile   verizon   sprint   cricket\n",
      "\n",
      "\n",
      "brand new  bought from kendra store comes with card shown in picture  didn t come with tags when purchased like other items bought from the kendra store  hard to find stone  very exclusive  periwinkle stone  gold metal  comes with kendra bag\n",
      "\n",
      "\n",
      "used mk scarf bought used from a thrift store \n",
      "\n",
      "\n",
      "size 6 price is firm  a beautiful oval cut ring for all occasion  stone is made of 1 5 carat cubic zirconia  cz  and base metal type is 925 sterling silver plated  to be packed in a velvet black jewelry pouch \n",
      "\n",
      "\n",
      "says maternity but can be worn as a normal dress lace                                     please read most prices are firm  unless bundled with multiple items  no free ship  no free ship   i will bundle shipping  i ship same day  tags are from my store unless otherwise stated  i do not model but i can measure items       looking to bundle with me and can t find what you re looking for     type thriftydiva in the search box and all my posts will come up and you can even filter  so you can see just your sizes  ex  thriftydiva hollister size 7 hope this helps  thanks   thriftydiva\n",
      "\n",
      "\n",
      "worn 1x you have the option to combine products  bundles will result in cheaper prices  depending on what is left  all my items are 100  authentic  rude comments will result in a block please do not ask if the product is still available  if it is listed it is up for purchase\n",
      "\n",
      "\n",
      "brand   blacklable pink skirt size 16\n",
      "\n",
      "\n",
      " cute cheetah print footies  brand joe boxer  never worn  brand new w o tags  could fit a m\n",
      "\n",
      "\n",
      "hand carved moon face sterling silver ring buffalo bone size 6  925 on inside of the band  very unique and vintage buffalo bone hand carved smiling moon face  i have only seen two others like this one  magnificent condition  feel free to make an offer \n",
      "\n",
      "\n",
      "metal  925 sterling silver stone  black onyx style  celtic eing  vintage ring  boho ring size 6   rafaella jewelry\n",
      "\n",
      "\n"
     ]
    }
   ],
   "source": [
    "# print('Generate porter')\n",
    "# train['name_p'] = train['name'].astype(str).apply(lambda x:stem_str(x.lower(),porter))\n",
    "# test['name_p'] = test['name'].astype(str).apply(lambda x:stem_str(x.lower(),porter))"
   ]
  },
  {
   "cell_type": "code",
   "execution_count": null,
   "metadata": {
    "collapsed": true
   },
   "outputs": [],
   "source": []
  }
 ],
 "metadata": {
  "kernelspec": {
   "display_name": "Python 3",
   "language": "python",
   "name": "python3"
  },
  "language_info": {
   "codemirror_mode": {
    "name": "ipython",
    "version": 3
   },
   "file_extension": ".py",
   "mimetype": "text/x-python",
   "name": "python",
   "nbconvert_exporter": "python",
   "pygments_lexer": "ipython3",
   "version": "3.6.0"
  }
 },
 "nbformat": 4,
 "nbformat_minor": 2
}
