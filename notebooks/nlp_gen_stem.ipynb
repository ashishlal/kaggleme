{
 "cells": [
  {
   "cell_type": "code",
   "execution_count": 94,
   "metadata": {
    "collapsed": false
   },
   "outputs": [],
   "source": [
    "import pandas as pd\n",
    "import numpy as np\n",
    "from sklearn.feature_extraction import text\n",
    "from nltk.stem.porter import PorterStemmer\n",
    "from nltk.stem.snowball import SnowballStemmer\n",
    "import dask.dataframe as dd\n",
    "from datetime import datetime\n",
    "from csv import DictReader\n",
    "from math import exp, log, sqrt\n",
    "from random import random,shuffle\n",
    "import pickle\n",
    "import sys\n",
    "#from ngram import getUnigram\n",
    "import string\n",
    "import nltk\n",
    "from nltk.util import ngrams # function for making ngrams\n",
    "import re\n"
   ]
  },
  {
   "cell_type": "code",
   "execution_count": 3,
   "metadata": {
    "collapsed": true
   },
   "outputs": [],
   "source": [
    "seed = 1024\n",
    "np.random.seed(seed)"
   ]
  },
  {
   "cell_type": "code",
   "execution_count": 4,
   "metadata": {
    "collapsed": false
   },
   "outputs": [],
   "source": [
    "def stem_str(x,stemmer=SnowballStemmer('english')):\n",
    "    try:\n",
    "        x = text.re.sub(\"[^a-zA-Z0-9]\",\" \", x)\n",
    "        x = (\" \").join([stemmer.stem(z) for z in x.split(\" \")])\n",
    "        x = \" \".join(x.split())\n",
    "    except: \n",
    "        print(x)\n",
    "        print('\\n')\n",
    "        return ''\n",
    "    return x"
   ]
  },
  {
   "cell_type": "code",
   "execution_count": 28,
   "metadata": {
    "collapsed": true
   },
   "outputs": [],
   "source": [
    "def remove_digits(x):\n",
    "    x = re.sub(r'\\d+', '', x)\n",
    "    ' '.join(x.split())\n",
    "    return x"
   ]
  },
  {
   "cell_type": "code",
   "execution_count": 5,
   "metadata": {
    "collapsed": true
   },
   "outputs": [],
   "source": [
    "data = '../data/'\n",
    "cache = '../cache/'\n",
    "\n",
    "train = pd.read_csv(data+\"train.tsv\", sep='\\t')\n",
    "test = pd.read_csv(data+\"test.tsv\", sep='\\t')"
   ]
  },
  {
   "cell_type": "code",
   "execution_count": 6,
   "metadata": {
    "collapsed": false
   },
   "outputs": [
    {
     "data": {
      "text/html": [
       "<div>\n",
       "<table border=\"1\" class=\"dataframe\">\n",
       "  <thead>\n",
       "    <tr style=\"text-align: right;\">\n",
       "      <th></th>\n",
       "      <th>train_id</th>\n",
       "      <th>name</th>\n",
       "      <th>item_condition_id</th>\n",
       "      <th>category_name</th>\n",
       "      <th>brand_name</th>\n",
       "      <th>price</th>\n",
       "      <th>shipping</th>\n",
       "      <th>item_description</th>\n",
       "    </tr>\n",
       "  </thead>\n",
       "  <tbody>\n",
       "    <tr>\n",
       "      <th>0</th>\n",
       "      <td>0</td>\n",
       "      <td>MLB Cincinnati Reds T Shirt Size XL</td>\n",
       "      <td>3</td>\n",
       "      <td>Men/Tops/T-shirts</td>\n",
       "      <td>NaN</td>\n",
       "      <td>10.0</td>\n",
       "      <td>1</td>\n",
       "      <td>No description yet</td>\n",
       "    </tr>\n",
       "    <tr>\n",
       "      <th>1</th>\n",
       "      <td>1</td>\n",
       "      <td>Razer BlackWidow Chroma Keyboard</td>\n",
       "      <td>3</td>\n",
       "      <td>Electronics/Computers &amp; Tablets/Components &amp; P...</td>\n",
       "      <td>Razer</td>\n",
       "      <td>52.0</td>\n",
       "      <td>0</td>\n",
       "      <td>This keyboard is in great condition and works ...</td>\n",
       "    </tr>\n",
       "    <tr>\n",
       "      <th>2</th>\n",
       "      <td>2</td>\n",
       "      <td>AVA-VIV Blouse</td>\n",
       "      <td>1</td>\n",
       "      <td>Women/Tops &amp; Blouses/Blouse</td>\n",
       "      <td>Target</td>\n",
       "      <td>10.0</td>\n",
       "      <td>1</td>\n",
       "      <td>Adorable top with a hint of lace and a key hol...</td>\n",
       "    </tr>\n",
       "    <tr>\n",
       "      <th>3</th>\n",
       "      <td>3</td>\n",
       "      <td>Leather Horse Statues</td>\n",
       "      <td>1</td>\n",
       "      <td>Home/Home Décor/Home Décor Accents</td>\n",
       "      <td>NaN</td>\n",
       "      <td>35.0</td>\n",
       "      <td>1</td>\n",
       "      <td>New with tags. Leather horses. Retail for [rm]...</td>\n",
       "    </tr>\n",
       "    <tr>\n",
       "      <th>4</th>\n",
       "      <td>4</td>\n",
       "      <td>24K GOLD plated rose</td>\n",
       "      <td>1</td>\n",
       "      <td>Women/Jewelry/Necklaces</td>\n",
       "      <td>NaN</td>\n",
       "      <td>44.0</td>\n",
       "      <td>0</td>\n",
       "      <td>Complete with certificate of authenticity</td>\n",
       "    </tr>\n",
       "  </tbody>\n",
       "</table>\n",
       "</div>"
      ],
      "text/plain": [
       "   train_id                                 name  item_condition_id  \\\n",
       "0         0  MLB Cincinnati Reds T Shirt Size XL                  3   \n",
       "1         1     Razer BlackWidow Chroma Keyboard                  3   \n",
       "2         2                       AVA-VIV Blouse                  1   \n",
       "3         3                Leather Horse Statues                  1   \n",
       "4         4                 24K GOLD plated rose                  1   \n",
       "\n",
       "                                       category_name brand_name  price  \\\n",
       "0                                  Men/Tops/T-shirts        NaN   10.0   \n",
       "1  Electronics/Computers & Tablets/Components & P...      Razer   52.0   \n",
       "2                        Women/Tops & Blouses/Blouse     Target   10.0   \n",
       "3                 Home/Home Décor/Home Décor Accents        NaN   35.0   \n",
       "4                            Women/Jewelry/Necklaces        NaN   44.0   \n",
       "\n",
       "   shipping                                   item_description  \n",
       "0         1                                 No description yet  \n",
       "1         0  This keyboard is in great condition and works ...  \n",
       "2         1  Adorable top with a hint of lace and a key hol...  \n",
       "3         1  New with tags. Leather horses. Retail for [rm]...  \n",
       "4         0          Complete with certificate of authenticity  "
      ]
     },
     "execution_count": 6,
     "metadata": {},
     "output_type": "execute_result"
    }
   ],
   "source": [
    "train.head()"
   ]
  },
  {
   "cell_type": "code",
   "execution_count": 7,
   "metadata": {
    "collapsed": true
   },
   "outputs": [],
   "source": [
    "# BNWT: Brand New With Tags\n",
    "# NWT: New With Tags\n",
    "# BNWOT: Brand New Without Tags\n",
    "# NWOT: New With Out Tags\n",
    "# BNIP: Brand New In Packet\n",
    "# NIP: New In Packet\n",
    "# BNIB: Brand New In Box\n",
    "# NIB: New In Box\n",
    "# MIB: Mint In Box\n",
    "# MWOB: Mint With Out Box\n",
    "# MIP: Mint In Packet\n",
    "# MWOP: Mint With Out Packet"
   ]
  },
  {
   "cell_type": "code",
   "execution_count": 8,
   "metadata": {
    "collapsed": true
   },
   "outputs": [],
   "source": [
    "# features I can think of -\n",
    "# 1. no of times each of the above appear in text\n",
    "# 2. Put prices in bins\n",
    "# 3. Number of times each category appears in each bin\n",
    "# 4. no of times each item_condition appears in each bin\n",
    "# 5. min price for each category\n",
    "# 6. max price for each category\n",
    "# 7. average price for each category\n",
    "# 8. "
   ]
  },
  {
   "cell_type": "code",
   "execution_count": 9,
   "metadata": {
    "collapsed": false
   },
   "outputs": [
    {
     "data": {
      "text/plain": [
       "(1482535, 8)"
      ]
     },
     "execution_count": 9,
     "metadata": {},
     "output_type": "execute_result"
    }
   ],
   "source": [
    "train.shape"
   ]
  },
  {
   "cell_type": "code",
   "execution_count": 10,
   "metadata": {
    "collapsed": false
   },
   "outputs": [
    {
     "data": {
      "text/plain": [
       "(693359, 7)"
      ]
     },
     "execution_count": 10,
     "metadata": {},
     "output_type": "execute_result"
    }
   ],
   "source": [
    "test.shape"
   ]
  },
  {
   "cell_type": "code",
   "execution_count": 11,
   "metadata": {
    "collapsed": false
   },
   "outputs": [
    {
     "data": {
      "text/plain": [
       "Bundle                                      2232\n",
       "Reserved                                     453\n",
       "Converse                                     445\n",
       "BUNDLE                                       418\n",
       "Dress                                        410\n",
       "Coach purse                                  404\n",
       "Lularoe TC leggings                          396\n",
       "Romper                                       353\n",
       "Nike                                         340\n",
       "Vans                                         334\n",
       "American Eagle Jeans                         325\n",
       "Miss Me Jeans                                284\n",
       "Lularoe OS leggings                          281\n",
       "ON HOLD                                      274\n",
       "Coach Purse                                  258\n",
       "Lularoe Irma                                 254\n",
       "Shorts                                       247\n",
       "Michael Kors Purse                           243\n",
       "Bundle!                                      242\n",
       "Coach wallet                                 242\n",
       "Miss me jeans                                238\n",
       "Michael Kors Wallet                          233\n",
       "Rae Dunn                                     227\n",
       "Lularoe TC Leggings                          220\n",
       "Sandals                                      218\n",
       "Nike shoes                                   212\n",
       "American eagle jeans                         211\n",
       "Nike shorts                                  210\n",
       "Michael Kors                                 206\n",
       "Jeans                                        204\n",
       "                                            ... \n",
       "Coach Purse (blue Patent Leather)              1\n",
       "2012 real surprise baby alive                  1\n",
       "Disney kids s/m leggings                       1\n",
       "Lularoe legging bundle                         1\n",
       "CLAYTON KERSHAW ROOKIE CARD                    1\n",
       "Prim Picture With Baby                         1\n",
       "4 Pair -Napier Clip-Ons Vintage                1\n",
       "Maybelline The Nudes Eyeshadow Palette         1\n",
       "Purminerals Foundation (GOLDEN MEDIUM)         1\n",
       "New Pandora Graduation Owl                     1\n",
       "Sterling silver turquoise ring Native          1\n",
       "MK Shoes 6.5M Peach                            1\n",
       "Suede camel skirt                              1\n",
       "Bishops Wife                                   1\n",
       "Rosegold iPhone 6/6s Case                      1\n",
       "BKE Ladies Watch                               1\n",
       "NWT Nike Pro Shorts                            1\n",
       "Nightlight soother moonlight & melodies        1\n",
       "*New* Lularoe Nicole Dress                     1\n",
       "Closet clear out- NWOT purse                   1\n",
       "2 Wide Tooth Combs                             1\n",
       "Dumbo Poster                                   1\n",
       "Pocahontas Blu-Ray + DVD                       1\n",
       "Victoria Secret Top Swimwear 36DD Bottom       1\n",
       "Michael Kors Brown Cross Body                  1\n",
       "MARY KAY Moisturize and Hydrate                1\n",
       "Fitbit surge charger                           1\n",
       "Lularoe Blue Tie Dye Leggings OS NWOT          1\n",
       "Mascara & eyelash curler                       1\n",
       "CARAMEL BLONDE PONYTAIL HAIR EXTENSION         1\n",
       "Name: name, dtype: int64"
      ]
     },
     "execution_count": 11,
     "metadata": {},
     "output_type": "execute_result"
    }
   ],
   "source": [
    "pd.value_counts(train.name)"
   ]
  },
  {
   "cell_type": "code",
   "execution_count": 12,
   "metadata": {
    "collapsed": false
   },
   "outputs": [
    {
     "data": {
      "text/plain": [
       "1225273"
      ]
     },
     "execution_count": 12,
     "metadata": {},
     "output_type": "execute_result"
    }
   ],
   "source": [
    "len(np.unique(train.name))"
   ]
  },
  {
   "cell_type": "code",
   "execution_count": 13,
   "metadata": {
    "collapsed": false
   },
   "outputs": [
    {
     "data": {
      "text/plain": [
       "5"
      ]
     },
     "execution_count": 13,
     "metadata": {},
     "output_type": "execute_result"
    }
   ],
   "source": [
    "len(np.unique(train.item_condition_id))"
   ]
  },
  {
   "cell_type": "code",
   "execution_count": 14,
   "metadata": {
    "collapsed": false
   },
   "outputs": [
    {
     "data": {
      "text/plain": [
       "1    640549\n",
       "3    432161\n",
       "2    375479\n",
       "4     31962\n",
       "5      2384\n",
       "Name: item_condition_id, dtype: int64"
      ]
     },
     "execution_count": 14,
     "metadata": {},
     "output_type": "execute_result"
    }
   ],
   "source": [
    "pd.value_counts(train.item_condition_id)"
   ]
  },
  {
   "cell_type": "code",
   "execution_count": 183,
   "metadata": {
    "collapsed": false
   },
   "outputs": [
    {
     "data": {
      "text/plain": [
       "4810"
      ]
     },
     "execution_count": 183,
     "metadata": {},
     "output_type": "execute_result"
    }
   ],
   "source": [
    "len(set(train.brand_name))"
   ]
  },
  {
   "cell_type": "code",
   "execution_count": null,
   "metadata": {
    "collapsed": true
   },
   "outputs": [],
   "source": [
    "len(set(train.brand_name))"
   ]
  },
  {
   "cell_type": "code",
   "execution_count": 15,
   "metadata": {
    "collapsed": false
   },
   "outputs": [
    {
     "data": {
      "text/plain": [
       "train_id                  0\n",
       "name                      0\n",
       "item_condition_id         0\n",
       "category_name          6327\n",
       "brand_name           632682\n",
       "price                     0\n",
       "shipping                  0\n",
       "item_description          4\n",
       "dtype: int64"
      ]
     },
     "execution_count": 15,
     "metadata": {},
     "output_type": "execute_result"
    }
   ],
   "source": [
    "train.isnull().sum()"
   ]
  },
  {
   "cell_type": "code",
   "execution_count": 16,
   "metadata": {
    "collapsed": false
   },
   "outputs": [
    {
     "data": {
      "text/plain": [
       "test_id                   0\n",
       "name                      0\n",
       "item_condition_id         0\n",
       "category_name          3058\n",
       "brand_name           295525\n",
       "shipping                  0\n",
       "item_description          0\n",
       "dtype: int64"
      ]
     },
     "execution_count": 16,
     "metadata": {},
     "output_type": "execute_result"
    }
   ],
   "source": [
    "test.isnull().sum()"
   ]
  },
  {
   "cell_type": "code",
   "execution_count": null,
   "metadata": {
    "collapsed": true
   },
   "outputs": [],
   "source": []
  },
  {
   "cell_type": "code",
   "execution_count": 17,
   "metadata": {
    "collapsed": true
   },
   "outputs": [],
   "source": [
    "train.fillna('Unk', inplace=True)\n",
    "test.fillna('Unk', inplace=True)"
   ]
  },
  {
   "cell_type": "code",
   "execution_count": 18,
   "metadata": {
    "collapsed": false
   },
   "outputs": [
    {
     "data": {
      "text/plain": [
       "4810"
      ]
     },
     "execution_count": 18,
     "metadata": {},
     "output_type": "execute_result"
    }
   ],
   "source": [
    "len(np.unique(train.brand_name))"
   ]
  },
  {
   "cell_type": "code",
   "execution_count": 19,
   "metadata": {
    "collapsed": false
   },
   "outputs": [
    {
     "data": {
      "text/plain": [
       "1288"
      ]
     },
     "execution_count": 19,
     "metadata": {},
     "output_type": "execute_result"
    }
   ],
   "source": [
    "len(np.unique(train.category_name))"
   ]
  },
  {
   "cell_type": "code",
   "execution_count": 207,
   "metadata": {
    "collapsed": false
   },
   "outputs": [
    {
     "name": "stdout",
     "output_type": "stream",
     "text": [
      "['men', 'tops', 't-shirts']\n",
      "['mlb', 'cincinnati', 'reds', 't', 'shirt', 'size', 'xl']\n",
      "['no', 'description', 'yet']\n",
      "['women', 'athletic apparel', 'shorts']\n",
      "['hold', 'for', 'thewaxjunkie']\n",
      "['merona', 'short', 'bundle,', 'pinstripe', 'shorts', 'and', 'inspire', 'shirt.']\n",
      "times: 0:00:18.674790\n",
      "CPU times: user 18.6 s, sys: 132 ms, total: 18.7 s\n",
      "Wall time: 18.7 s\n"
     ]
    }
   ],
   "source": [
    "%%time\n",
    "start = datetime.now()\n",
    "sub_cat = []\n",
    "\n",
    "for t, row in enumerate(DictReader(open('../data/train.tsv'), delimiter='\\t')): \n",
    "    cat = str(row['category_name']).lower().split('/')\n",
    "    nom = str(row['name']).lower().split()\n",
    "    item_desc = str(row['item_description']).lower().split()\n",
    "\n",
    "    if (t == 0) | (t==5000):\n",
    "        print(cat)\n",
    "        print(nom)\n",
    "        print(item_desc)\n",
    "    for sc in cat:\n",
    "        if sc in nom:\n",
    "            sub_cat.append(sc)\n",
    "            break\n",
    "        elif sc in item_desc:\n",
    "            sub_cat.append(sc)\n",
    "            break\n",
    "        else:\n",
    "            sub_cat.append('None')\n",
    "            break\n",
    "end = datetime.now()\n",
    "print('times:',end-start)"
   ]
  },
  {
   "cell_type": "code",
   "execution_count": null,
   "metadata": {
    "collapsed": true
   },
   "outputs": [],
   "source": [
    "stops = [\"http\",\"www\",\"img\",\"border\",\"home\",\"body\",\"a\",\"about\",\"above\",\"after\",\"again\",\"against\",\"all\",\"am\",\"an\",\n",
    "\"and\",\"any\",\"are\",\"aren't\",\"as\",\"at\",\"be\",\"because\",\"been\",\"before\",\"being\",\"below\",\"between\",\"both\",\"but\",\"by\",\"can't\",\n",
    "\"cannot\",\"could\",\"couldn't\",\"did\",\"didn't\",\"do\",\"does\",\"doesn't\",\"doing\",\"don't\",\"down\",\"during\",\"each\",\"few\",\"for\",\"from\",\n",
    "\"further\",\"had\",\"hadn't\",\"has\",\"hasn't\",\"have\",\"haven't\",\"having\",\"he\",\"he'd\",\"he'll\",\"he's\",\"her\",\"here\",\"here's\",\"hers\",\n",
    "\"herself\",\"him\",\"himself\",\"his\",\"how\",\"how's\",\"i\",\"i'd\",\"i'll\",\"i'm\",\"i've\",\"if\",\"in\",\"into\",\"is\",\"isn't\",\"it\",\"it's\",\"its\",\n",
    "\"itself\",\"let's\",\"me\",\"more\",\"most\",\"mustn't\",\"my\",\"myself\",\"no\",\"nor\",\"not\",\"of\",\"off\",\"on\",\"once\",\"only\",\"or\",\"other\",\"ought\",\n",
    "\"our\",\"ours\",\"ourselves\",\"out\",\"over\",\"own\",\"same\",\"shan't\",\"she\",\"she'd\",\"she'll\",\"she's\",\"should\",\"shouldn't\",\"so\",\"some\",\"such\",\n",
    "\"than\",\"that\",\"that's\",\"the\",\"their\",\"theirs\",\"them\",\"themselves\",\"then\",\"there\",\"there's\",\"these\",\"they\",\"they'd\",\"they'll\",\"they're\",\n",
    "\"they've\",\"this\",\"those\",\"through\",\"to\",\"too\",\"under\",\"until\",\"up\",\"very\",\"was\",\"wasn't\",\"we\",\"we'd\",\"we'll\",\"we're\",\"we've\",\"were\",\n",
    "\"weren't\",\"what\",\"what's\",\"when\",\"when's\"\"where\",\"where's\",\"which\",\"while\",\"who\",\"who's\",\"whom\",\"why\",\"why's\",\"with\",\"won't\",\"would\",\n",
    "\"wouldn't\",\"you\",\"you'd\",\"you'll\",\"you're\",\"you've\",\"your\",\"yours\",\"yourself\",\"yourselves\" ]\n"
   ]
  },
  {
   "cell_type": "code",
   "execution_count": null,
   "metadata": {
    "collapsed": true
   },
   "outputs": [],
   "source": [
    "\n",
    "def prepare_ngram_interaction(path,out):\n",
    "    print path\n",
    "    c = 0\n",
    "    start = datetime.now()\n",
    "    with open(out, 'w') as outfile:\n",
    "        outfile.write('count_of_stop_name,ratio_of_stop_name,count_of_stop_item_desc,ratio_of_stop_item_desc\\n')\n",
    "        for t, row in enumerate(DictReader(open(path), delimiter=',')): \n",
    "            if c%100000==0:\n",
    "                print 'finished',c\n",
    "            q1_ngram = str(row['question1'].lower()).split()\n",
    "            q2_ngram = str(row['question2'].lower()).split()\n",
    "\n",
    "            count_of_stop_question1 = get_count_q1_in_q2(q1_ngram,stops)\n",
    "            ratio_of_stop_question1 = get_ratio_q1_in_q2(q1_ngram,stops)\n",
    "\n",
    "            count_of_stop_question2 = get_count_q1_in_q2(q2_ngram,stops)\n",
    "            ratio_of_stop_question2 = get_ratio_q1_in_q2(q2_ngram,stops)\n",
    "\n",
    "\n",
    "            outfile.write('%s,%s,%s,%s\\n' % (\n",
    "                count_of_stop_question1,\n",
    "                ratio_of_stop_question1,\n",
    "                count_of_stop_question2,\n",
    "                ratio_of_stop_question2,\n",
    "                ))\n",
    "            c+=1\n",
    "        end = datetime.now()\n",
    "\n",
    "    print 'times:',end-start\n",
    "\n"
   ]
  },
  {
   "cell_type": "code",
   "execution_count": null,
   "metadata": {
    "collapsed": true
   },
   "outputs": [],
   "source": [
    "prepare_ngram_interaction(path+'train_porter.csv',path+'train_porter_stop_features.csv')\n",
    "prepare_ngram_interaction(path+'test_porter.csv',path+'test_porter_stop_features.csv')\n"
   ]
  },
  {
   "cell_type": "code",
   "execution_count": 196,
   "metadata": {
    "collapsed": false
   },
   "outputs": [
    {
     "data": {
      "text/plain": [
       "1464176"
      ]
     },
     "execution_count": 196,
     "metadata": {},
     "output_type": "execute_result"
    }
   ],
   "source": [
    "sum(pd.Series(sub_cat) == 'None')"
   ]
  },
  {
   "cell_type": "code",
   "execution_count": 20,
   "metadata": {
    "collapsed": false
   },
   "outputs": [
    {
     "data": {
      "text/plain": [
       "0    819435\n",
       "1    663100\n",
       "Name: shipping, dtype: int64"
      ]
     },
     "execution_count": 20,
     "metadata": {},
     "output_type": "execute_result"
    }
   ],
   "source": [
    "train.shipping.value_counts()"
   ]
  },
  {
   "cell_type": "code",
   "execution_count": 21,
   "metadata": {
    "collapsed": true
   },
   "outputs": [],
   "source": [
    "porter = PorterStemmer()\n",
    "# snowball = SnowballStemmer('english')"
   ]
  },
  {
   "cell_type": "code",
   "execution_count": 22,
   "metadata": {
    "collapsed": true
   },
   "outputs": [],
   "source": [
    "train['DL'] = train['item_description'].map(lambda x: len(x))\n",
    "test['DL'] = test['item_description'].map(lambda x: len(x))"
   ]
  },
  {
   "cell_type": "code",
   "execution_count": 21,
   "metadata": {
    "collapsed": false
   },
   "outputs": [
    {
     "data": {
      "text/plain": [
       "train_id                                                            18\n",
       "name                               Too Faced Limited \"Merry Macaroons\"\n",
       "item_condition_id                                                    1\n",
       "category_name                            Beauty/Makeup/Makeup Palettes\n",
       "brand_name                                                   Too Faced\n",
       "price                                                               25\n",
       "shipping                                                             1\n",
       "item_description     This AUTHENTIC pallete by Too Faced is brand n...\n",
       "DL                                                                 307\n",
       "Name: 18, dtype: object"
      ]
     },
     "execution_count": 21,
     "metadata": {},
     "output_type": "execute_result"
    }
   ],
   "source": [
    "train.iloc[18]"
   ]
  },
  {
   "cell_type": "code",
   "execution_count": 23,
   "metadata": {
    "collapsed": false
   },
   "outputs": [
    {
     "data": {
      "text/html": [
       "<div>\n",
       "<table border=\"1\" class=\"dataframe\">\n",
       "  <thead>\n",
       "    <tr style=\"text-align: right;\">\n",
       "      <th></th>\n",
       "      <th>train_id</th>\n",
       "      <th>name</th>\n",
       "      <th>item_condition_id</th>\n",
       "      <th>category_name</th>\n",
       "      <th>brand_name</th>\n",
       "      <th>price</th>\n",
       "      <th>shipping</th>\n",
       "      <th>item_description</th>\n",
       "      <th>DL</th>\n",
       "    </tr>\n",
       "  </thead>\n",
       "  <tbody>\n",
       "    <tr>\n",
       "      <th>2730</th>\n",
       "      <td>2730</td>\n",
       "      <td>Vs lip gloss set!</td>\n",
       "      <td>1</td>\n",
       "      <td>Beauty/Makeup/Lips</td>\n",
       "      <td>Victoria's Secret</td>\n",
       "      <td>14.0</td>\n",
       "      <td>0</td>\n",
       "      <td>.</td>\n",
       "      <td>1</td>\n",
       "    </tr>\n",
       "    <tr>\n",
       "      <th>3552</th>\n",
       "      <td>3552</td>\n",
       "      <td>Strappy Black Lingerie</td>\n",
       "      <td>1</td>\n",
       "      <td>Women/Underwear/Panties</td>\n",
       "      <td>Unk</td>\n",
       "      <td>8.0</td>\n",
       "      <td>1</td>\n",
       "      <td>❤</td>\n",
       "      <td>1</td>\n",
       "    </tr>\n",
       "    <tr>\n",
       "      <th>9101</th>\n",
       "      <td>9101</td>\n",
       "      <td>2 half zips bundle</td>\n",
       "      <td>3</td>\n",
       "      <td>Women/Athletic Apparel/Jackets</td>\n",
       "      <td>Victoria's Secret</td>\n",
       "      <td>46.0</td>\n",
       "      <td>0</td>\n",
       "      <td>2</td>\n",
       "      <td>1</td>\n",
       "    </tr>\n",
       "    <tr>\n",
       "      <th>9404</th>\n",
       "      <td>9404</td>\n",
       "      <td>Carter's Valentines Onesie NWT NB</td>\n",
       "      <td>1</td>\n",
       "      <td>Kids/Girls 0-24 Mos/One-Pieces</td>\n",
       "      <td>Carter's</td>\n",
       "      <td>10.0</td>\n",
       "      <td>0</td>\n",
       "      <td>.</td>\n",
       "      <td>1</td>\n",
       "    </tr>\n",
       "    <tr>\n",
       "      <th>16733</th>\n",
       "      <td>16733</td>\n",
       "      <td>LuLaRoe CarlyDress size Xs</td>\n",
       "      <td>1</td>\n",
       "      <td>Women/Dresses/Knee-Length</td>\n",
       "      <td>Unk</td>\n",
       "      <td>36.0</td>\n",
       "      <td>0</td>\n",
       "      <td>-</td>\n",
       "      <td>1</td>\n",
       "    </tr>\n",
       "  </tbody>\n",
       "</table>\n",
       "</div>"
      ],
      "text/plain": [
       "       train_id                               name  item_condition_id  \\\n",
       "2730       2730                  Vs lip gloss set!                  1   \n",
       "3552       3552             Strappy Black Lingerie                  1   \n",
       "9101       9101                 2 half zips bundle                  3   \n",
       "9404       9404  Carter's Valentines Onesie NWT NB                  1   \n",
       "16733     16733         LuLaRoe CarlyDress size Xs                  1   \n",
       "\n",
       "                        category_name         brand_name  price  shipping  \\\n",
       "2730               Beauty/Makeup/Lips  Victoria's Secret   14.0         0   \n",
       "3552          Women/Underwear/Panties                Unk    8.0         1   \n",
       "9101   Women/Athletic Apparel/Jackets  Victoria's Secret   46.0         0   \n",
       "9404   Kids/Girls 0-24 Mos/One-Pieces           Carter's   10.0         0   \n",
       "16733       Women/Dresses/Knee-Length                Unk   36.0         0   \n",
       "\n",
       "      item_description  DL  \n",
       "2730                 .   1  \n",
       "3552                 ❤   1  \n",
       "9101                 2   1  \n",
       "9404                 .   1  \n",
       "16733                -   1  "
      ]
     },
     "execution_count": 23,
     "metadata": {},
     "output_type": "execute_result"
    }
   ],
   "source": [
    "train[train['DL'] == 1].head()"
   ]
  },
  {
   "cell_type": "code",
   "execution_count": 24,
   "metadata": {
    "collapsed": false
   },
   "outputs": [
    {
     "data": {
      "text/html": [
       "<div>\n",
       "<table border=\"1\" class=\"dataframe\">\n",
       "  <thead>\n",
       "    <tr style=\"text-align: right;\">\n",
       "      <th></th>\n",
       "      <th>train_id</th>\n",
       "      <th>name</th>\n",
       "      <th>item_condition_id</th>\n",
       "      <th>category_name</th>\n",
       "      <th>brand_name</th>\n",
       "      <th>price</th>\n",
       "      <th>shipping</th>\n",
       "      <th>item_description</th>\n",
       "      <th>DL</th>\n",
       "    </tr>\n",
       "  </thead>\n",
       "  <tbody>\n",
       "    <tr>\n",
       "      <th>9979</th>\n",
       "      <td>9979</td>\n",
       "      <td>200 cat collars and 30 dog collars :)</td>\n",
       "      <td>1</td>\n",
       "      <td>Handmade/Pets/Collar</td>\n",
       "      <td>Unk</td>\n",
       "      <td>165.0</td>\n",
       "      <td>0</td>\n",
       "      <td>:)</td>\n",
       "      <td>2</td>\n",
       "    </tr>\n",
       "    <tr>\n",
       "      <th>10429</th>\n",
       "      <td>10429</td>\n",
       "      <td>Old navy cute sundress</td>\n",
       "      <td>3</td>\n",
       "      <td>Women/Dresses/Above Knee, Mini</td>\n",
       "      <td>Old Navy</td>\n",
       "      <td>8.0</td>\n",
       "      <td>0</td>\n",
       "      <td>:)</td>\n",
       "      <td>2</td>\n",
       "    </tr>\n",
       "    <tr>\n",
       "      <th>12278</th>\n",
       "      <td>12278</td>\n",
       "      <td>Outcast 1-12 Comics</td>\n",
       "      <td>3</td>\n",
       "      <td>Vintage &amp; Collectibles/Book/Comics</td>\n",
       "      <td>Unk</td>\n",
       "      <td>44.0</td>\n",
       "      <td>0</td>\n",
       "      <td>NM</td>\n",
       "      <td>2</td>\n",
       "    </tr>\n",
       "    <tr>\n",
       "      <th>14405</th>\n",
       "      <td>14405</td>\n",
       "      <td>Victoria's Secret PINK Glitter Leggings</td>\n",
       "      <td>2</td>\n",
       "      <td>Women/Athletic Apparel/Pants, Tights, Leggings</td>\n",
       "      <td>Victoria's Secret</td>\n",
       "      <td>16.0</td>\n",
       "      <td>0</td>\n",
       "      <td>XS</td>\n",
       "      <td>2</td>\n",
       "    </tr>\n",
       "    <tr>\n",
       "      <th>14672</th>\n",
       "      <td>14672</td>\n",
       "      <td>Black fur coat</td>\n",
       "      <td>2</td>\n",
       "      <td>Women/Coats &amp; Jackets/Other</td>\n",
       "      <td>Old Navy</td>\n",
       "      <td>16.0</td>\n",
       "      <td>0</td>\n",
       "      <td>XL</td>\n",
       "      <td>2</td>\n",
       "    </tr>\n",
       "  </tbody>\n",
       "</table>\n",
       "</div>"
      ],
      "text/plain": [
       "       train_id                                     name  item_condition_id  \\\n",
       "9979       9979    200 cat collars and 30 dog collars :)                  1   \n",
       "10429     10429                   Old navy cute sundress                  3   \n",
       "12278     12278                      Outcast 1-12 Comics                  3   \n",
       "14405     14405  Victoria's Secret PINK Glitter Leggings                  2   \n",
       "14672     14672                           Black fur coat                  2   \n",
       "\n",
       "                                        category_name         brand_name  \\\n",
       "9979                             Handmade/Pets/Collar                Unk   \n",
       "10429                  Women/Dresses/Above Knee, Mini           Old Navy   \n",
       "12278              Vintage & Collectibles/Book/Comics                Unk   \n",
       "14405  Women/Athletic Apparel/Pants, Tights, Leggings  Victoria's Secret   \n",
       "14672                     Women/Coats & Jackets/Other           Old Navy   \n",
       "\n",
       "       price  shipping item_description  DL  \n",
       "9979   165.0         0               :)   2  \n",
       "10429    8.0         0               :)   2  \n",
       "12278   44.0         0               NM   2  \n",
       "14405   16.0         0               XS   2  \n",
       "14672   16.0         0               XL   2  "
      ]
     },
     "execution_count": 24,
     "metadata": {},
     "output_type": "execute_result"
    }
   ],
   "source": [
    "train[train['DL'] == 2].head()"
   ]
  },
  {
   "cell_type": "code",
   "execution_count": 25,
   "metadata": {
    "collapsed": false
   },
   "outputs": [
    {
     "data": {
      "text/html": [
       "<div>\n",
       "<table border=\"1\" class=\"dataframe\">\n",
       "  <thead>\n",
       "    <tr style=\"text-align: right;\">\n",
       "      <th></th>\n",
       "      <th>train_id</th>\n",
       "      <th>name</th>\n",
       "      <th>item_condition_id</th>\n",
       "      <th>category_name</th>\n",
       "      <th>brand_name</th>\n",
       "      <th>price</th>\n",
       "      <th>shipping</th>\n",
       "      <th>item_description</th>\n",
       "      <th>DL</th>\n",
       "    </tr>\n",
       "  </thead>\n",
       "  <tbody>\n",
       "    <tr>\n",
       "      <th>58</th>\n",
       "      <td>58</td>\n",
       "      <td>New yokai watch backpack</td>\n",
       "      <td>1</td>\n",
       "      <td>Kids/Gear/Backpacks &amp; Carriers</td>\n",
       "      <td>Unk</td>\n",
       "      <td>10.0</td>\n",
       "      <td>0</td>\n",
       "      <td>New</td>\n",
       "      <td>3</td>\n",
       "    </tr>\n",
       "    <tr>\n",
       "      <th>140</th>\n",
       "      <td>140</td>\n",
       "      <td>Zelda Link Amiibo.</td>\n",
       "      <td>1</td>\n",
       "      <td>Electronics/Video Games &amp; Consoles/Video Gamin...</td>\n",
       "      <td>Nintendo</td>\n",
       "      <td>40.0</td>\n",
       "      <td>1</td>\n",
       "      <td>New</td>\n",
       "      <td>3</td>\n",
       "    </tr>\n",
       "    <tr>\n",
       "      <th>768</th>\n",
       "      <td>768</td>\n",
       "      <td>Sale! [rm] For 2 morphe brushes</td>\n",
       "      <td>1</td>\n",
       "      <td>Beauty/Tools &amp; Accessories/Makeup Brushes &amp; Tools</td>\n",
       "      <td>Unk</td>\n",
       "      <td>12.0</td>\n",
       "      <td>1</td>\n",
       "      <td>New</td>\n",
       "      <td>3</td>\n",
       "    </tr>\n",
       "    <tr>\n",
       "      <th>920</th>\n",
       "      <td>920</td>\n",
       "      <td>Lularoe hula dancers, os.</td>\n",
       "      <td>1</td>\n",
       "      <td>Women/Athletic Apparel/Pants, Tights, Leggings</td>\n",
       "      <td>Unk</td>\n",
       "      <td>30.0</td>\n",
       "      <td>1</td>\n",
       "      <td>New</td>\n",
       "      <td>3</td>\n",
       "    </tr>\n",
       "    <tr>\n",
       "      <th>964</th>\n",
       "      <td>964</td>\n",
       "      <td>Doc McStuffins Activity Set Kit Toy</td>\n",
       "      <td>1</td>\n",
       "      <td>Kids/Toys/Dolls &amp; Accessories</td>\n",
       "      <td>Unk</td>\n",
       "      <td>7.0</td>\n",
       "      <td>1</td>\n",
       "      <td>New</td>\n",
       "      <td>3</td>\n",
       "    </tr>\n",
       "  </tbody>\n",
       "</table>\n",
       "</div>"
      ],
      "text/plain": [
       "     train_id                                 name  item_condition_id  \\\n",
       "58         58             New yokai watch backpack                  1   \n",
       "140       140                   Zelda Link Amiibo.                  1   \n",
       "768       768      Sale! [rm] For 2 morphe brushes                  1   \n",
       "920       920            Lularoe hula dancers, os.                  1   \n",
       "964       964  Doc McStuffins Activity Set Kit Toy                  1   \n",
       "\n",
       "                                         category_name brand_name  price  \\\n",
       "58                      Kids/Gear/Backpacks & Carriers        Unk   10.0   \n",
       "140  Electronics/Video Games & Consoles/Video Gamin...   Nintendo   40.0   \n",
       "768  Beauty/Tools & Accessories/Makeup Brushes & Tools        Unk   12.0   \n",
       "920     Women/Athletic Apparel/Pants, Tights, Leggings        Unk   30.0   \n",
       "964                      Kids/Toys/Dolls & Accessories        Unk    7.0   \n",
       "\n",
       "     shipping item_description  DL  \n",
       "58          0              New   3  \n",
       "140         1              New   3  \n",
       "768         1              New   3  \n",
       "920         1              New   3  \n",
       "964         1              New   3  "
      ]
     },
     "execution_count": 25,
     "metadata": {},
     "output_type": "execute_result"
    }
   ],
   "source": [
    "train[train['DL'] == 3].head()"
   ]
  },
  {
   "cell_type": "code",
   "execution_count": 26,
   "metadata": {
    "collapsed": false
   },
   "outputs": [
    {
     "data": {
      "text/html": [
       "<div>\n",
       "<table border=\"1\" class=\"dataframe\">\n",
       "  <thead>\n",
       "    <tr style=\"text-align: right;\">\n",
       "      <th></th>\n",
       "      <th>train_id</th>\n",
       "      <th>name</th>\n",
       "      <th>item_condition_id</th>\n",
       "      <th>category_name</th>\n",
       "      <th>brand_name</th>\n",
       "      <th>price</th>\n",
       "      <th>shipping</th>\n",
       "      <th>item_description</th>\n",
       "      <th>DL</th>\n",
       "    </tr>\n",
       "  </thead>\n",
       "  <tbody>\n",
       "    <tr>\n",
       "      <th>684</th>\n",
       "      <td>684</td>\n",
       "      <td>Splat Pink Fetish Rose Hair Dye</td>\n",
       "      <td>2</td>\n",
       "      <td>Beauty/Hair Care/Hair Color</td>\n",
       "      <td>Unk</td>\n",
       "      <td>7.0</td>\n",
       "      <td>0</td>\n",
       "      <td>Full</td>\n",
       "      <td>4</td>\n",
       "    </tr>\n",
       "    <tr>\n",
       "      <th>1253</th>\n",
       "      <td>1253</td>\n",
       "      <td>AF tank</td>\n",
       "      <td>2</td>\n",
       "      <td>Women/Tops &amp; Blouses/Tank, Cami</td>\n",
       "      <td>Abercrombie &amp; Fitch</td>\n",
       "      <td>8.0</td>\n",
       "      <td>1</td>\n",
       "      <td>Nwot</td>\n",
       "      <td>4</td>\n",
       "    </tr>\n",
       "    <tr>\n",
       "      <th>1965</th>\n",
       "      <td>1965</td>\n",
       "      <td>Burberry, baby boy, 18months</td>\n",
       "      <td>3</td>\n",
       "      <td>Kids/Boys 0-24 Mos/Tops &amp; T-Shirts</td>\n",
       "      <td>Unk</td>\n",
       "      <td>22.0</td>\n",
       "      <td>0</td>\n",
       "      <td>Used</td>\n",
       "      <td>4</td>\n",
       "    </tr>\n",
       "    <tr>\n",
       "      <th>1978</th>\n",
       "      <td>1978</td>\n",
       "      <td>LuLaRoe Sarah Large black thin ribbed</td>\n",
       "      <td>1</td>\n",
       "      <td>Women/Sweaters/Cardigan</td>\n",
       "      <td>Unk</td>\n",
       "      <td>86.0</td>\n",
       "      <td>0</td>\n",
       "      <td>BNWT</td>\n",
       "      <td>4</td>\n",
       "    </tr>\n",
       "    <tr>\n",
       "      <th>2178</th>\n",
       "      <td>2178</td>\n",
       "      <td>Yoga Mat</td>\n",
       "      <td>3</td>\n",
       "      <td>Sports &amp; Outdoors/Exercise/Yoga &amp; Pilates</td>\n",
       "      <td>Unk</td>\n",
       "      <td>12.0</td>\n",
       "      <td>0</td>\n",
       "      <td>Used</td>\n",
       "      <td>4</td>\n",
       "    </tr>\n",
       "  </tbody>\n",
       "</table>\n",
       "</div>"
      ],
      "text/plain": [
       "      train_id                                   name  item_condition_id  \\\n",
       "684        684        Splat Pink Fetish Rose Hair Dye                  2   \n",
       "1253      1253                                AF tank                  2   \n",
       "1965      1965           Burberry, baby boy, 18months                  3   \n",
       "1978      1978  LuLaRoe Sarah Large black thin ribbed                  1   \n",
       "2178      2178                               Yoga Mat                  3   \n",
       "\n",
       "                                  category_name           brand_name  price  \\\n",
       "684                 Beauty/Hair Care/Hair Color                  Unk    7.0   \n",
       "1253            Women/Tops & Blouses/Tank, Cami  Abercrombie & Fitch    8.0   \n",
       "1965         Kids/Boys 0-24 Mos/Tops & T-Shirts                  Unk   22.0   \n",
       "1978                    Women/Sweaters/Cardigan                  Unk   86.0   \n",
       "2178  Sports & Outdoors/Exercise/Yoga & Pilates                  Unk   12.0   \n",
       "\n",
       "      shipping item_description  DL  \n",
       "684          0             Full   4  \n",
       "1253         1             Nwot   4  \n",
       "1965         0             Used   4  \n",
       "1978         0             BNWT   4  \n",
       "2178         0             Used   4  "
      ]
     },
     "execution_count": 26,
     "metadata": {},
     "output_type": "execute_result"
    }
   ],
   "source": [
    "train[train['DL'] == 4].head()"
   ]
  },
  {
   "cell_type": "code",
   "execution_count": 31,
   "metadata": {
    "collapsed": false
   },
   "outputs": [
    {
     "name": "stdout",
     "output_type": "stream",
     "text": [
      "Clean digits\n",
      "CPU times: user 11.7 s, sys: 164 ms, total: 11.9 s\n",
      "Wall time: 11.9 s\n"
     ]
    }
   ],
   "source": [
    "%%time\n",
    "\n",
    "print('Clean digits')\n",
    "train['item_description'] = train['item_description'].astype('str').apply(lambda x:remove_digits(x.lower()))\n",
    "test['item_description'] = test['item_description'].astype('str').apply(lambda x:remove_digits(x.lower()))"
   ]
  },
  {
   "cell_type": "code",
   "execution_count": 32,
   "metadata": {
    "collapsed": false
   },
   "outputs": [
    {
     "name": "stdout",
     "output_type": "stream",
     "text": [
      "Generate porter\n",
      "metal   sterling silver stone  black onyx style  celtic eing  vintage ring  boho ring size    rafaella jewelry\n",
      "\n",
      "\n",
      "brand new   authentic  tarteist pro palette by tarte  high performance naturals   code on back of palette is hard to see it s oed  palette has never been used  swatched or took out of the box besides for this picture session     nib   retails higher  still has plastic over the colors and a  makeup  of the day if you d like a guide     price is firm as this is an expensive piece   no low balling  it will get you blocked  and i dont like blocking people so let s have some fun and get this brand new beauty of a palette to a new home  ty  happy shopping  \n",
      "\n",
      "\n",
      "used for my first aid college course  purchased new  first aid  cpr    aed advanced textbook  th edition access code never scratched off  isbn       no free shipping  i ship priority mail   bundle with my other nursing books to save on shipping costs \n",
      "\n",
      "\n",
      "advanced first aid  cpr   aed   american govt textbook bundle  great condition minus for bend in cover  cd included  isbn         \n",
      "\n",
      "\n",
      "cute black   white polka dot skort size  in very good ued condition \n",
      "\n",
      "\n",
      "purchased off an ebayer  investing in a new madewell bag  gently used  no signs of scuffing or scratches  only defects are the monogram of  aed  on one side of the bag and a missing left bolt  still has lots of life left \n",
      "\n",
      "\n",
      "metal   sterling silver stone  black onyx style  celtic eing  vintage ring  boho ring size    rafaella jewelry\n",
      "\n",
      "\n",
      "CPU times: user 18min 8s, sys: 1.16 s, total: 18min 9s\n",
      "Wall time: 18min 9s\n"
     ]
    }
   ],
   "source": [
    "%%time\n",
    "\n",
    "print('Generate porter')\n",
    "train['ide_p'] = train['item_description'].astype('str').apply(lambda x:stem_str(x.lower(),porter))\n",
    "test['ide_p'] = test['item_description'].astype('str').apply(lambda x:stem_str(x.lower(),porter))"
   ]
  },
  {
   "cell_type": "code",
   "execution_count": 33,
   "metadata": {
    "collapsed": false
   },
   "outputs": [
    {
     "name": "stdout",
     "output_type": "stream",
     "text": [
      "Clean digits\n",
      "CPU times: user 5.16 s, sys: 72 ms, total: 5.23 s\n",
      "Wall time: 5.23 s\n"
     ]
    }
   ],
   "source": [
    "%%time\n",
    "\n",
    "print('Clean digits')\n",
    "train['name'] = train['name'].astype('str').apply(lambda x:remove_digits(x.lower()))\n",
    "test['name'] = test['name'].astype('str').apply(lambda x:remove_digits(x.lower()))"
   ]
  },
  {
   "cell_type": "code",
   "execution_count": 34,
   "metadata": {
    "collapsed": false
   },
   "outputs": [
    {
     "name": "stdout",
     "output_type": "stream",
     "text": [
      "Generate porter\n",
      "first aid cpr   aed advanced textbook\n",
      "\n",
      "\n",
      "CPU times: user 3min 26s, sys: 200 ms, total: 3min 26s\n",
      "Wall time: 3min 26s\n"
     ]
    }
   ],
   "source": [
    "%%time\n",
    "\n",
    "print('Generate porter')\n",
    "train['n_p'] = train['name'].astype('str').apply(lambda x:stem_str(x.lower(),porter))\n",
    "test['n_p'] = test['name'].astype('str').apply(lambda x:stem_str(x.lower(),porter))"
   ]
  },
  {
   "cell_type": "code",
   "execution_count": 35,
   "metadata": {
    "collapsed": true
   },
   "outputs": [],
   "source": [
    "train.to_csv('../cache/train_porter.csv', index=False)"
   ]
  },
  {
   "cell_type": "code",
   "execution_count": 36,
   "metadata": {
    "collapsed": true
   },
   "outputs": [],
   "source": [
    "test.to_csv('../cache/test_porter.csv', index=False)"
   ]
  },
  {
   "cell_type": "code",
   "execution_count": 37,
   "metadata": {
    "collapsed": false
   },
   "outputs": [
    {
     "data": {
      "text/plain": [
       "'!\"#$%&\\'()*+,-./:;<=>?@[\\\\]^_`{|}~,'"
      ]
     },
     "execution_count": 37,
     "metadata": {},
     "output_type": "execute_result"
    }
   ],
   "source": [
    "#path = '../cache/'\n",
    "\n",
    "\n",
    "string.punctuation.__add__('!!')\n",
    "string.punctuation.__add__('(')\n",
    "string.punctuation.__add__(')')\n",
    "string.punctuation.__add__('?')\n",
    "string.punctuation.__add__('.')\n",
    "string.punctuation.__add__(',')\n"
   ]
  },
  {
   "cell_type": "code",
   "execution_count": null,
   "metadata": {
    "collapsed": true
   },
   "outputs": [],
   "source": []
  },
  {
   "cell_type": "code",
   "execution_count": 138,
   "metadata": {
    "collapsed": true
   },
   "outputs": [],
   "source": [
    "def remove_punctuation(x):\n",
    "    new_line = [ w for w in list(x) if w not in string.punctuation]\n",
    "    new_line = ''.join(new_line)\n",
    "#     print(new_line)\n",
    "    return new_line"
   ]
  },
  {
   "cell_type": "code",
   "execution_count": 140,
   "metadata": {
    "collapsed": false
   },
   "outputs": [],
   "source": [
    "def prepare_unigram(path,out):\n",
    "    print(path)\n",
    "    c = 0\n",
    "    start = datetime.now()\n",
    "    with open(out, 'w') as outfile:\n",
    "        outfile.write('name_unigram,item_desc_unigram\\n')\n",
    "        for t, row in enumerate(DictReader(open(path), delimiter=',')): \n",
    "            if c%100000==0:\n",
    "                print('finished',c)\n",
    "            a1 = remove_punctuation(str(row['n_p']).lower()).split(' ')\n",
    "            a2 = remove_punctuation(str(row['ide_p']).lower()).lower().split(' ')\n",
    "            if c==0:\n",
    "                print('1')\n",
    "                print(a1)\n",
    "            a1_bigram = ' '.join(a1)\n",
    "            a2_bigram = ' '.join(a2)\n",
    "            if c==0:\n",
    "                print('3')\n",
    "                print(a1_bigram)\n",
    "            outfile.write('%s,%s\\n' % (a1_bigram, a2_bigram))\n",
    "            c+=1\n",
    "        end = datetime.now()\n",
    "\n",
    "\n",
    "    print('times:{}'.format(end-start))\n"
   ]
  },
  {
   "cell_type": "code",
   "execution_count": 153,
   "metadata": {
    "collapsed": true
   },
   "outputs": [],
   "source": [
    "def getUnigram(words):\n",
    "    \"\"\"\n",
    "        Input: a list of words, e.g., ['I', 'am', 'Denny']\n",
    "        Output: a list of unigram\n",
    "    \"\"\"\n",
    "    assert type(words) == list\n",
    "    return words\n"
   ]
  },
  {
   "cell_type": "code",
   "execution_count": 154,
   "metadata": {
    "collapsed": true
   },
   "outputs": [],
   "source": [
    "def getBigram(words, join_string=\"_\", skip=0):\n",
    "    \"\"\"\n",
    "       Input: a list of words, e.g., ['I', 'am', 'Denny']\n",
    "       Output: a list of bigram, e.g., ['I_am', 'am_Denny']\n",
    "       I use _ as join_string for this example.\n",
    "    \"\"\"\n",
    "    assert type(words) == list\n",
    "    L = len(words)\n",
    "    if L > 1:\n",
    "        lst = []\n",
    "        for i in range(L-1):\n",
    "            for k in range(1,skip+2):\n",
    "                if i+k < L:\n",
    "                    lst.append( join_string.join([words[i], words[i+k]]) )\n",
    "    else:\n",
    "        # set it as unigram\n",
    "        lst = getUnigram(words)\n",
    "    return lst\n"
   ]
  },
  {
   "cell_type": "code",
   "execution_count": 155,
   "metadata": {
    "collapsed": false
   },
   "outputs": [],
   "source": [
    "def prepare_bigram(path,out):\n",
    "    print(path)\n",
    "    c = 0\n",
    "    start = datetime.now()\n",
    "    with open(out, 'w') as outfile:\n",
    "        outfile.write('name_bigram,item_desc_bigram\\n')\n",
    "        for t, row in enumerate(DictReader(open(path), delimiter=',')): \n",
    "            if c%100000==0:\n",
    "                print('finished',c)\n",
    "            \n",
    "            a1 = remove_punctuation(str(row['n_p']).lower()).split(' ')\n",
    "            a2 = remove_punctuation(str(row['ide_p']).lower()).lower().split(' ')\n",
    "            \n",
    "            a1_bigram = getBigram(a1)\n",
    "            a2_bigram = getBigram(a2)\n",
    "            if c==0:\n",
    "                print('----')\n",
    "                print(row['n_p'])\n",
    "                print(row['ide_p'])\n",
    "                print(a1_bigram)\n",
    "                print('----')\n",
    "            a1_bigram = ' '.join(a1_bigram)\n",
    "            a2_bigram = ' '.join(a2_bigram)\n",
    "            if c==0:\n",
    "                print(a1_bigram)\n",
    "                print('-----------------')\n",
    "            outfile.write('%s,%s\\n' % (a1_bigram, a2_bigram))\n",
    "            c+=1\n",
    "        end = datetime.now()\n",
    "\n",
    "\n",
    "    print('times:{}'.format(end-start))"
   ]
  },
  {
   "cell_type": "code",
   "execution_count": 156,
   "metadata": {
    "collapsed": true
   },
   "outputs": [],
   "source": [
    "def distinct_terms(lst1, lst2):\n",
    "    lst1 = lst1.split(\" \")\n",
    "    lst2 = lst2.split(\" \")\n",
    "    common = set(lst1).intersection(set(lst2))\n",
    "    new_lst1 = ' '.join([w for w in lst1 if w not in common])\n",
    "    new_lst2 = ' '.join([w for w in lst2 if w not in common])\n",
    "    \n",
    "    return (new_lst1,new_lst2)"
   ]
  },
  {
   "cell_type": "code",
   "execution_count": 177,
   "metadata": {
    "collapsed": true
   },
   "outputs": [],
   "source": [
    "def prepare_distinct(path,out):\n",
    "    print(path)\n",
    "    c = 0\n",
    "    start = datetime.now()\n",
    "    with open(out, 'w') as outfile:\n",
    "        outfile.write('name_distinct_unigram,item_desc_distinct_unigram\\n')\n",
    "        for t, row in enumerate(DictReader(open(path), delimiter=',')): \n",
    "            if c%100000==0:\n",
    "                print('finished',c)\n",
    "            a1 = str(row['name_unigram'])\n",
    "            a2 = str(row['item_desc_unigram'])\n",
    "            coo_terms = distinct_terms(a1,a2)\n",
    "            if c==0:\n",
    "                print(coo_terms)\n",
    "            outfile.write('%s,%s\\n' % coo_terms)\n",
    "            c+=1\n",
    "        end = datetime.now()\n",
    "    print('times:',end-start)\n",
    "    \n",
    "def prepare_distinct_bi(path,out):\n",
    "    print(path)\n",
    "    c = 0\n",
    "    start = datetime.now()\n",
    "    with open(out, 'w') as outfile:\n",
    "        outfile.write('name_distinct_bigram,item_desc_distinct_bigram\\n')\n",
    "        for t, row in enumerate(DictReader(open(path), delimiter=',')): \n",
    "            if c%100000==0:\n",
    "                print('finished',c)\n",
    "            a1 = str(row['name_bigram'])\n",
    "            a2 = str(row['item_desc_bigram'])\n",
    "            coo_terms = distinct_terms(a1,a2)\n",
    "            if c==0:\n",
    "                print(coo_terms)\n",
    "            outfile.write('%s,%s\\n' % coo_terms)\n",
    "            c+=1\n",
    "        end = datetime.now()\n",
    "    print('times:',end-start)"
   ]
  },
  {
   "cell_type": "code",
   "execution_count": 166,
   "metadata": {
    "collapsed": true
   },
   "outputs": [],
   "source": [
    "def cooccurrence_terms(lst1, lst2, join_str=\"__\"):\n",
    "    lst1 = lst1.split(\" \")\n",
    "    lst2 = lst2.split(\" \")\n",
    "    terms = [\"\"] * len(lst1) * len(lst2)\n",
    "    cnt =  0\n",
    "    for item1 in lst1:\n",
    "        for item2 in lst2:\n",
    "            terms[cnt] = item1 + join_str + item2\n",
    "            cnt += 1\n",
    "    res = \" \".join(terms)\n",
    "    return res"
   ]
  },
  {
   "cell_type": "code",
   "execution_count": 173,
   "metadata": {
    "collapsed": true
   },
   "outputs": [],
   "source": [
    "def prepare_cooccurrence(path,out):\n",
    "    print(path)\n",
    "    c = 0\n",
    "    start = datetime.now()\n",
    "    with open(out, 'w') as outfile:\n",
    "        outfile.write('name_unigram_item_desc_unigram\\n')\n",
    "        for t, row in enumerate(DictReader(open(path), delimiter=',')): \n",
    "            if c%100000==0:\n",
    "                print('finished',c)\n",
    "            q1 = str(row['name_distinct_unigram'])\n",
    "            q2 = str(row['item_desc_distinct_unigram'])\n",
    "            coo_terms = cooccurrence_terms(q1,q2)\n",
    "            if c==0:\n",
    "                print(coo_terms)\n",
    "            outfile.write('%s\\n' % coo_terms)\n",
    "            c+=1\n",
    "        end = datetime.now()\n",
    "    print('times:',end-start)"
   ]
  },
  {
   "cell_type": "code",
   "execution_count": 168,
   "metadata": {
    "collapsed": true
   },
   "outputs": [],
   "source": [
    "def prepare_cooccurrence_bi(path,out):\n",
    "    print(path)\n",
    "    c = 0\n",
    "    start = datetime.now()\n",
    "    with open(out, 'w') as outfile:\n",
    "        outfile.write('name_distinct_bigram_item_desc_distinct_bigram\\n')\n",
    "        for t, row in enumerate(DictReader(open(path), delimiter=',')): \n",
    "            if c%100000==0:\n",
    "                print('finished',c)\n",
    "            q1 = str(row['name_distinct_bigram'])\n",
    "            q2 = str(row['item_desc_distinct_bigram'])\n",
    "            coo_terms = cooccurrence_terms(q1,q2)\n",
    "            outfile.write('%s\\n' % coo_terms)\n",
    "            if c==0:\n",
    "                print(coo_terms)\n",
    "            c+=1\n",
    "        end = datetime.now()\n",
    "    print('times:',end-start)"
   ]
  },
  {
   "cell_type": "code",
   "execution_count": 142,
   "metadata": {
    "collapsed": false
   },
   "outputs": [
    {
     "name": "stdout",
     "output_type": "stream",
     "text": [
      "../cache/train_porter.csv\n",
      "finished 0\n",
      "1\n",
      "['mlb', 'cincinnati', 'red', 't', 'shirt', 'size', 'xl']\n",
      "3\n",
      "mlb cincinnati red t shirt size xl\n",
      "finished 100000\n",
      "finished 200000\n",
      "finished 300000\n",
      "finished 400000\n",
      "finished 500000\n",
      "finished 600000\n",
      "finished 700000\n",
      "finished 800000\n",
      "finished 900000\n",
      "finished 1000000\n",
      "finished 1100000\n",
      "finished 1200000\n",
      "finished 1300000\n",
      "finished 1400000\n",
      "times:0:00:52.615828\n",
      "CPU times: user 52.1 s, sys: 484 ms, total: 52.6 s\n",
      "Wall time: 52.6 s\n"
     ]
    }
   ],
   "source": [
    "%%time\n",
    "prepare_unigram('../cache/train_porter.csv','../cache/train_unigram.csv')\n"
   ]
  },
  {
   "cell_type": "code",
   "execution_count": 143,
   "metadata": {
    "collapsed": false
   },
   "outputs": [
    {
     "name": "stdout",
     "output_type": "stream",
     "text": [
      "../cache/test_porter.csv\n",
      "finished 0\n",
      "1\n",
      "['breast', 'cancer', 'i', 'fight', 'like', 'a', 'girl', 'ring']\n",
      "3\n",
      "breast cancer i fight like a girl ring\n",
      "finished 100000\n",
      "finished 200000\n",
      "finished 300000\n",
      "finished 400000\n",
      "finished 500000\n",
      "finished 600000\n",
      "times:0:00:23.973272\n",
      "CPU times: user 23.8 s, sys: 180 ms, total: 24 s\n",
      "Wall time: 24.2 s\n"
     ]
    }
   ],
   "source": [
    "%%time\n",
    "prepare_unigram('../cache/test_porter.csv','../cache/test_unigram.csv')"
   ]
  },
  {
   "cell_type": "code",
   "execution_count": 161,
   "metadata": {
    "collapsed": false
   },
   "outputs": [
    {
     "name": "stdout",
     "output_type": "stream",
     "text": [
      "../cache/train_porter.csv\n",
      "finished 0\n",
      "----\n",
      "mlb cincinnati red t shirt size xl\n",
      "no descript yet\n",
      "['mlb_cincinnati', 'cincinnati_red', 'red_t', 't_shirt', 'shirt_size', 'size_xl']\n",
      "----\n",
      "mlb_cincinnati cincinnati_red red_t t_shirt shirt_size size_xl\n",
      "-----------------\n",
      "finished 100000\n",
      "finished 200000\n",
      "finished 300000\n",
      "finished 400000\n",
      "finished 500000\n",
      "finished 600000\n",
      "finished 700000\n",
      "finished 800000\n",
      "finished 900000\n",
      "finished 1000000\n",
      "finished 1100000\n",
      "finished 1200000\n",
      "finished 1300000\n",
      "finished 1400000\n",
      "times:0:01:28.207023\n",
      "CPU times: user 1min 27s, sys: 776 ms, total: 1min 28s\n",
      "Wall time: 1min 28s\n"
     ]
    }
   ],
   "source": [
    "%%time\n",
    "prepare_bigram('../cache/train_porter.csv','../cache/train_bigram.csv')"
   ]
  },
  {
   "cell_type": "code",
   "execution_count": 162,
   "metadata": {
    "collapsed": false
   },
   "outputs": [
    {
     "name": "stdout",
     "output_type": "stream",
     "text": [
      "../cache/test_porter.csv\n",
      "finished 0\n",
      "----\n",
      "breast cancer i fight like a girl ring\n",
      "size\n",
      "['breast_cancer', 'cancer_i', 'i_fight', 'fight_like', 'like_a', 'a_girl', 'girl_ring']\n",
      "----\n",
      "breast_cancer cancer_i i_fight fight_like like_a a_girl girl_ring\n",
      "-----------------\n",
      "finished 100000\n",
      "finished 200000\n",
      "finished 300000\n",
      "finished 400000\n",
      "finished 500000\n",
      "finished 600000\n",
      "times:0:00:41.940817\n",
      "CPU times: user 40.1 s, sys: 392 ms, total: 40.5 s\n",
      "Wall time: 41.9 s\n"
     ]
    }
   ],
   "source": [
    "%%time\n",
    "prepare_bigram('../cache/test_porter.csv','../cache/test_bigram.csv')"
   ]
  },
  {
   "cell_type": "code",
   "execution_count": 163,
   "metadata": {
    "collapsed": false
   },
   "outputs": [
    {
     "name": "stdout",
     "output_type": "stream",
     "text": [
      "../cache/train_unigram.csv\n",
      "finished 0\n",
      "finished 100000\n",
      "finished 200000\n",
      "finished 300000\n",
      "finished 400000\n",
      "finished 500000\n",
      "finished 600000\n",
      "finished 700000\n",
      "finished 800000\n",
      "finished 900000\n",
      "finished 1000000\n",
      "finished 1100000\n",
      "finished 1200000\n",
      "finished 1300000\n",
      "finished 1400000\n",
      "times: 0:00:23.690776\n",
      "CPU times: user 23.3 s, sys: 312 ms, total: 23.6 s\n",
      "Wall time: 23.7 s\n"
     ]
    }
   ],
   "source": [
    "%%time \n",
    "prepare_distinct('../cache/train_unigram.csv','../cache/train_distinct_unigram.csv')"
   ]
  },
  {
   "cell_type": "code",
   "execution_count": 169,
   "metadata": {
    "collapsed": false
   },
   "outputs": [
    {
     "name": "stdout",
     "output_type": "stream",
     "text": [
      "../cache/test_unigram.csv\n",
      "finished 0\n",
      "('breast cancer i fight like a girl ring', 'size')\n",
      "finished 100000\n",
      "finished 200000\n",
      "finished 300000\n",
      "finished 400000\n",
      "finished 500000\n",
      "finished 600000\n",
      "times: 0:00:10.425988\n",
      "CPU times: user 10.3 s, sys: 148 ms, total: 10.4 s\n",
      "Wall time: 10.4 s\n"
     ]
    }
   ],
   "source": [
    "%%time\n",
    "prepare_distinct('../cache/test_unigram.csv','../cache/test_distinct_unigram.csv')"
   ]
  },
  {
   "cell_type": "code",
   "execution_count": 170,
   "metadata": {
    "collapsed": false
   },
   "outputs": [
    {
     "name": "stdout",
     "output_type": "stream",
     "text": [
      "../cache/train_unigram.csv\n",
      "finished 0\n",
      "mlb__no mlb__descript mlb__yet cincinnati__no cincinnati__descript cincinnati__yet red__no red__descript red__yet t__no t__descript t__yet shirt__no shirt__descript shirt__yet size__no size__descript size__yet xl__no xl__descript xl__yet\n",
      "finished 100000\n",
      "finished 200000\n",
      "finished 300000\n",
      "finished 400000\n",
      "finished 500000\n",
      "finished 600000\n",
      "finished 700000\n",
      "finished 800000\n",
      "finished 900000\n",
      "finished 1000000\n",
      "finished 1100000\n",
      "finished 1200000\n",
      "finished 1300000\n",
      "finished 1400000\n",
      "times: 0:00:56.872758\n",
      "CPU times: user 52.5 s, sys: 1.53 s, total: 54 s\n",
      "Wall time: 56.9 s\n"
     ]
    }
   ],
   "source": [
    "%%time\n",
    "prepare_cooccurrence('../cache/train_unigram.csv','../cache/train_cooccurrence_unigram.csv')\n"
   ]
  },
  {
   "cell_type": "code",
   "execution_count": 171,
   "metadata": {
    "collapsed": false
   },
   "outputs": [
    {
     "name": "stdout",
     "output_type": "stream",
     "text": [
      "../cache/test_unigram.csv\n",
      "finished 0\n",
      "breast__size cancer__size i__size fight__size like__size a__size girl__size ring__size\n",
      "finished 100000\n",
      "finished 200000\n",
      "finished 300000\n",
      "finished 400000\n",
      "finished 500000\n",
      "finished 600000\n",
      "times: 0:00:25.222971\n",
      "CPU times: user 24.6 s, sys: 660 ms, total: 25.2 s\n",
      "Wall time: 25.2 s\n"
     ]
    }
   ],
   "source": [
    "%%time\n",
    "prepare_cooccurrence('../cache/test_unigram.csv','../cache/test_cooccurrence_unigram.csv')"
   ]
  },
  {
   "cell_type": "code",
   "execution_count": 174,
   "metadata": {
    "collapsed": false
   },
   "outputs": [
    {
     "name": "stdout",
     "output_type": "stream",
     "text": [
      "../cache/train_distinct_unigram.csv\n",
      "finished 0\n",
      "mlb__no mlb__descript mlb__yet cincinnati__no cincinnati__descript cincinnati__yet red__no red__descript red__yet t__no t__descript t__yet shirt__no shirt__descript shirt__yet size__no size__descript size__yet xl__no xl__descript xl__yet\n",
      "finished 100000\n",
      "finished 200000\n",
      "finished 300000\n",
      "finished 400000\n",
      "finished 500000\n",
      "finished 600000\n",
      "finished 700000\n",
      "finished 800000\n",
      "finished 900000\n",
      "finished 1000000\n",
      "finished 1100000\n",
      "finished 1200000\n",
      "finished 1300000\n",
      "finished 1400000\n",
      "times: 0:00:32.927723\n",
      "CPU times: user 30.5 s, sys: 652 ms, total: 31.1 s\n",
      "Wall time: 33.4 s\n"
     ]
    }
   ],
   "source": [
    "%%time\n",
    "prepare_cooccurrence('../cache/train_distinct_unigram.csv','../cache/train_cooccurrence_distinct.csv')\n"
   ]
  },
  {
   "cell_type": "code",
   "execution_count": 175,
   "metadata": {
    "collapsed": false
   },
   "outputs": [
    {
     "name": "stdout",
     "output_type": "stream",
     "text": [
      "../cache/test_distinct_unigram.csv\n",
      "finished 0\n",
      "breast__size cancer__size i__size fight__size like__size a__size girl__size ring__size\n",
      "finished 100000\n",
      "finished 200000\n",
      "finished 300000\n",
      "finished 400000\n",
      "finished 500000\n",
      "finished 600000\n",
      "times: 0:00:13.972935\n",
      "CPU times: user 13.7 s, sys: 252 ms, total: 14 s\n",
      "Wall time: 14 s\n"
     ]
    }
   ],
   "source": [
    "%%time\n",
    "prepare_cooccurrence('../cache/test_distinct_unigram.csv','../cache/test_cooccurrence_distinct.csv')"
   ]
  },
  {
   "cell_type": "code",
   "execution_count": 178,
   "metadata": {
    "collapsed": false
   },
   "outputs": [
    {
     "name": "stdout",
     "output_type": "stream",
     "text": [
      "../cache/train_bigram.csv\n",
      "finished 0\n",
      "('mlb_cincinnati cincinnati_red red_t t_shirt shirt_size size_xl', 'no_descript descript_yet')\n",
      "finished 100000\n",
      "finished 200000\n",
      "finished 300000\n",
      "finished 400000\n",
      "finished 500000\n",
      "finished 600000\n",
      "finished 700000\n",
      "finished 800000\n",
      "finished 900000\n",
      "finished 1000000\n",
      "finished 1100000\n",
      "finished 1200000\n",
      "finished 1300000\n",
      "finished 1400000\n",
      "times: 0:00:25.199160\n",
      "CPU times: user 24.8 s, sys: 440 ms, total: 25.2 s\n",
      "Wall time: 25.2 s\n"
     ]
    }
   ],
   "source": [
    "%%time \n",
    "prepare_distinct_bi('../cache/train_bigram.csv','../cache/train_distinct_bigram.csv')"
   ]
  },
  {
   "cell_type": "code",
   "execution_count": 179,
   "metadata": {
    "collapsed": false
   },
   "outputs": [
    {
     "name": "stdout",
     "output_type": "stream",
     "text": [
      "../cache/test_bigram.csv\n",
      "finished 0\n",
      "('breast_cancer cancer_i i_fight fight_like like_a a_girl girl_ring', 'size')\n",
      "finished 100000\n",
      "finished 200000\n",
      "finished 300000\n",
      "finished 400000\n",
      "finished 500000\n",
      "finished 600000\n",
      "times: 0:00:12.053643\n",
      "CPU times: user 11.8 s, sys: 296 ms, total: 12.1 s\n",
      "Wall time: 12.1 s\n"
     ]
    }
   ],
   "source": [
    "%%time \n",
    "prepare_distinct_bi('../cache/test_bigram.csv','../cache/test_distinct_bigram.csv')"
   ]
  },
  {
   "cell_type": "code",
   "execution_count": 180,
   "metadata": {
    "collapsed": false
   },
   "outputs": [
    {
     "name": "stdout",
     "output_type": "stream",
     "text": [
      "../cache/train_distinct_bigram.csv\n",
      "finished 0\n",
      "finished 100000\n",
      "finished 200000\n",
      "finished 300000\n",
      "finished 400000\n",
      "finished 500000\n",
      "finished 600000\n",
      "finished 700000\n",
      "finished 800000\n",
      "finished 900000\n",
      "finished 1000000\n",
      "finished 1100000\n",
      "finished 1200000\n",
      "finished 1300000\n",
      "finished 1400000\n",
      "times: 0:00:40.712241\n"
     ]
    }
   ],
   "source": [
    "%%time\n",
    "prepare_cooccurrence_bi('../cache/train_distinct_bigram.csv','../cache/train_cooccurrence_distinct_bigram.csv')"
   ]
  },
  {
   "cell_type": "code",
   "execution_count": 181,
   "metadata": {
    "collapsed": false
   },
   "outputs": [
    {
     "name": "stdout",
     "output_type": "stream",
     "text": [
      "../cache/test_distinct_bigram.csv\n",
      "finished 0\n",
      "finished 100000\n",
      "finished 200000\n",
      "finished 300000\n",
      "finished 400000\n",
      "finished 500000\n",
      "finished 600000\n",
      "times: 0:00:18.645566\n"
     ]
    }
   ],
   "source": [
    "%%time\n",
    "prepare_cooccurrence_bi('../cache/test_distinct_bigram.csv','../cache/test_cooccurrence_distinct_bigram.csv')"
   ]
  },
  {
   "cell_type": "code",
   "execution_count": null,
   "metadata": {
    "collapsed": true
   },
   "outputs": [],
   "source": []
  },
  {
   "cell_type": "code",
   "execution_count": 36,
   "metadata": {
    "collapsed": false
   },
   "outputs": [
    {
     "name": "stdout",
     "output_type": "stream",
     "text": [
      "Generate snowball\n",
      "CPU times: user 12min 37s, sys: 700 ms, total: 12min 38s\n",
      "Wall time: 12min 38s\n"
     ]
    }
   ],
   "source": [
    "# %%time\n",
    "\n",
    "# print('Generate snowball')\n",
    "# train['de_sb'] = train['item_description'].astype('str').apply(lambda x:stem_str(x.lower(),snowball) if len(x) > 1 else x)\n",
    "# test['de_sb'] = test['item_description'].astype('str').apply(lambda x:stem_str(x.lower(),snowball) if len(x) > 1 else x)"
   ]
  },
  {
   "cell_type": "code",
   "execution_count": 37,
   "metadata": {
    "collapsed": false
   },
   "outputs": [
    {
     "name": "stdout",
     "output_type": "stream",
     "text": [
      "Generate snowball\n",
      "CPU times: user 5min 42s, sys: 416 ms, total: 5min 43s\n",
      "Wall time: 5min 43s\n"
     ]
    }
   ],
   "source": [
    "# %%time\n",
    "\n",
    "# print('Generate snowball')\n",
    "# train['name_sb'] = train['name'].astype(str).apply(lambda x:stem_str(x.lower(),snowball))\n",
    "# test['name_sb'] = test['name'].astype(str).apply(lambda x:stem_str(x.lower(),snowball))"
   ]
  },
  {
   "cell_type": "code",
   "execution_count": 38,
   "metadata": {
    "collapsed": false
   },
   "outputs": [
    {
     "name": "stdout",
     "output_type": "stream",
     "text": [
      "Generate porter\n",
      "metal  925 sterling silver stone  black onyx style  celtic eing  vintage ring  boho ring size 6   rafaella jewelry\n",
      "\n",
      "\n",
      "used for my first aid college course  purchased new  first aid  cpr    aed advanced textbook  6th edition access code never scratched off  isbn 978 1 4496 3505 3  no free shipping  i ship priority mail   bundle with my other nursing books to save on shipping costs \n",
      "\n",
      "\n",
      "advanced first aid  cpr   aed   american govt textbook bundle  great condition minus for bend in cover  cd included  isbn     978 0 87912 341 3\n",
      "\n",
      "\n",
      "cute black   white polka dot skort size 4 in very good ued condition \n",
      "\n",
      "\n",
      "set of 2 coordinating designs   summer sunburst and promised  these were purchased as second quality wraps  so there may be some minor color design flaws  wraps will ship in original packaging that provides application instructions   sheets were only removed for photos  one sheet has enough wraps for 2 4 mani pedis  depending on size of nails  selling only as set  3  rm  offer does not apply \n",
      "\n",
      "\n",
      "purchased off an ebayer  investing in a new madewell bag  gently used  no signs of scuffing or scratches  only defects are the monogram of  aed  on one side of the bag and a missing left bolt  still has lots of life left \n",
      "\n",
      "\n",
      "brand new   very high quality dual rubber case    unlike any other selling cheap plastic case here   easy crack   our case is dual rubber case   cant crack   dual protection cover the back side and a little up at the front screen   fast ship   ship out within 24hrs dont accept any offer   dont ask for free ship   dont ask for lower    rm  off for bundle order   please contact us before order   i have it available for other phone size   please let me know your phone size   i ll make a listing for you   please make sure your address is correct after pay   tag   att   t mobile   verizon   sprint   cricket\n",
      "\n",
      "\n",
      "brand new  bought from kendra store comes with card shown in picture  didn t come with tags when purchased like other items bought from the kendra store  hard to find stone  very exclusive  periwinkle stone  gold metal  comes with kendra bag\n",
      "\n",
      "\n",
      "used mk scarf bought used from a thrift store \n",
      "\n",
      "\n",
      "size 6 price is firm  a beautiful oval cut ring for all occasion  stone is made of 1 5 carat cubic zirconia  cz  and base metal type is 925 sterling silver plated  to be packed in a velvet black jewelry pouch \n",
      "\n",
      "\n",
      "says maternity but can be worn as a normal dress lace                                     please read most prices are firm  unless bundled with multiple items  no free ship  no free ship   i will bundle shipping  i ship same day  tags are from my store unless otherwise stated  i do not model but i can measure items       looking to bundle with me and can t find what you re looking for     type thriftydiva in the search box and all my posts will come up and you can even filter  so you can see just your sizes  ex  thriftydiva hollister size 7 hope this helps  thanks   thriftydiva\n",
      "\n",
      "\n",
      "worn 1x you have the option to combine products  bundles will result in cheaper prices  depending on what is left  all my items are 100  authentic  rude comments will result in a block please do not ask if the product is still available  if it is listed it is up for purchase\n",
      "\n",
      "\n",
      "brand   blacklable pink skirt size 16\n",
      "\n",
      "\n",
      " cute cheetah print footies  brand joe boxer  never worn  brand new w o tags  could fit a m\n",
      "\n",
      "\n",
      "hand carved moon face sterling silver ring buffalo bone size 6  925 on inside of the band  very unique and vintage buffalo bone hand carved smiling moon face  i have only seen two others like this one  magnificent condition  feel free to make an offer \n",
      "\n",
      "\n",
      "metal  925 sterling silver stone  black onyx style  celtic eing  vintage ring  boho ring size 6   rafaella jewelry\n",
      "\n",
      "\n"
     ]
    }
   ],
   "source": [
    "# print('Generate porter')\n",
    "# train['name_p'] = train['name'].astype(str).apply(lambda x:stem_str(x.lower(),porter))\n",
    "# test['name_p'] = test['name'].astype(str).apply(lambda x:stem_str(x.lower(),porter))"
   ]
  },
  {
   "cell_type": "code",
   "execution_count": null,
   "metadata": {
    "collapsed": true
   },
   "outputs": [],
   "source": []
  }
 ],
 "metadata": {
  "kernelspec": {
   "display_name": "Python 3",
   "language": "python",
   "name": "python3"
  }
 },
 "nbformat": 4,
 "nbformat_minor": 2
}
